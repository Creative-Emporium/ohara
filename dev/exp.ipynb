{
 "cells": [
  {
   "cell_type": "code",
   "execution_count": 1,
   "metadata": {},
   "outputs": [
    {
     "name": "stderr",
     "output_type": "stream",
     "text": [
      "/Users/schoudhari/miniforge3/lib/python3.10/site-packages/tqdm/auto.py:21: TqdmWarning: IProgress not found. Please update jupyter and ipywidgets. See https://ipywidgets.readthedocs.io/en/stable/user_install.html\n",
      "  from .autonotebook import tqdm as notebook_tqdm\n"
     ]
    }
   ],
   "source": [
    "import lightning as L\n",
    "from huggingface_hub import PyTorchModelHubMixin\n",
    "from transformers import AutoModel\n",
    "import ohara.models.phi as phi\n",
    "import torch"
   ]
  },
  {
   "cell_type": "code",
   "execution_count": 3,
   "metadata": {},
   "outputs": [
    {
     "name": "stderr",
     "output_type": "stream",
     "text": [
      "config.json: 100%|██████████| 863/863 [00:00<00:00, 3.19MB/s]\n",
      "model.safetensors.index.json: 100%|██████████| 35.7k/35.7k [00:00<00:00, 178kB/s]\n",
      "model-00001-of-00002.safetensors: 100%|██████████| 5.00G/5.00G [08:04<00:00, 10.3MB/s]\n",
      "model-00002-of-00002.safetensors: 100%|██████████| 564M/564M [00:54<00:00, 10.4MB/s]\n",
      "Downloading shards: 100%|██████████| 2/2 [09:00<00:00, 270.21s/it]\n",
      "Loading checkpoint shards: 100%|██████████| 2/2 [00:00<00:00,  3.35it/s]\n"
     ]
    }
   ],
   "source": [
    "with torch.device(\"meta\"):\n",
    "        model_name=\"microsoft/phi-2\"\n",
    "        cfg = phi.PhiConfig()\n",
    "        model = phi.Phi(cfg)\n",
    "        hf_model = AutoModel.from_pretrained(model_name)\n",
    "        hf_model\n",
    "        mask = torch.full((1, 1, cfg.seq_len, cfg.seq_len), float(\"-inf\"))"
   ]
  },
  {
   "cell_type": "code",
   "execution_count": 1,
   "metadata": {},
   "outputs": [
    {
     "data": {
      "text/html": [
       "<pre style=\"white-space:pre;overflow-x:auto;line-height:normal;font-family:Menlo,'DejaVu Sans Mono',consolas,'Courier New',monospace\">Manim Community <span style=\"color: #008000; text-decoration-color: #008000\">v0.18.0</span>\n",
       "\n",
       "</pre>\n"
      ],
      "text/plain": [
       "Manim Community \u001b[32mv0.\u001b[0m\u001b[32m18.0\u001b[0m\n",
       "\n"
      ]
     },
     "metadata": {},
     "output_type": "display_data"
    },
    {
     "name": "stdout",
     "output_type": "stream",
     "text": [
      "The manim module is not an IPython extension.\n"
     ]
    }
   ],
   "source": [
    "from manim import *\n",
    "%load_ext manim"
   ]
  },
  {
   "cell_type": "code",
   "execution_count": 2,
   "metadata": {},
   "outputs": [
    {
     "name": "stderr",
     "output_type": "stream",
     "text": [
      "                                                                                               \r"
     ]
    },
    {
     "data": {
      "text/html": [
       "<video src=\"media/jupyter/RotatingSphere@2024-04-07@11-01-12.mp4\" controls autoplay loop style=\"max-width: 60%;\"  >\n",
       "      Your browser does not support the <code>video</code> element.\n",
       "    </video>"
      ],
      "text/plain": [
       "<IPython.core.display.Video object>"
      ]
     },
     "metadata": {},
     "output_type": "display_data"
    }
   ],
   "source": [
    "%%manim -qm -v WARNING RotatingSphere\n",
    "\n",
    "class RotatingSphere(ThreeDScene):\n",
    "    def construct(self):\n",
    "        # Create a sphere\n",
    "        sphere = Sphere(radius=1, resolution=(30, 30)).set_color(BLUE)\n",
    "        \n",
    "        # Add the sphere to the scene\n",
    "        self.add(sphere)\n",
    "        \n",
    "        # Set the camera's initial position\n",
    "        self.set_camera_orientation(phi=75 * DEGREES, theta=30*DEGREES)\n",
    "        \n",
    "        # Rotate the sphere\n",
    "        self.play(Rotate(sphere, angle=2*PI, axis=UP), run_time=3)\n",
    "\n",
    "        # Keep the final state on screen\n",
    "        self.wait()\n"
   ]
  },
  {
   "cell_type": "code",
   "execution_count": 3,
   "metadata": {},
   "outputs": [
    {
     "name": "stderr",
     "output_type": "stream",
     "text": [
      "                                                            \r"
     ]
    },
    {
     "data": {
      "text/html": [
       "<video src=\"media/jupyter/HollowSphereWithVector@2024-04-07@11-14-57.mp4\" controls autoplay loop style=\"max-width: 60%;\"  >\n",
       "      Your browser does not support the <code>video</code> element.\n",
       "    </video>"
      ],
      "text/plain": [
       "<IPython.core.display.Video object>"
      ]
     },
     "metadata": {},
     "output_type": "display_data"
    }
   ],
   "source": [
    "%%manim -qm -v WARNING HollowSphereWithVector\n",
    "\n",
    "from manim import *\n",
    "\n",
    "class HollowSphereWithVector(ThreeDScene):\n",
    "    def construct(self):\n",
    "        # Create a hollow sphere by using a wireframe sphere\n",
    "        sphere = Sphere(radius=2, resolution=(16, 32)).set_color(WHITE).set_opacity(0.5).set_style(fill_opacity=0, stroke_opacity=0.5)\n",
    "        \n",
    "        # Create a vector from the origin to a point on the sphere\n",
    "        vector_to_sphere = Arrow(start=ORIGIN, end=np.array([1.4, 1.4, 1.4]), buff=0, color=YELLOW)\n",
    "        \n",
    "        # Add a three-dimensional axes grid\n",
    "        axes = ThreeDAxes()\n",
    "        \n",
    "        # Add the sphere, the vector, and the axes to the scene\n",
    "        self.add(axes, sphere, vector_to_sphere)\n",
    "        \n",
    "        # Set the initial camera orientation for a good viewing angle\n",
    "        self.set_camera_orientation(phi=60 * DEGREES, theta=45 * DEGREES)\n",
    "        \n",
    "        # Rotate the scene to show the 3D effect\n",
    "        self.begin_ambient_camera_rotation(rate=0.2)  # Start rotating the camera\n",
    "        self.wait(5)  # Wait (or \"hold\") for a few seconds\n",
    "        self.stop_ambient_camera_rotation()  # Stop the camera rotation\n",
    "        \n",
    "        # Keep the final state for a moment before ending\n",
    "        self.wait()\n"
   ]
  },
  {
   "cell_type": "code",
   "execution_count": 4,
   "metadata": {},
   "outputs": [
    {
     "name": "stderr",
     "output_type": "stream",
     "text": [
      "                                                            \r"
     ]
    },
    {
     "data": {
      "text/html": [
       "<video src=\"media/jupyter/HollowSphereWithVectorLabeled@2024-04-07@11-18-02.mp4\" controls autoplay loop style=\"max-width: 60%;\"  >\n",
       "      Your browser does not support the <code>video</code> element.\n",
       "    </video>"
      ],
      "text/plain": [
       "<IPython.core.display.Video object>"
      ]
     },
     "metadata": {},
     "output_type": "display_data"
    }
   ],
   "source": [
    "%%manim -qm -v WARNING HollowSphereWithVectorLabeled\n",
    "\n",
    "from manim import *\n",
    "\n",
    "class HollowSphereWithVectorLabeled(ThreeDScene):\n",
    "    def construct(self):\n",
    "        # Create a hollow sphere with fewer subdivisions for a cleaner look\n",
    "        sphere = Sphere(radius=2, resolution=(8, 16)).set_color(WHITE).set_opacity(0.5).set_style(fill_opacity=0, stroke_opacity=0.5)\n",
    "        \n",
    "        # Create a vector from the origin to a point on the sphere\n",
    "        vector_to_sphere = Arrow(start=ORIGIN, end=np.array([1.4, 1.4, 1.4]), buff=0, color=YELLOW)\n",
    "        \n",
    "        # Label for the vector\n",
    "        label = MathTex(\"5\", color=RED).next_to(vector_to_sphere.get_end(), RIGHT*0.5)\n",
    "        \n",
    "        # Add a three-dimensional axes grid with less density\n",
    "        axes = ThreeDAxes(x_range=[-3,3,1], y_range=[-3,3,1], z_range=[-3,3,1])\n",
    "        \n",
    "        # Add the sphere, the vector, the label, and the axes to the scene\n",
    "        self.add(axes, sphere, vector_to_sphere, label)\n",
    "        \n",
    "        # Set the initial camera orientation for a good viewing angle\n",
    "        self.set_camera_orientation(phi=60 * DEGREES, theta=45 * DEGREES)\n",
    "        \n",
    "        # Rotate the scene to show the 3D effect\n",
    "        self.begin_ambient_camera_rotation(rate=0.2)  # Start rotating the camera\n",
    "        self.wait(5)  # Wait (or \"hold\") for a few seconds\n",
    "        self.stop_ambient_camera_rotation()  # Stop the camera rotation\n",
    "        \n",
    "        # Keep the final state for a moment before ending\n",
    "        self.wait()\n"
   ]
  },
  {
   "cell_type": "code",
   "execution_count": 5,
   "metadata": {},
   "outputs": [
    {
     "ename": "ValueError",
     "evalue": "operands could not be broadcast together with shapes (4,) (3,) ",
     "output_type": "error",
     "traceback": [
      "\u001b[0;31m---------------------------------------------------------------------------\u001b[0m",
      "\u001b[0;31mValueError\u001b[0m                                Traceback (most recent call last)",
      "Cell \u001b[0;32mIn[5], line 1\u001b[0m\n\u001b[0;32m----> 1\u001b[0m \u001b[43mget_ipython\u001b[49m\u001b[43m(\u001b[49m\u001b[43m)\u001b[49m\u001b[38;5;241;43m.\u001b[39;49m\u001b[43mrun_cell_magic\u001b[49m\u001b[43m(\u001b[49m\u001b[38;5;124;43m'\u001b[39;49m\u001b[38;5;124;43mmanim\u001b[39;49m\u001b[38;5;124;43m'\u001b[39;49m\u001b[43m,\u001b[49m\u001b[43m \u001b[49m\u001b[38;5;124;43m'\u001b[39;49m\u001b[38;5;124;43m-qm -v WARNING VectorProjection2Dto3D\u001b[39;49m\u001b[38;5;124;43m'\u001b[39;49m\u001b[43m,\u001b[49m\u001b[43m \u001b[49m\u001b[38;5;124;43m'\u001b[39;49m\u001b[38;5;130;43;01m\\n\u001b[39;49;00m\u001b[38;5;124;43mfrom manim import *\u001b[39;49m\u001b[38;5;130;43;01m\\n\u001b[39;49;00m\u001b[38;5;130;43;01m\\n\u001b[39;49;00m\u001b[38;5;124;43mclass VectorProjection2Dto3D(ThreeDScene):\u001b[39;49m\u001b[38;5;130;43;01m\\n\u001b[39;49;00m\u001b[38;5;124;43m    def construct(self):\u001b[39;49m\u001b[38;5;130;43;01m\\n\u001b[39;49;00m\u001b[38;5;124;43m        # Define 5 vectors in 2D\u001b[39;49m\u001b[38;5;130;43;01m\\n\u001b[39;49;00m\u001b[38;5;124;43m        vectors_2d = [\u001b[39;49m\u001b[38;5;130;43;01m\\n\u001b[39;49;00m\u001b[38;5;124;43m            RIGHT + 2*UP,\u001b[39;49m\u001b[38;5;130;43;01m\\n\u001b[39;49;00m\u001b[38;5;124;43m            2*RIGHT + UP,\u001b[39;49m\u001b[38;5;130;43;01m\\n\u001b[39;49;00m\u001b[38;5;124;43m            LEFT + DOWN,\u001b[39;49m\u001b[38;5;130;43;01m\\n\u001b[39;49;00m\u001b[38;5;124;43m            3*LEFT + 0.5*UP,\u001b[39;49m\u001b[38;5;130;43;01m\\n\u001b[39;49;00m\u001b[38;5;124;43m            DOWN + 0.5*RIGHT\u001b[39;49m\u001b[38;5;130;43;01m\\n\u001b[39;49;00m\u001b[38;5;124;43m        ]\u001b[39;49m\u001b[38;5;130;43;01m\\n\u001b[39;49;00m\u001b[38;5;124;43m        \u001b[39;49m\u001b[38;5;130;43;01m\\n\u001b[39;49;00m\u001b[38;5;124;43m        # Convert 2D vectors to 3D by adding a z-component of 0\u001b[39;49m\u001b[38;5;130;43;01m\\n\u001b[39;49;00m\u001b[38;5;124;43m        vectors_3d = [np.append(vec, 0) for vec in vectors_2d]\u001b[39;49m\u001b[38;5;130;43;01m\\n\u001b[39;49;00m\u001b[38;5;124;43m        \u001b[39;49m\u001b[38;5;130;43;01m\\n\u001b[39;49;00m\u001b[38;5;124;43m        # Create Arrow objects for each vector and add them to the scene\u001b[39;49m\u001b[38;5;130;43;01m\\n\u001b[39;49;00m\u001b[38;5;124;43m        arrows = [Arrow3D(start=ORIGIN, end=vec, color=random_bright_color()) for vec in vectors_3d]\u001b[39;49m\u001b[38;5;130;43;01m\\n\u001b[39;49;00m\u001b[38;5;124;43m        for arrow in arrows:\u001b[39;49m\u001b[38;5;130;43;01m\\n\u001b[39;49;00m\u001b[38;5;124;43m            self.add(arrow)\u001b[39;49m\u001b[38;5;130;43;01m\\n\u001b[39;49;00m\u001b[38;5;124;43m        \u001b[39;49m\u001b[38;5;130;43;01m\\n\u001b[39;49;00m\u001b[38;5;124;43m        # Add a ThreeDAxes for reference\u001b[39;49m\u001b[38;5;130;43;01m\\n\u001b[39;49;00m\u001b[38;5;124;43m        axes = ThreeDAxes()\u001b[39;49m\u001b[38;5;130;43;01m\\n\u001b[39;49;00m\u001b[38;5;124;43m        self.add(axes)\u001b[39;49m\u001b[38;5;130;43;01m\\n\u001b[39;49;00m\u001b[38;5;124;43m        \u001b[39;49m\u001b[38;5;130;43;01m\\n\u001b[39;49;00m\u001b[38;5;124;43m        # Set the initial camera orientation\u001b[39;49m\u001b[38;5;130;43;01m\\n\u001b[39;49;00m\u001b[38;5;124;43m        self.set_camera_orientation(phi=70 * DEGREES, theta=-45 * DEGREES)\u001b[39;49m\u001b[38;5;130;43;01m\\n\u001b[39;49;00m\u001b[38;5;124;43m        \u001b[39;49m\u001b[38;5;130;43;01m\\n\u001b[39;49;00m\u001b[38;5;124;43m        # Rotate the scene to showcase the 3D projection\u001b[39;49m\u001b[38;5;130;43;01m\\n\u001b[39;49;00m\u001b[38;5;124;43m        self.begin_ambient_camera_rotation(rate=0.2)  # Start rotating the camera\u001b[39;49m\u001b[38;5;130;43;01m\\n\u001b[39;49;00m\u001b[38;5;124;43m        self.wait(5)  # Animation duration\u001b[39;49m\u001b[38;5;130;43;01m\\n\u001b[39;49;00m\u001b[38;5;124;43m        self.stop_ambient_camera_rotation()  # Stop the camera rotation\u001b[39;49m\u001b[38;5;130;43;01m\\n\u001b[39;49;00m\u001b[38;5;124;43m        \u001b[39;49m\u001b[38;5;130;43;01m\\n\u001b[39;49;00m\u001b[38;5;124;43m        self.wait()\u001b[39;49m\u001b[38;5;130;43;01m\\n\u001b[39;49;00m\u001b[38;5;124;43m'\u001b[39;49m\u001b[43m)\u001b[49m\n",
      "File \u001b[0;32m~/miniforge3/lib/python3.10/site-packages/IPython/core/interactiveshell.py:2493\u001b[0m, in \u001b[0;36mInteractiveShell.run_cell_magic\u001b[0;34m(self, magic_name, line, cell)\u001b[0m\n\u001b[1;32m   2491\u001b[0m \u001b[38;5;28;01mwith\u001b[39;00m \u001b[38;5;28mself\u001b[39m\u001b[38;5;241m.\u001b[39mbuiltin_trap:\n\u001b[1;32m   2492\u001b[0m     args \u001b[38;5;241m=\u001b[39m (magic_arg_s, cell)\n\u001b[0;32m-> 2493\u001b[0m     result \u001b[38;5;241m=\u001b[39m \u001b[43mfn\u001b[49m\u001b[43m(\u001b[49m\u001b[38;5;241;43m*\u001b[39;49m\u001b[43margs\u001b[49m\u001b[43m,\u001b[49m\u001b[43m \u001b[49m\u001b[38;5;241;43m*\u001b[39;49m\u001b[38;5;241;43m*\u001b[39;49m\u001b[43mkwargs\u001b[49m\u001b[43m)\u001b[49m\n\u001b[1;32m   2495\u001b[0m \u001b[38;5;66;03m# The code below prevents the output from being displayed\u001b[39;00m\n\u001b[1;32m   2496\u001b[0m \u001b[38;5;66;03m# when using magics with decorator @output_can_be_silenced\u001b[39;00m\n\u001b[1;32m   2497\u001b[0m \u001b[38;5;66;03m# when the last Python token in the expression is a ';'.\u001b[39;00m\n\u001b[1;32m   2498\u001b[0m \u001b[38;5;28;01mif\u001b[39;00m \u001b[38;5;28mgetattr\u001b[39m(fn, magic\u001b[38;5;241m.\u001b[39mMAGIC_OUTPUT_CAN_BE_SILENCED, \u001b[38;5;28;01mFalse\u001b[39;00m):\n",
      "File \u001b[0;32m~/miniforge3/lib/python3.10/site-packages/manim/utils/ipython_magic.py:141\u001b[0m, in \u001b[0;36mManimMagic.manim\u001b[0;34m(self, line, cell, local_ns)\u001b[0m\n\u001b[1;32m    139\u001b[0m     SceneClass \u001b[38;5;241m=\u001b[39m local_ns[config[\u001b[38;5;124m\"\u001b[39m\u001b[38;5;124mscene_names\u001b[39m\u001b[38;5;124m\"\u001b[39m][\u001b[38;5;241m0\u001b[39m]]\n\u001b[1;32m    140\u001b[0m     scene \u001b[38;5;241m=\u001b[39m SceneClass(renderer\u001b[38;5;241m=\u001b[39mrenderer)\n\u001b[0;32m--> 141\u001b[0m     \u001b[43mscene\u001b[49m\u001b[38;5;241;43m.\u001b[39;49m\u001b[43mrender\u001b[49m\u001b[43m(\u001b[49m\u001b[43m)\u001b[49m\n\u001b[1;32m    142\u001b[0m \u001b[38;5;28;01mfinally\u001b[39;00m:\n\u001b[1;32m    143\u001b[0m     \u001b[38;5;66;03m# Shader cache becomes invalid as the context is destroyed\u001b[39;00m\n\u001b[1;32m    144\u001b[0m     shader_program_cache\u001b[38;5;241m.\u001b[39mclear()\n",
      "File \u001b[0;32m~/miniforge3/lib/python3.10/site-packages/manim/scene/scene.py:223\u001b[0m, in \u001b[0;36mScene.render\u001b[0;34m(self, preview)\u001b[0m\n\u001b[1;32m    221\u001b[0m \u001b[38;5;28mself\u001b[39m\u001b[38;5;241m.\u001b[39msetup()\n\u001b[1;32m    222\u001b[0m \u001b[38;5;28;01mtry\u001b[39;00m:\n\u001b[0;32m--> 223\u001b[0m     \u001b[38;5;28;43mself\u001b[39;49m\u001b[38;5;241;43m.\u001b[39;49m\u001b[43mconstruct\u001b[49m\u001b[43m(\u001b[49m\u001b[43m)\u001b[49m\n\u001b[1;32m    224\u001b[0m \u001b[38;5;28;01mexcept\u001b[39;00m EndSceneEarlyException:\n\u001b[1;32m    225\u001b[0m     \u001b[38;5;28;01mpass\u001b[39;00m\n",
      "File \u001b[0;32m<string>:19\u001b[0m, in \u001b[0;36mconstruct\u001b[0;34m(self)\u001b[0m\n",
      "File \u001b[0;32m<string>:19\u001b[0m, in \u001b[0;36m<listcomp>\u001b[0;34m(.0)\u001b[0m\n",
      "File \u001b[0;32m~/miniforge3/lib/python3.10/site-packages/manim/mobject/three_d/three_dimensions.py:1148\u001b[0m, in \u001b[0;36mArrow3D.__init__\u001b[0;34m(self, start, end, thickness, height, base_radius, color, **kwargs)\u001b[0m\n\u001b[1;32m   1138\u001b[0m \u001b[38;5;28;01mdef\u001b[39;00m \u001b[38;5;21m__init__\u001b[39m(\n\u001b[1;32m   1139\u001b[0m     \u001b[38;5;28mself\u001b[39m,\n\u001b[1;32m   1140\u001b[0m     start: np\u001b[38;5;241m.\u001b[39mndarray \u001b[38;5;241m=\u001b[39m LEFT,\n\u001b[0;32m   (...)\u001b[0m\n\u001b[1;32m   1146\u001b[0m     \u001b[38;5;241m*\u001b[39m\u001b[38;5;241m*\u001b[39mkwargs,\n\u001b[1;32m   1147\u001b[0m ) \u001b[38;5;241m-\u001b[39m\u001b[38;5;241m>\u001b[39m \u001b[38;5;28;01mNone\u001b[39;00m:\n\u001b[0;32m-> 1148\u001b[0m     \u001b[38;5;28;43msuper\u001b[39;49m\u001b[43m(\u001b[49m\u001b[43m)\u001b[49m\u001b[38;5;241;43m.\u001b[39;49m\u001b[38;5;21;43m__init__\u001b[39;49m\u001b[43m(\u001b[49m\n\u001b[1;32m   1149\u001b[0m \u001b[43m        \u001b[49m\u001b[43mstart\u001b[49m\u001b[38;5;241;43m=\u001b[39;49m\u001b[43mstart\u001b[49m\u001b[43m,\u001b[49m\u001b[43m \u001b[49m\u001b[43mend\u001b[49m\u001b[38;5;241;43m=\u001b[39;49m\u001b[43mend\u001b[49m\u001b[43m,\u001b[49m\u001b[43m \u001b[49m\u001b[43mthickness\u001b[49m\u001b[38;5;241;43m=\u001b[39;49m\u001b[43mthickness\u001b[49m\u001b[43m,\u001b[49m\u001b[43m \u001b[49m\u001b[43mcolor\u001b[49m\u001b[38;5;241;43m=\u001b[39;49m\u001b[43mcolor\u001b[49m\u001b[43m,\u001b[49m\u001b[43m \u001b[49m\u001b[38;5;241;43m*\u001b[39;49m\u001b[38;5;241;43m*\u001b[39;49m\u001b[43mkwargs\u001b[49m\n\u001b[1;32m   1150\u001b[0m \u001b[43m    \u001b[49m\u001b[43m)\u001b[49m\n\u001b[1;32m   1152\u001b[0m     \u001b[38;5;28mself\u001b[39m\u001b[38;5;241m.\u001b[39mlength \u001b[38;5;241m=\u001b[39m np\u001b[38;5;241m.\u001b[39mlinalg\u001b[38;5;241m.\u001b[39mnorm(\u001b[38;5;28mself\u001b[39m\u001b[38;5;241m.\u001b[39mvect)\n\u001b[1;32m   1153\u001b[0m     \u001b[38;5;28mself\u001b[39m\u001b[38;5;241m.\u001b[39mset_start_and_end_attrs(\n\u001b[1;32m   1154\u001b[0m         \u001b[38;5;28mself\u001b[39m\u001b[38;5;241m.\u001b[39mstart,\n\u001b[1;32m   1155\u001b[0m         \u001b[38;5;28mself\u001b[39m\u001b[38;5;241m.\u001b[39mend \u001b[38;5;241m-\u001b[39m height \u001b[38;5;241m*\u001b[39m \u001b[38;5;28mself\u001b[39m\u001b[38;5;241m.\u001b[39mdirection,\n\u001b[1;32m   1156\u001b[0m         \u001b[38;5;241m*\u001b[39m\u001b[38;5;241m*\u001b[39mkwargs,\n\u001b[1;32m   1157\u001b[0m     )\n",
      "File \u001b[0;32m~/miniforge3/lib/python3.10/site-packages/manim/mobject/three_d/three_dimensions.py:916\u001b[0m, in \u001b[0;36mLine3D.__init__\u001b[0;34m(self, start, end, thickness, color, **kwargs)\u001b[0m\n\u001b[1;32m    907\u001b[0m \u001b[38;5;28;01mdef\u001b[39;00m \u001b[38;5;21m__init__\u001b[39m(\n\u001b[1;32m    908\u001b[0m     \u001b[38;5;28mself\u001b[39m,\n\u001b[1;32m    909\u001b[0m     start: np\u001b[38;5;241m.\u001b[39mndarray \u001b[38;5;241m=\u001b[39m LEFT,\n\u001b[0;32m   (...)\u001b[0m\n\u001b[1;32m    913\u001b[0m     \u001b[38;5;241m*\u001b[39m\u001b[38;5;241m*\u001b[39mkwargs,\n\u001b[1;32m    914\u001b[0m ):\n\u001b[1;32m    915\u001b[0m     \u001b[38;5;28mself\u001b[39m\u001b[38;5;241m.\u001b[39mthickness \u001b[38;5;241m=\u001b[39m thickness\n\u001b[0;32m--> 916\u001b[0m     \u001b[38;5;28;43mself\u001b[39;49m\u001b[38;5;241;43m.\u001b[39;49m\u001b[43mset_start_and_end_attrs\u001b[49m\u001b[43m(\u001b[49m\u001b[43mstart\u001b[49m\u001b[43m,\u001b[49m\u001b[43m \u001b[49m\u001b[43mend\u001b[49m\u001b[43m,\u001b[49m\u001b[43m \u001b[49m\u001b[38;5;241;43m*\u001b[39;49m\u001b[38;5;241;43m*\u001b[39;49m\u001b[43mkwargs\u001b[49m\u001b[43m)\u001b[49m\n\u001b[1;32m    917\u001b[0m     \u001b[38;5;28;01mif\u001b[39;00m color \u001b[38;5;129;01mis\u001b[39;00m \u001b[38;5;129;01mnot\u001b[39;00m \u001b[38;5;28;01mNone\u001b[39;00m:\n\u001b[1;32m    918\u001b[0m         \u001b[38;5;28mself\u001b[39m\u001b[38;5;241m.\u001b[39mset_color(color)\n",
      "File \u001b[0;32m~/miniforge3/lib/python3.10/site-packages/manim/mobject/three_d/three_dimensions.py:937\u001b[0m, in \u001b[0;36mLine3D.set_start_and_end_attrs\u001b[0;34m(self, start, end, **kwargs)\u001b[0m\n\u001b[1;32m    935\u001b[0m rough_start \u001b[38;5;241m=\u001b[39m \u001b[38;5;28mself\u001b[39m\u001b[38;5;241m.\u001b[39mpointify(start)\n\u001b[1;32m    936\u001b[0m rough_end \u001b[38;5;241m=\u001b[39m \u001b[38;5;28mself\u001b[39m\u001b[38;5;241m.\u001b[39mpointify(end)\n\u001b[0;32m--> 937\u001b[0m \u001b[38;5;28mself\u001b[39m\u001b[38;5;241m.\u001b[39mvect \u001b[38;5;241m=\u001b[39m \u001b[43mrough_end\u001b[49m\u001b[43m \u001b[49m\u001b[38;5;241;43m-\u001b[39;49m\u001b[43m \u001b[49m\u001b[43mrough_start\u001b[49m\n\u001b[1;32m    938\u001b[0m \u001b[38;5;28mself\u001b[39m\u001b[38;5;241m.\u001b[39mlength \u001b[38;5;241m=\u001b[39m np\u001b[38;5;241m.\u001b[39mlinalg\u001b[38;5;241m.\u001b[39mnorm(\u001b[38;5;28mself\u001b[39m\u001b[38;5;241m.\u001b[39mvect)\n\u001b[1;32m    939\u001b[0m \u001b[38;5;28mself\u001b[39m\u001b[38;5;241m.\u001b[39mdirection \u001b[38;5;241m=\u001b[39m normalize(\u001b[38;5;28mself\u001b[39m\u001b[38;5;241m.\u001b[39mvect)\n",
      "\u001b[0;31mValueError\u001b[0m: operands could not be broadcast together with shapes (4,) (3,) "
     ]
    }
   ],
   "source": [
    "%%manim -qm -v WARNING VectorProjection2Dto3D\n",
    "\n",
    "from manim import *\n",
    "\n",
    "class VectorProjection2Dto3D(ThreeDScene):\n",
    "    def construct(self):\n",
    "        # Define 5 vectors in 2D\n",
    "        vectors_2d = [\n",
    "            RIGHT + 2*UP,\n",
    "            2*RIGHT + UP,\n",
    "            LEFT + DOWN,\n",
    "            3*LEFT + 0.5*UP,\n",
    "            DOWN + 0.5*RIGHT\n",
    "        ]\n",
    "        \n",
    "        # Convert 2D vectors to 3D by adding a z-component of 0\n",
    "        vectors_3d = [np.append(vec, 0) for vec in vectors_2d]\n",
    "        \n",
    "        # Create Arrow objects for each vector and add them to the scene\n",
    "        arrows = [Arrow3D(start=ORIGIN, end=vec, color=random_bright_color()) for vec in vectors_3d]\n",
    "        for arrow in arrows:\n",
    "            self.add(arrow)\n",
    "        \n",
    "        # Add a ThreeDAxes for reference\n",
    "        axes = ThreeDAxes()\n",
    "        self.add(axes)\n",
    "        \n",
    "        # Set the initial camera orientation\n",
    "        self.set_camera_orientation(phi=70 * DEGREES, theta=-45 * DEGREES)\n",
    "        \n",
    "        # Rotate the scene to showcase the 3D projection\n",
    "        self.begin_ambient_camera_rotation(rate=0.2)  # Start rotating the camera\n",
    "        self.wait(5)  # Animation duration\n",
    "        self.stop_ambient_camera_rotation()  # Stop the camera rotation\n",
    "        \n",
    "        self.wait()\n"
   ]
  },
  {
   "cell_type": "code",
   "execution_count": 6,
   "metadata": {},
   "outputs": [
    {
     "data": {
      "text/html": [
       "<video src=\"media/jupyter/VectorProjection3D@2024-04-07@11-26-00.mp4\" controls autoplay loop style=\"max-width: 60%;\"  >\n",
       "      Your browser does not support the <code>video</code> element.\n",
       "    </video>"
      ],
      "text/plain": [
       "<IPython.core.display.Video object>"
      ]
     },
     "metadata": {},
     "output_type": "display_data"
    }
   ],
   "source": [
    "%%manim -qm -v WARNING VectorProjection3D\n",
    "\n",
    "from manim import *\n",
    "\n",
    "class VectorProjection3D(ThreeDScene):\n",
    "    def construct(self):\n",
    "        # Define the axes\n",
    "        axes = ThreeDAxes(x_range=[-3, 3, 1], y_range=[-3, 3, 1], z_range=[-3, 3, 1])\n",
    "        \n",
    "        # Define the original 2D vectors (in 3D space)\n",
    "        v1 = Arrow(start=[0, 0, 0], end=[1, 2, 0], color=BLUE, buff=0)\n",
    "        v2 = Arrow(start=[0, 0, 0], end=[2, -1, 0], color=GREEN, buff=0)\n",
    "        v3 = Arrow(start=[0, 0, 0], end=[-1, 1, 0], color=RED, buff=0)\n",
    "        \n",
    "        # Add the axes and vectors to the scene\n",
    "        self.add(axes, v1, v2, v3)\n",
    "        \n",
    "        # Set the camera orientation\n",
    "        self.set_camera_orientation(phi=75 * DEGREES, theta=30*DEGREES)\n",
    "        self.wait()\n"
   ]
  },
  {
   "cell_type": "code",
   "execution_count": 7,
   "metadata": {},
   "outputs": [
    {
     "name": "stderr",
     "output_type": "stream",
     "text": [
      "                                                            \r"
     ]
    },
    {
     "data": {
      "text/html": [
       "<video src=\"media/jupyter/VectorProjectionAndRotation3D@2024-04-07@11-47-13.mp4\" controls autoplay loop style=\"max-width: 60%;\"  >\n",
       "      Your browser does not support the <code>video</code> element.\n",
       "    </video>"
      ],
      "text/plain": [
       "<IPython.core.display.Video object>"
      ]
     },
     "metadata": {},
     "output_type": "display_data"
    }
   ],
   "source": [
    "%%manim -qm -v WARNING VectorProjectionAndRotation3D\n",
    "\n",
    "from manim import *\n",
    "\n",
    "class VectorProjectionAndRotation3D(ThreeDScene):\n",
    "    def construct(self):\n",
    "        axes = ThreeDAxes(x_range=[-3, 3, 1], y_range=[-3, 3, 1], z_range=[-3, 5, 1])\n",
    "        \n",
    "        # Original vectors (projected to lie on the XY plane)\n",
    "        v1 = Arrow3D(start=[0, 0, 0], end=[1, 2, 0], color=BLUE)\n",
    "        v2 = Arrow3D(start=[0, 0, 0], end=[2, -1, 0], color=GREEN)\n",
    "        v3 = Arrow3D(start=[0, 0, 0], end=[-1, 1, 0], color=RED)\n",
    "        \n",
    "        # Transformed vectors\n",
    "        v1_new = Arrow3D(start=[0, 0, 0], end=[2.12, 2, 0.71], color=BLUE)\n",
    "        v2_new = Arrow3D(start=[0, 0, 0], end=[2.83, -1, 0], color=GREEN)\n",
    "        v3_new = Arrow3D(start=[0, 0, 0], end=[0.71, 1, 2.12], color=RED)\n",
    "        \n",
    "        # Add vectors to the scene\n",
    "        self.add(axes, v1, v2, v3, v1_new, v2_new, v3_new)\n",
    "        \n",
    "        # Set initial camera orientation\n",
    "        self.set_camera_orientation(phi=65 * DEGREES, theta=45*DEGREES)\n",
    "        \n",
    "        # Rotate the scene to showcase 3D effect\n",
    "        self.begin_ambient_camera_rotation(rate=0.2)\n",
    "        self.wait(5)\n",
    "        self.stop_ambient_camera_rotation()\n"
   ]
  },
  {
   "cell_type": "code",
   "execution_count": 26,
   "metadata": {},
   "outputs": [
    {
     "name": "stderr",
     "output_type": "stream",
     "text": [
      "                                                                                              \r"
     ]
    },
    {
     "data": {
      "text/html": [
       "<video src=\"media/jupyter/RotatingGrid3D@2024-04-07@13-06-41.mp4\" controls autoplay loop style=\"max-width: 60%;\"  >\n",
       "      Your browser does not support the <code>video</code> element.\n",
       "    </video>"
      ],
      "text/plain": [
       "<IPython.core.display.Video object>"
      ]
     },
     "metadata": {},
     "output_type": "display_data"
    }
   ],
   "source": [
    "%%manim -ql -v WARNING RotatingGrid3D\n",
    "\n",
    "from manim import *\n",
    "\n",
    "class RotatingGrid3D(ThreeDScene):\n",
    "    def construct(self):\n",
    "        # Create the 3D grid\n",
    "        grid = ThreeDAxes()\n",
    "        self.add(grid)\n",
    "        \n",
    "        v1 = np.array([2, 3, 0])\n",
    "        v2 = np.array([1, -2, 0])\n",
    "        v3 = np.array([-3, 1, 0])\n",
    "        \n",
    "        v1 = v1/np.linalg.norm(v1)\n",
    "        v2 = v2/np.linalg.norm(v2)\n",
    "        v3 = v3/np.linalg.norm(v3)\n",
    "\n",
    "        # Create the three vectors in the XY plane\n",
    "        vec1 = Vector(v1, color=BLUE)\n",
    "        vec2 = Vector(v2, color=RED)\n",
    "        vec3 = Vector(v3, color=GREEN)\n",
    "        # Group the vectors into a Mobject\n",
    "        vectors = VGroup(vec1, vec2, vec3)\n",
    "\n",
    "        # Add the vectors to the scene\n",
    "        self.add(vectors)\n",
    "        \n",
    "        proj_matrix = np.array([[1, 0, 1.2],\n",
    "                       [0.3, 1, 0],\n",
    "                       [3, 4, 1]])\n",
    "        \n",
    "        v1 = np.matmul(proj_matrix, v1) \n",
    "        v2 = np.matmul(proj_matrix, v2)\n",
    "        v3 = np.matmul(proj_matrix, v3)\n",
    "        \n",
    "        v1 = v1/np.linalg.norm(v1)\n",
    "        v2 = v2/np.linalg.norm(v2)\n",
    "        v3 = v3/np.linalg.norm(v3)\n",
    "        \n",
    "        vec21 = Vector(v1, color=BLUE)\n",
    "        vec22 = Vector(v2, color=RED)\n",
    "        vec23 = Vector(v3, color=GREEN)\n",
    "        vectors2 = VGroup(vec21, vec22, vec23)\n",
    "\n",
    "        # Rotate the scene\n",
    "        self.set_camera_orientation(phi=75 * DEGREES, theta=-30 * DEGREES)\n",
    "        self.begin_ambient_camera_rotation(rate=0.1)\n",
    "\n",
    "        # Animate the vectors being projected into 3D\n",
    "        self.play(\n",
    "            Transform(vectors, vectors2),\n",
    "            run_time=3\n",
    "        )\n",
    "\n",
    "        self.wait(3)"
   ]
  },
  {
   "cell_type": "code",
   "execution_count": null,
   "metadata": {},
   "outputs": [],
   "source": [
    "vec1 = Vector(v1, color=BLUE)\n",
    "        vec2 = Vector(v2, color=RED)\n",
    "        vec3 = Vector(v3, color=GREEN)"
   ]
  },
  {
   "cell_type": "code",
   "execution_count": 27,
   "metadata": {},
   "outputs": [
    {
     "ename": "TypeError",
     "evalue": "RotatingGrid3D.construct() missing 1 required positional argument: 'vector_lists'",
     "output_type": "error",
     "traceback": [
      "\u001b[0;31m---------------------------------------------------------------------------\u001b[0m",
      "\u001b[0;31mTypeError\u001b[0m                                 Traceback (most recent call last)",
      "Cell \u001b[0;32mIn[27], line 1\u001b[0m\n\u001b[0;32m----> 1\u001b[0m \u001b[43mget_ipython\u001b[49m\u001b[43m(\u001b[49m\u001b[43m)\u001b[49m\u001b[38;5;241;43m.\u001b[39;49m\u001b[43mrun_cell_magic\u001b[49m\u001b[43m(\u001b[49m\u001b[38;5;124;43m'\u001b[39;49m\u001b[38;5;124;43mmanim\u001b[39;49m\u001b[38;5;124;43m'\u001b[39;49m\u001b[43m,\u001b[49m\u001b[43m \u001b[49m\u001b[38;5;124;43m'\u001b[39;49m\u001b[38;5;124;43m-ql -v WARNING RotatingGrid3D\u001b[39;49m\u001b[38;5;124;43m'\u001b[39;49m\u001b[43m,\u001b[49m\u001b[43m \u001b[49m\u001b[38;5;124;43m'\u001b[39;49m\u001b[38;5;130;43;01m\\n\u001b[39;49;00m\u001b[38;5;124;43mclass RotatingGrid3D(ThreeDScene):\u001b[39;49m\u001b[38;5;130;43;01m\\n\u001b[39;49;00m\u001b[38;5;124;43m    def construct(self, vector_lists):\u001b[39;49m\u001b[38;5;130;43;01m\\n\u001b[39;49;00m\u001b[38;5;124;43m        # Create the 3D grid\u001b[39;49m\u001b[38;5;130;43;01m\\n\u001b[39;49;00m\u001b[38;5;124;43m        grid = self.create_grid()\u001b[39;49m\u001b[38;5;130;43;01m\\n\u001b[39;49;00m\u001b[38;5;124;43m        self.add(grid)\u001b[39;49m\u001b[38;5;130;43;01m\\n\u001b[39;49;00m\u001b[38;5;130;43;01m\\n\u001b[39;49;00m\u001b[38;5;124;43m        # Animate the vectors\u001b[39;49m\u001b[38;5;130;43;01m\\n\u001b[39;49;00m\u001b[38;5;124;43m        for vectors in vector_lists:\u001b[39;49m\u001b[38;5;130;43;01m\\n\u001b[39;49;00m\u001b[38;5;124;43m            self.animate_vectors(vectors)\u001b[39;49m\u001b[38;5;130;43;01m\\n\u001b[39;49;00m\u001b[38;5;130;43;01m\\n\u001b[39;49;00m\u001b[38;5;124;43m        self.set_camera_orientation(phi=75 * DEGREES, theta=-30 * DEGREES)\u001b[39;49m\u001b[38;5;130;43;01m\\n\u001b[39;49;00m\u001b[38;5;124;43m        self.begin_ambient_camera_rotation(rate=0.1)\u001b[39;49m\u001b[38;5;130;43;01m\\n\u001b[39;49;00m\u001b[38;5;124;43m        self.wait(3)\u001b[39;49m\u001b[38;5;130;43;01m\\n\u001b[39;49;00m\u001b[38;5;130;43;01m\\n\u001b[39;49;00m\u001b[38;5;124;43m    def create_grid(self):\u001b[39;49m\u001b[38;5;130;43;01m\\n\u001b[39;49;00m\u001b[38;5;124;43m        return ThreeDAxes()\u001b[39;49m\u001b[38;5;130;43;01m\\n\u001b[39;49;00m\u001b[38;5;130;43;01m\\n\u001b[39;49;00m\u001b[38;5;124;43m    def create_vectors(self, vectors):\u001b[39;49m\u001b[38;5;130;43;01m\\n\u001b[39;49;00m\u001b[38;5;124;43m        vector_group = VGroup()\u001b[39;49m\u001b[38;5;130;43;01m\\n\u001b[39;49;00m\u001b[38;5;124;43m        for v in vectors:\u001b[39;49m\u001b[38;5;130;43;01m\\n\u001b[39;49;00m\u001b[38;5;124;43m            vector_group.add(Vector(v / np.linalg.norm(v)))\u001b[39;49m\u001b[38;5;130;43;01m\\n\u001b[39;49;00m\u001b[38;5;124;43m        return vector_group\u001b[39;49m\u001b[38;5;130;43;01m\\n\u001b[39;49;00m\u001b[38;5;130;43;01m\\n\u001b[39;49;00m\u001b[38;5;124;43m    def project_vectors(self, vectors):\u001b[39;49m\u001b[38;5;130;43;01m\\n\u001b[39;49;00m\u001b[38;5;124;43m        proj_matrix = np.array([[1, 0, 1.2], [0.3, 1, 0], [3, 4, 1]])\u001b[39;49m\u001b[38;5;130;43;01m\\n\u001b[39;49;00m\u001b[38;5;124;43m        projected_vectors = []\u001b[39;49m\u001b[38;5;130;43;01m\\n\u001b[39;49;00m\u001b[38;5;124;43m        for v in vectors:\u001b[39;49m\u001b[38;5;130;43;01m\\n\u001b[39;49;00m\u001b[38;5;124;43m            projected_v = np.matmul(proj_matrix, v)\u001b[39;49m\u001b[38;5;130;43;01m\\n\u001b[39;49;00m\u001b[38;5;124;43m            projected_vectors.append(projected_v / np.linalg.norm(projected_v))\u001b[39;49m\u001b[38;5;130;43;01m\\n\u001b[39;49;00m\u001b[38;5;124;43m        return projected_vectors\u001b[39;49m\u001b[38;5;130;43;01m\\n\u001b[39;49;00m\u001b[38;5;130;43;01m\\n\u001b[39;49;00m\u001b[38;5;124;43m    def animate_vectors(self, vectors):\u001b[39;49m\u001b[38;5;130;43;01m\\n\u001b[39;49;00m\u001b[38;5;124;43m        vector_group = self.create_vectors(vectors)\u001b[39;49m\u001b[38;5;130;43;01m\\n\u001b[39;49;00m\u001b[38;5;124;43m        projected_vectors = self.project_vectors(vectors)\u001b[39;49m\u001b[38;5;130;43;01m\\n\u001b[39;49;00m\u001b[38;5;124;43m        projected_vector_group = self.create_vectors(projected_vectors)\u001b[39;49m\u001b[38;5;130;43;01m\\n\u001b[39;49;00m\u001b[38;5;124;43m        self.play(Transform(vector_group, projected_vector_group), run_time=3)\u001b[39;49m\u001b[38;5;130;43;01m\\n\u001b[39;49;00m\u001b[38;5;124;43m'\u001b[39;49m\u001b[43m)\u001b[49m\n",
      "File \u001b[0;32m~/miniforge3/lib/python3.10/site-packages/IPython/core/interactiveshell.py:2493\u001b[0m, in \u001b[0;36mInteractiveShell.run_cell_magic\u001b[0;34m(self, magic_name, line, cell)\u001b[0m\n\u001b[1;32m   2491\u001b[0m \u001b[38;5;28;01mwith\u001b[39;00m \u001b[38;5;28mself\u001b[39m\u001b[38;5;241m.\u001b[39mbuiltin_trap:\n\u001b[1;32m   2492\u001b[0m     args \u001b[38;5;241m=\u001b[39m (magic_arg_s, cell)\n\u001b[0;32m-> 2493\u001b[0m     result \u001b[38;5;241m=\u001b[39m \u001b[43mfn\u001b[49m\u001b[43m(\u001b[49m\u001b[38;5;241;43m*\u001b[39;49m\u001b[43margs\u001b[49m\u001b[43m,\u001b[49m\u001b[43m \u001b[49m\u001b[38;5;241;43m*\u001b[39;49m\u001b[38;5;241;43m*\u001b[39;49m\u001b[43mkwargs\u001b[49m\u001b[43m)\u001b[49m\n\u001b[1;32m   2495\u001b[0m \u001b[38;5;66;03m# The code below prevents the output from being displayed\u001b[39;00m\n\u001b[1;32m   2496\u001b[0m \u001b[38;5;66;03m# when using magics with decorator @output_can_be_silenced\u001b[39;00m\n\u001b[1;32m   2497\u001b[0m \u001b[38;5;66;03m# when the last Python token in the expression is a ';'.\u001b[39;00m\n\u001b[1;32m   2498\u001b[0m \u001b[38;5;28;01mif\u001b[39;00m \u001b[38;5;28mgetattr\u001b[39m(fn, magic\u001b[38;5;241m.\u001b[39mMAGIC_OUTPUT_CAN_BE_SILENCED, \u001b[38;5;28;01mFalse\u001b[39;00m):\n",
      "File \u001b[0;32m~/miniforge3/lib/python3.10/site-packages/manim/utils/ipython_magic.py:141\u001b[0m, in \u001b[0;36mManimMagic.manim\u001b[0;34m(self, line, cell, local_ns)\u001b[0m\n\u001b[1;32m    139\u001b[0m     SceneClass \u001b[38;5;241m=\u001b[39m local_ns[config[\u001b[38;5;124m\"\u001b[39m\u001b[38;5;124mscene_names\u001b[39m\u001b[38;5;124m\"\u001b[39m][\u001b[38;5;241m0\u001b[39m]]\n\u001b[1;32m    140\u001b[0m     scene \u001b[38;5;241m=\u001b[39m SceneClass(renderer\u001b[38;5;241m=\u001b[39mrenderer)\n\u001b[0;32m--> 141\u001b[0m     \u001b[43mscene\u001b[49m\u001b[38;5;241;43m.\u001b[39;49m\u001b[43mrender\u001b[49m\u001b[43m(\u001b[49m\u001b[43m)\u001b[49m\n\u001b[1;32m    142\u001b[0m \u001b[38;5;28;01mfinally\u001b[39;00m:\n\u001b[1;32m    143\u001b[0m     \u001b[38;5;66;03m# Shader cache becomes invalid as the context is destroyed\u001b[39;00m\n\u001b[1;32m    144\u001b[0m     shader_program_cache\u001b[38;5;241m.\u001b[39mclear()\n",
      "File \u001b[0;32m~/miniforge3/lib/python3.10/site-packages/manim/scene/scene.py:223\u001b[0m, in \u001b[0;36mScene.render\u001b[0;34m(self, preview)\u001b[0m\n\u001b[1;32m    221\u001b[0m \u001b[38;5;28mself\u001b[39m\u001b[38;5;241m.\u001b[39msetup()\n\u001b[1;32m    222\u001b[0m \u001b[38;5;28;01mtry\u001b[39;00m:\n\u001b[0;32m--> 223\u001b[0m     \u001b[38;5;28;43mself\u001b[39;49m\u001b[38;5;241;43m.\u001b[39;49m\u001b[43mconstruct\u001b[49m\u001b[43m(\u001b[49m\u001b[43m)\u001b[49m\n\u001b[1;32m    224\u001b[0m \u001b[38;5;28;01mexcept\u001b[39;00m EndSceneEarlyException:\n\u001b[1;32m    225\u001b[0m     \u001b[38;5;28;01mpass\u001b[39;00m\n",
      "\u001b[0;31mTypeError\u001b[0m: RotatingGrid3D.construct() missing 1 required positional argument: 'vector_lists'"
     ]
    }
   ],
   "source": [
    "%%manim -ql -v WARNING RotatingGrid3D\n",
    "\n",
    "class RotatingGrid3D(ThreeDScene):\n",
    "    def construct(self, vector_lists):\n",
    "        # Create the 3D grid\n",
    "        grid = self.create_grid()\n",
    "        self.add(grid)\n",
    "\n",
    "        # Animate the vectors\n",
    "        for vectors in vector_lists:\n",
    "            self.animate_vectors(vectors)\n",
    "\n",
    "        self.set_camera_orientation(phi=75 * DEGREES, theta=-30 * DEGREES)\n",
    "        self.begin_ambient_camera_rotation(rate=0.1)\n",
    "        self.wait(3)\n",
    "\n",
    "    def create_grid(self):\n",
    "        return ThreeDAxes()\n",
    "\n",
    "    def create_vectors(self, vectors):\n",
    "        vector_group = VGroup()\n",
    "        for v in vectors:\n",
    "            vector_group.add(Vector(v / np.linalg.norm(v)))\n",
    "        return vector_group\n",
    "\n",
    "    def project_vectors(self, vectors):\n",
    "        proj_matrix = np.array([[1, 0, 1.2], [0.3, 1, 0], [3, 4, 1]])\n",
    "        projected_vectors = []\n",
    "        for v in vectors:\n",
    "            projected_v = np.matmul(proj_matrix, v)\n",
    "            projected_vectors.append(projected_v / np.linalg.norm(projected_v))\n",
    "        return projected_vectors\n",
    "\n",
    "    def animate_vectors(self, vectors):\n",
    "        vector_group = self.create_vectors(vectors)\n",
    "        projected_vectors = self.project_vectors(vectors)\n",
    "        projected_vector_group = self.create_vectors(projected_vectors)\n",
    "        self.play(Transform(vector_group, projected_vector_group), run_time=3)"
   ]
  },
  {
   "cell_type": "code",
   "execution_count": 29,
   "metadata": {},
   "outputs": [
    {
     "name": "stderr",
     "output_type": "stream",
     "text": [
      "                                                                                                \r"
     ]
    },
    {
     "data": {
      "text/html": [
       "<video src=\"media/jupyter/RotatingGrid3D@2024-04-07@13-08-01.mp4\" controls autoplay loop style=\"max-width: 60%;\"  >\n",
       "      Your browser does not support the <code>video</code> element.\n",
       "    </video>"
      ],
      "text/plain": [
       "<IPython.core.display.Video object>"
      ]
     },
     "metadata": {},
     "output_type": "display_data"
    }
   ],
   "source": [
    "%%manim -ql -v WARNING RotatingGrid3D\n",
    "\n",
    "class RotatingGrid3D(ThreeDScene):\n",
    "    def construct(self):\n",
    "        # Create the 3D grid and a spherical grid\n",
    "        grid = ThreeDAxes()\n",
    "        sphere = Sphere(radius=3, resolution=(20, 20)).set_opacity(0.2).set_color(GRAY)\n",
    "        self.add(grid, sphere)\n",
    "        \n",
    "        v1 = np.array([2, 3, 0])\n",
    "        v2 = np.array([1, -2, 0])\n",
    "        v3 = np.array([-3, 1, 0])\n",
    "        \n",
    "        v1 = v1/np.linalg.norm(v1)\n",
    "        v2 = v2/np.linalg.norm(v2)\n",
    "        v3 = v3/np.linalg.norm(v3)\n",
    "\n",
    "        # Create the three vectors in the XY plane\n",
    "        vec1 = Vector(v1, color=BLUE)\n",
    "        vec2 = Vector(v2, color=RED)\n",
    "        vec3 = Vector(v3, color=GREEN)\n",
    "        # Group the vectors into a Mobject\n",
    "        vectors = VGroup(vec1, vec2, vec3)\n",
    "\n",
    "        # Add the vectors to the scene\n",
    "        self.add(vectors)\n",
    "        \n",
    "        proj_matrix = np.array([[1, 0, 1.2],\n",
    "                       [0.3, 1, 0],\n",
    "                       [3, 4, 1]])\n",
    "        \n",
    "        v1 = np.matmul(proj_matrix, v1) \n",
    "        v2 = np.matmul(proj_matrix, v2)\n",
    "        v3 = np.matmul(proj_matrix, v3)\n",
    "        \n",
    "        v1 = v1/np.linalg.norm(v1)\n",
    "        v2 = v2/np.linalg.norm(v2)\n",
    "        v3 = v3/np.linalg.norm(v3)\n",
    "        \n",
    "        vec21 = Vector(v1, color=BLUE)\n",
    "        vec22 = Vector(v2, color=RED)\n",
    "        vec23 = Vector(v3, color=GREEN)\n",
    "        vectors2 = VGroup(vec21, vec22, vec23)\n",
    "\n",
    "        # Rotate the scene\n",
    "        self.set_camera_orientation(phi=75 * DEGREES, theta=-30 * DEGREES)\n",
    "        self.begin_ambient_camera_rotation(rate=0.1)\n",
    "\n",
    "        # Animate the vectors being projected into 3D\n",
    "        self.play(\n",
    "            Transform(vectors, vectors2),\n",
    "            run_time=3\n",
    "        )\n",
    "\n",
    "        self.wait(3)\n"
   ]
  },
  {
   "cell_type": "code",
   "execution_count": 30,
   "metadata": {},
   "outputs": [
    {
     "name": "stderr",
     "output_type": "stream",
     "text": [
      "                                                                                                \r"
     ]
    },
    {
     "data": {
      "text/html": [
       "<video src=\"media/jupyter/RotatingGrid3D@2024-04-07@13-11-03.mp4\" controls autoplay loop style=\"max-width: 60%;\"  >\n",
       "      Your browser does not support the <code>video</code> element.\n",
       "    </video>"
      ],
      "text/plain": [
       "<IPython.core.display.Video object>"
      ]
     },
     "metadata": {},
     "output_type": "display_data"
    }
   ],
   "source": [
    "%%manim -ql -v WARNING RotatingGrid3D\n",
    "\n",
    "class RotatingGrid3D(ThreeDScene):\n",
    "    def construct(self):\n",
    "        # Create the 3D grid and a spherical grid\n",
    "        grid = ThreeDAxes()\n",
    "        sphere_radius = 3  # Sphere's radius\n",
    "        sphere = Sphere(radius=sphere_radius, resolution=(20, 20)).set_opacity(0.2).set_color(GRAY)\n",
    "        self.add(grid, sphere)\n",
    "        \n",
    "        v1 = np.array([2, 3, 0])\n",
    "        v2 = np.array([1, -2, 0])\n",
    "        v3 = np.array([-3, 1, 0])\n",
    "        \n",
    "        # Normalize and scale vectors to touch the sphere from inside\n",
    "        v1 = v1 / np.linalg.norm(v1) * sphere_radius\n",
    "        v2 = v2 / np.linalg.norm(v2) * sphere_radius\n",
    "        v3 = v3 / np.linalg.norm(v3) * sphere_radius\n",
    "\n",
    "        # Create the three vectors\n",
    "        vec1 = Vector(v1, color=BLUE)\n",
    "        vec2 = Vector(v2, color=RED)\n",
    "        vec3 = Vector(v3, color=GREEN)\n",
    "        vectors = VGroup(vec1, vec2, vec3)\n",
    "        self.add(vectors)\n",
    "        \n",
    "        proj_matrix = np.array([[1, 0, 1.2],\n",
    "                                [0.3, 1, 0],\n",
    "                                [3, 4, 1]])\n",
    "        \n",
    "        # Apply projection matrix and then normalize and scale\n",
    "        v1 = np.matmul(proj_matrix, v1) / np.linalg.norm(np.matmul(proj_matrix, v1)) * sphere_radius\n",
    "        v2 = np.matmul(proj_matrix, v2) / np.linalg.norm(np.matmul(proj_matrix, v2)) * sphere_radius\n",
    "        v3 = np.matmul(proj_matrix, v3) / np.linalg.norm(np.matmul(proj_matrix, v3)) * sphere_radius\n",
    "        \n",
    "        vec21 = Vector(v1, color=BLUE)\n",
    "        vec22 = Vector(v2, color=RED)\n",
    "        vec23 = Vector(v3, color=GREEN)\n",
    "        vectors2 = VGroup(vec21, vec22, vec23)\n",
    "\n",
    "        # Rotate the scene\n",
    "        self.set_camera_orientation(phi=75 * DEGREES, theta=-30 * DEGREES)\n",
    "        self.begin_ambient_camera_rotation(rate=0.1)\n",
    "\n",
    "        # Animate the vectors being projected into 3D\n",
    "        self.play(\n",
    "            Transform(vectors, vectors2),\n",
    "            run_time=3\n",
    "        )\n",
    "\n",
    "        self.wait(3)\n"
   ]
  },
  {
   "cell_type": "code",
   "execution_count": 38,
   "metadata": {},
   "outputs": [
    {
     "name": "stderr",
     "output_type": "stream",
     "text": [
      "                                                                                                \r"
     ]
    },
    {
     "data": {
      "text/html": [
       "<video src=\"media/jupyter/RotatingGrid3D@2024-04-07@13-43-25.mp4\" controls autoplay loop style=\"max-width: 60%;\"  >\n",
       "      Your browser does not support the <code>video</code> element.\n",
       "    </video>"
      ],
      "text/plain": [
       "<IPython.core.display.Video object>"
      ]
     },
     "metadata": {},
     "output_type": "display_data"
    }
   ],
   "source": [
    "%%manim -ql -v WARNING RotatingGrid3D\n",
    "\n",
    "class RotatingGrid3D(ThreeDScene):\n",
    "    def construct(self):\n",
    "        self.sphere_radius = 3\n",
    "        self.init_scene()\n",
    "        self.define_vectors()\n",
    "        self.create_initial_vectors()\n",
    "        self.apply_transformation()\n",
    "        self.animate_transformation()\n",
    "        self.apply_transformation()\n",
    "        self.animate_transformation()\n",
    "        self.apply_transformation()\n",
    "        self.animate_transformation()\n",
    "\n",
    "    def init_scene(self):\n",
    "        grid = ThreeDAxes()\n",
    "        sphere = Sphere(radius=self.sphere_radius, resolution=(20, 20)).set_opacity(0.2).set_color(GRAY)\n",
    "        self.add(grid, sphere)\n",
    "        self.set_camera_orientation(phi=75 * DEGREES, theta=-30 * DEGREES)\n",
    "        self.begin_ambient_camera_rotation(rate=0.1)\n",
    "    \n",
    "    def define_vectors(self):\n",
    "        self.original_vectors = [\n",
    "            np.array([2, 3, 0]),\n",
    "            np.array([1, -2, 0]),\n",
    "            np.array([-3, 1, 0])\n",
    "        ]\n",
    "        self.proj_matrix = np.array([\n",
    "            [1, -4, 1.2],\n",
    "            [0.3, 1,-2],\n",
    "            [3, 4, 1]\n",
    "        ])\n",
    "\n",
    "    def create_initial_vectors(self):\n",
    "        \n",
    "        vlst = []\n",
    "        for vec in self.original_vectors:\n",
    "            normalized_vec = vec / np.linalg.norm(vec) * self.sphere_radius\n",
    "            vlst.append(Vector(normalized_vec))\n",
    "        self.vectors = VGroup(*vlst)\n",
    "        self.add(self.vectors)\n",
    "\n",
    "    def apply_transformation(self):\n",
    "        \n",
    "        vectors = []\n",
    "        vlst =[]\n",
    "        for vec in self.original_vectors:\n",
    "            transformed_vec = np.matmul(self.proj_matrix, vec)\n",
    "            vectors.append(transformed_vec)\n",
    "            transformed_vec = transformed_vec / np.linalg.norm(transformed_vec) * self.sphere_radius\n",
    "            vlst.append(Vector(transformed_vec, color=YELLOW))  # Yellow for visibility\n",
    "        self.original_vectors = vectors\n",
    "        self.transformed_vectors = VGroup(*vlst)\n",
    "\n",
    "    def animate_transformation(self):\n",
    "        self.play(Transform(self.vectors, self.transformed_vectors), run_time=3)\n",
    "        self.wait(2)\n",
    "\n"
   ]
  },
  {
   "cell_type": "code",
   "execution_count": null,
   "metadata": {},
   "outputs": [],
   "source": []
  }
 ],
 "metadata": {
  "kernelspec": {
   "display_name": "base",
   "language": "python",
   "name": "python3"
  },
  "language_info": {
   "codemirror_mode": {
    "name": "ipython",
    "version": 3
   },
   "file_extension": ".py",
   "mimetype": "text/x-python",
   "name": "python",
   "nbconvert_exporter": "python",
   "pygments_lexer": "ipython3",
   "version": "3.10.12"
  }
 },
 "nbformat": 4,
 "nbformat_minor": 2
}
