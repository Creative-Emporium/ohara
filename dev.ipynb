{
 "cells": [
  {
   "cell_type": "code",
   "execution_count": 22,
   "metadata": {},
   "outputs": [],
   "source": [
    "import torch"
   ]
  },
  {
   "cell_type": "code",
   "execution_count": 23,
   "metadata": {},
   "outputs": [],
   "source": [
    "dim = 6\n",
    "end = 10\n",
    "theta = 1000"
   ]
  },
  {
   "cell_type": "code",
   "execution_count": 24,
   "metadata": {},
   "outputs": [
    {
     "name": "stdout",
     "output_type": "stream",
     "text": [
      "tensor([1.0000, 0.1000, 0.0100])\n"
     ]
    },
    {
     "data": {
      "text/plain": [
       "(tensor([[ 1.0000,  1.0000,  1.0000],\n",
       "         [ 0.5403,  0.9950,  0.9999],\n",
       "         [-0.4161,  0.9801,  0.9998],\n",
       "         [-0.9900,  0.9553,  0.9996],\n",
       "         [-0.6536,  0.9211,  0.9992],\n",
       "         [ 0.2837,  0.8776,  0.9988],\n",
       "         [ 0.9602,  0.8253,  0.9982],\n",
       "         [ 0.7539,  0.7648,  0.9976],\n",
       "         [-0.1455,  0.6967,  0.9968],\n",
       "         [-0.9111,  0.6216,  0.9960]]),\n",
       " tensor([[ 0.0000,  0.0000,  0.0000],\n",
       "         [ 0.8415,  0.0998,  0.0100],\n",
       "         [ 0.9093,  0.1987,  0.0200],\n",
       "         [ 0.1411,  0.2955,  0.0300],\n",
       "         [-0.7568,  0.3894,  0.0400],\n",
       "         [-0.9589,  0.4794,  0.0500],\n",
       "         [-0.2794,  0.5646,  0.0600],\n",
       "         [ 0.6570,  0.6442,  0.0699],\n",
       "         [ 0.9894,  0.7174,  0.0799],\n",
       "         [ 0.4121,  0.7833,  0.0899]]))"
      ]
     },
     "execution_count": 24,
     "metadata": {},
     "output_type": "execute_result"
    }
   ],
   "source": [
    "freqs = 1.0 / (theta ** (torch.arange(0, dim, 2)[: (dim // 2)].float() / dim))\n",
    "print(freqs)\n",
    "t = torch.arange(end, device=freqs.device)  # type: ignore\n",
    "freqs = torch.outer(t, freqs).float()  # type: ignore\n",
    "freqs_cos = torch.cos(freqs)  # real part\n",
    "freqs_sin = torch.sin(freqs)  # imaginary part\n",
    "freqs_cos, freqs_sin\n"
   ]
  },
  {
   "cell_type": "code",
   "execution_count": 25,
   "metadata": {},
   "outputs": [],
   "source": [
    "B,T,n_head,C = 3,end,4,dim"
   ]
  },
  {
   "attachments": {},
   "cell_type": "markdown",
   "metadata": {},
   "source": []
  },
  {
   "cell_type": "code",
   "execution_count": 26,
   "metadata": {},
   "outputs": [
    {
     "data": {
      "text/plain": [
       "(torch.Size([3, 10, 4, 6]), torch.Size([3, 10, 4, 6]))"
      ]
     },
     "execution_count": 26,
     "metadata": {},
     "output_type": "execute_result"
    }
   ],
   "source": [
    "xk = torch.rand(B,T,n_head,C )\n",
    "xq = torch.rand(B,T,n_head,C )\n",
    "xk.shape,xq.shape"
   ]
  },
  {
   "cell_type": "code",
   "execution_count": 27,
   "metadata": {},
   "outputs": [
    {
     "name": "stdout",
     "output_type": "stream",
     "text": [
      "torch.Size([3, 10, 4, 3, 2])\n",
      "torch.Size([3, 10, 4, 3])\n"
     ]
    }
   ],
   "source": [
    "xq_r, xq_i = xq.float().reshape(xq.shape[:-1] + (-1, 2)).unbind(-1)\n",
    "xk_r, xk_i = xk.float().reshape(xk.shape[:-1] + (-1, 2)).unbind(-1)\n",
    "\n",
    "print(xq.float().reshape(xq.shape[:-1] + (-1, 2)).shape)\n",
    "print(xq.float().reshape(xq.shape[:-1] + (-1, 2)).unbind(-1)[0].shape)"
   ]
  },
  {
   "cell_type": "code",
   "execution_count": 28,
   "metadata": {},
   "outputs": [
    {
     "name": "stdout",
     "output_type": "stream",
     "text": [
      "[1, 10, 1, 3]\n"
     ]
    },
    {
     "data": {
      "text/plain": [
       "(torch.Size([10, 3]), torch.Size([1, 10, 1, 3]))"
      ]
     },
     "execution_count": 28,
     "metadata": {},
     "output_type": "execute_result"
    }
   ],
   "source": [
    "def reshape_for_broadcast(freqs_cis: torch.Tensor, x: torch.Tensor):\n",
    "    ndim = x.dim()\n",
    "    assert 1 < ndim\n",
    "    assert freqs_cis.shape == (x.shape[1], x.shape[-1]), f\"{freqs_cis.shape=}, {(x.shape[1], x.shape[-1])=}\"\n",
    "    shape = [d if i == 1 or i == ndim - 1 else 1 for i, d in enumerate(x.shape)] # keep 2nd (T) and last(freq) dim same else make dim 1 for freq_cis\n",
    "    print(shape)\n",
    "    return freqs_cis.view(shape)\n",
    "\n",
    "freq_reshape = reshape_for_broadcast(freqs_cos,xq_r)\n",
    "freqs_cos.shape, freq_reshape.shape"
   ]
  },
  {
   "cell_type": "code",
   "execution_count": 29,
   "metadata": {},
   "outputs": [
    {
     "name": "stdout",
     "output_type": "stream",
     "text": [
      "[1, 10, 1, 3]\n",
      "[1, 10, 1, 3]\n"
     ]
    }
   ],
   "source": [
    "freqs_cos = reshape_for_broadcast(freqs_cos,xq_r)\n",
    "freqs_sin = reshape_for_broadcast(freqs_sin,xk_r)\n"
   ]
  },
  {
   "cell_type": "code",
   "execution_count": 30,
   "metadata": {},
   "outputs": [],
   "source": [
    "xq_out_r = xq_r * freqs_cos - xq_i * freqs_sin # (ac-bd) \n",
    "xq_out_i = xq_r * freqs_sin + xq_i * freqs_cos # (ad+bc) * i"
   ]
  },
  {
   "cell_type": "code",
   "execution_count": 32,
   "metadata": {},
   "outputs": [
    {
     "data": {
      "text/plain": [
       "torch.Size([3, 10, 4, 3])"
      ]
     },
     "execution_count": 32,
     "metadata": {},
     "output_type": "execute_result"
    }
   ],
   "source": [
    "xq_out_r.shape"
   ]
  },
  {
   "cell_type": "code",
   "execution_count": null,
   "metadata": {},
   "outputs": [],
   "source": []
  }
 ],
 "metadata": {
  "kernelspec": {
   "display_name": "base",
   "language": "python",
   "name": "python3"
  },
  "language_info": {
   "codemirror_mode": {
    "name": "ipython",
    "version": 3
   },
   "file_extension": ".py",
   "mimetype": "text/x-python",
   "name": "python",
   "nbconvert_exporter": "python",
   "pygments_lexer": "ipython3",
   "version": "3.10.10"
  },
  "orig_nbformat": 4
 },
 "nbformat": 4,
 "nbformat_minor": 2
}
