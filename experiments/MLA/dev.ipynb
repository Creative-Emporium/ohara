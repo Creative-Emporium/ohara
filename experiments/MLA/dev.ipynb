{
 "cells": [
  {
   "cell_type": "code",
   "execution_count": 425,
   "metadata": {},
   "outputs": [],
   "source": [
    "import torch\n",
    "import torch.nn as nn\n",
    "import torch.nn.functional as F\n",
    "\n",
    "from dataclasses import dataclass\n",
    "from collections import OrderedDict\n",
    "\n",
    "from ohara.modules.norm import RMSNorm\n",
    "\n",
    "from ohara.embedings_pos.rotatry import precompute_freqs_cis\n",
    "from ohara.embedings_pos.rotatry import apply_rope\n",
    "\n",
    "from torch import Tensor\n",
    "\n",
    "\n",
    "from rich import print, traceback\n",
    "traceback.install()\n",
    "\n",
    "\n",
    "@dataclass\n",
    "class Config(OrderedDict):\n",
    "    vocab_size: int\n",
    "    seq_len: int\n",
    "\n",
    "    d_model: int\n",
    "\n",
    "    # in deepseekv2 d_model < num_heads * head_dim\n",
    "    # they expanded dim*3.2 for attention\n",
    "    num_heads: int\n",
    "    head_dim: int\n",
    "\n",
    "    num_layers: int = 4\n",
    "\n",
    "    dropout: float = 0.2\n",
    "    bias: bool = False\n",
    "    weight_tying: bool = False\n",
    "\n",
    "    activation: str = \"silu\"  # \"relu\", \"gelu\", \"silu\" etc\n",
    "    mlp: str = \"GLU\"  # MLP or GLU\n",
    "    \n",
    "    # rope is applied partially to hdim of query and key\n",
    "    rope_head_dim: int = None\n",
    "    \n",
    "    # rank for query is higher than key and value\n",
    "    # query has more information than key and value\n",
    "    # in deepseekv2  q_lora_rank =  3 * kv_lora_rank\n",
    "    kv_lora_rank: int = None\n",
    "    q_lora_rank: int = None\n",
    "\n",
    "\n",
    "\n",
    "# ======================================================================================\n",
    "# ||>>>> Note <<<<||\n",
    "# --------------------------------------------------------------------------------------\n",
    "# in the code they are doing different things from paper\n",
    "# eg\n",
    "# 1. k_rope is projection form d_model (hidden_dim) while in paper it come from compress_kv\n",
    "# 2. while q_rope comes from compress_q (in both paper and code)\n",
    "# 3. there are layer norm on compressed q , kv\n",
    "# 4. norm is applied to q_nope,q_rope,k_nope and v\n",
    "#    but not to k_rope (idk why rope part of k should be normalized)\n",
    "# 5. there is no inference merged code for mla\n",
    "# ======================================================================================\n",
    "\n",
    "# --- MLA ---\n",
    "class MultiHeadLatentAttention(nn.Module):\n",
    "    \"\"\"\n",
    "    Multi Head Latent Attention \n",
    "    paper: https://arxiv.org/pdf/2405.04434\n",
    "    \n",
    "    TLDR: \n",
    "    kv are low ranks, this verient of attention project q,k,v to low rank to save memory\n",
    "\n",
    "    by joey00072 (https://github.com/joey00072)\n",
    "    \"\"\"\n",
    "    def __init__(self, config: Config):\n",
    "        super().__init__()\n",
    "        \n",
    "        self.config = config\n",
    "        self.dim = config.d_model\n",
    "        self.num_heads = config.num_heads\n",
    "        self.head_dim = config.head_dim\n",
    "        self.q_lora_rank = config.q_lora_rank\n",
    "        self.kv_lora_rank = config.kv_lora_rank\n",
    "\n",
    "        # (attention_dim == num_head*head_dim) > d_model in deepseekv2\n",
    "        self.attention_dim = self.num_heads * self.head_dim\n",
    "        self.rope_head_dim = config.rope_head_dim\n",
    "        self.nope_head_dim = config.head_dim - config.rope_head_dim\n",
    "\n",
    "        # query compression\n",
    "        self.compress_q_linear = nn.Linear(self.dim, self.q_lora_rank, bias=config.bias)  # W_DQ\n",
    "        self.decompress_q_nope = nn.Linear(self.q_lora_rank, self.nope_head_dim * self.num_heads, bias=config.bias)\n",
    "        self.decompress_q_rope = nn.Linear(self.q_lora_rank, self.rope_head_dim * self.num_heads, bias=config.bias)\n",
    "\n",
    "        # key and value compression\n",
    "        self.compress_kv_linear = nn.Linear(self.dim, self.kv_lora_rank, bias=config.bias)  # W_DKV\n",
    "        self.decompress_k_nope = nn.Linear(self.kv_lora_rank, self.nope_head_dim * self.num_heads, bias=config.bias)\n",
    "        self.decompress_v_linear = nn.Linear(self.kv_lora_rank, self.head_dim * self.num_heads, bias=config.bias)\n",
    "        \n",
    "        self.k_rope_linear = nn.Linear(self.dim, self.rope_head_dim, bias=config.bias)\n",
    "\n",
    "        self.q_norm = RMSNorm(self.q_lora_rank)\n",
    "        self.kv_norm = RMSNorm(self.kv_lora_rank)\n",
    "        # self.rope_norm = RMSNorm(self.rope_head_dim) # not in deepseekv2\n",
    "\n",
    "        self.proj = nn.Linear(self.num_heads*self.head_dim , self.dim, bias=config.bias)\n",
    "\n",
    "    def forward(self, x: Tensor, freqs_cis: Tensor):\n",
    "        batch_size, seq_len, _ = x.shape\n",
    "\n",
    "        compressed_q = self.compress_q_linear(x)\n",
    "        norm_q = self.q_norm(compressed_q)\n",
    "        query_nope:Tensor = self.decompress_q_nope(norm_q)\n",
    "        query_rope:Tensor = self.decompress_q_rope(norm_q)\n",
    "\n",
    "        compressed_kv = self.compress_kv_linear(x)\n",
    "        norm_kv = self.kv_norm(compressed_kv)\n",
    "        key_nope: Tensor = self.decompress_k_nope(norm_kv)\n",
    "        value: Tensor = self.decompress_v_linear(norm_kv)\n",
    "        \n",
    "        key_rope:Tensor = self.k_rope_linear(x)\n",
    "        # norm_rope = self.rope_norm(key_rope)\n",
    "\n",
    "        query_nope = query_nope.view(batch_size, seq_len, self.num_heads, self.nope_head_dim).transpose(1,2)\n",
    "        query_rope = query_rope.view(batch_size, seq_len, self.num_heads, self.rope_head_dim).transpose(1,2)\n",
    "        \n",
    "        key_rope = key_rope.view(batch_size, seq_len, 1, self.rope_head_dim).transpose(1,2)\n",
    "        key_nope = key_nope.view(batch_size, seq_len, self.num_heads, self.nope_head_dim).transpose(1,2)\n",
    "        \n",
    "        value = value.view(batch_size, seq_len, self.num_heads, self.head_dim).transpose(1,2)\n",
    "        \n",
    "        k_rope, q_rope = apply_rope(query_rope,key_rope, cis=freqs_cis)\n",
    "        \n",
    "        q_recombined = torch.empty((batch_size,self.num_heads,seq_len, self.head_dim), device=x.device)\n",
    "        k_recombined = torch.empty((batch_size, self.num_heads, seq_len, self.head_dim), device=x.device)\n",
    "        \n",
    "        q_recombined[:,:,:,:self.nope_head_dim] = query_nope\n",
    "        q_recombined[:,:,:,self.nope_head_dim:] = q_rope\n",
    "        \n",
    "        # k_rope = torch.repeat_interleave(k_rope, self.num_heads, dim=1) # >> you dont need to do this <<\n",
    "        # 👇 broadcasting will do replication krope to all heads automagically\n",
    "        k_recombined[:,:,:,:self.nope_head_dim] = key_nope\n",
    "        k_recombined[:,:,:,self.nope_head_dim:] = k_rope\n",
    "\n",
    "        output = F.scaled_dot_product_attention(q_recombined, k_recombined, value, is_causal=True)\n",
    "\n",
    "        output = output.contiguous().view(batch_size, seq_len, self.num_heads * self.head_dim)\n",
    "\n",
    "        output = self.proj(output)\n",
    "\n",
    "        return output\n",
    "\n",
    "\n",
    "class MLA_Inference(MultiHeadLatentAttention):\n",
    "    def __init__(self,config:Config):\n",
    "        super().__init__(config)\n",
    "        self.inference_merged = False\n",
    "        \n",
    "    def inference_merge(self):\n",
    "        Wd_Qnope = self.decompress_q_nope.weight.detach()\n",
    "        Wd_Knope = self.decompress_k_nope.weight.detach()\n",
    "        Wd_V = self.decompress_v_linear.weight.detach()\n",
    "        \n",
    "        W_proj = self.proj.weight.detach()\n",
    "        \n",
    "        Wd_Qnope = Wd_Qnope.reshape(self.num_heads, Wd_Qnope.T.shape[0], -1)\n",
    "        Wd_Knope = Wd_Knope.reshape(self.num_heads, Wd_Knope.T.shape[0], -1)\n",
    "        \n",
    "        # print(f\"Wd_Qnope.shape: {Wd_Qnope.shape}, Wd_Knope.shape: {Wd_Knope.shape}\")\n",
    "        WdQK = Wd_Qnope @ Wd_Knope.transpose(-2, -1)\n",
    "        # print(f\"WdQK.shape: {WdQK.shape}\")\n",
    "        \n",
    "        WdVO = Wd_V.T @ W_proj\n",
    "        \n",
    "        # print(f\"WdQK.shape: {WdQK.shape}, WdVO.shape: {WdVO.shape}\")\n",
    "        \n",
    "        self.register_buffer(\"WdQK\", WdQK)\n",
    "        \n",
    "        self.inference_merged = True\n",
    "        \n",
    "    def forward(self,x:Tensor,freqs_cis:Tensor):\n",
    "        assert self.inference_merged, \"model is not merged run .inference_merge() first\"\n",
    "\n",
    "\n",
    "        batch_size, seq_len, _ = x.shape\n",
    "\n",
    "        compressed_q = self.compress_q_linear(x)\n",
    "        norm_q = self.q_norm(compressed_q)\n",
    "        query_nope:Tensor = self.decompress_q_nope(norm_q)\n",
    "        query_rope:Tensor = self.decompress_q_rope(norm_q)\n",
    "\n",
    "        compressed_kv = self.compress_kv_linear(x)\n",
    "        norm_kv = self.kv_norm(compressed_kv)\n",
    "        key_nope: Tensor = self.decompress_k_nope(norm_kv)\n",
    "        value: Tensor = self.decompress_v_linear(norm_kv)\n",
    "        \n",
    "        key_rope:Tensor = self.k_rope_linear(x)\n",
    "        # norm_rope = self.rope_norm(key_rope)\n",
    "\n",
    "        query_nope = query_nope.view(batch_size, seq_len, self.num_heads, self.nope_head_dim).transpose(1,2)\n",
    "        query_rope = query_rope.view(batch_size, seq_len, self.num_heads, self.rope_head_dim).transpose(1,2)\n",
    "        \n",
    "        key_rope = key_rope.view(batch_size, seq_len, 1, self.rope_head_dim).transpose(1,2)\n",
    "        key_nope = key_nope.view(batch_size, seq_len, self.num_heads, self.nope_head_dim).transpose(1,2)\n",
    "        \n",
    "        value = value.view(batch_size, seq_len, self.num_heads, self.head_dim).transpose(1,2)\n",
    "        \n",
    "        k_rope, q_rope = apply_rope(query_rope,key_rope, cis=freqs_cis)\n",
    "        \n",
    "        attn_rope = q_rope @ k_rope.transpose(-2, -1)\n",
    "        \n",
    "        # print(f\"compressed_q.shape: {compressed_q.unsqueeze(-3).shape} WdQK.shape: {self.WdQK.shape}\")\n",
    "        attn_nope = compressed_q.unsqueeze(-3) @ self.WdQK @ compressed_kv.unsqueeze(-3).transpose(-2, -1)\n",
    "        # print(f\"attn_rope.shape: {attn_rope.shape}, attn_nope.shape: {attn_nope.shape}\")\n",
    "        \n",
    "        attn = (attn_rope + attn_nope) / self.head_dim  \n",
    "        \n",
    "        attn = torch.tril(attn).masked_fill(torch.tril(torch.ones(attn.shape, dtype=bool)) == 0, -torch.inf)\n",
    "        \n",
    "        output = attn.softmax(dim=-1) @ value\n",
    "        \n",
    "        output = output.view(batch_size, seq_len, self.num_heads * self.head_dim)\n",
    "        \n",
    "        output = self.proj(output)\n",
    "\n",
    "        return output\n",
    "        \n",
    "        "
   ]
  },
  {
   "cell_type": "code",
   "execution_count": 426,
   "metadata": {},
   "outputs": [],
   "source": [
    "d_model = 1024\n",
    "num_heads = 20\n",
    "head_dim = 128\n",
    "kv_lora_rank = 64\n",
    "q_lora_rank = 3 * kv_lora_rank\n",
    "rope_head_dim = 32\n",
    "\n",
    "config = Config(\n",
    "    vocab_size=30522,\n",
    "    d_model=d_model,\n",
    "    seq_len=2048,\n",
    "    num_heads=num_heads,\n",
    "    head_dim=head_dim,\n",
    "    q_lora_rank=q_lora_rank,\n",
    "    kv_lora_rank=kv_lora_rank,\n",
    "    rope_head_dim=rope_head_dim,\n",
    ")\n",
    "\n",
    "\n",
    "x = torch.randn(2, 10, d_model)\n",
    "freqs_cis = precompute_freqs_cis(config.rope_head_dim, config.seq_len)\n"
   ]
  },
  {
   "cell_type": "code",
   "execution_count": 427,
   "metadata": {},
   "outputs": [
    {
     "data": {
      "text/plain": [
       "<All keys matched successfully>"
      ]
     },
     "execution_count": 427,
     "metadata": {},
     "output_type": "execute_result"
    }
   ],
   "source": [
    "mla = MultiHeadLatentAttention(config)\n",
    "mla_inference = MLA_Inference(config)\n",
    "\n",
    "mla_inference.load_state_dict(mla.state_dict())\n"
   ]
  },
  {
   "cell_type": "code",
   "execution_count": 428,
   "metadata": {},
   "outputs": [
    {
     "data": {
      "text/html": [
       "<pre style=\"white-space:pre;overflow-x:auto;line-height:normal;font-family:Menlo,'DejaVu Sans Mono',consolas,'Courier New',monospace\"><span style=\"color: #800080; text-decoration-color: #800080; font-weight: bold\">torch.Size</span><span style=\"font-weight: bold\">([</span><span style=\"color: #008080; text-decoration-color: #008080; font-weight: bold\">2</span>, <span style=\"color: #008080; text-decoration-color: #008080; font-weight: bold\">20</span>, <span style=\"color: #008080; text-decoration-color: #008080; font-weight: bold\">10</span>, <span style=\"color: #008080; text-decoration-color: #008080; font-weight: bold\">96</span><span style=\"font-weight: bold\">])</span>\n",
       "</pre>\n"
      ],
      "text/plain": [
       "\u001b[1;35mtorch.Size\u001b[0m\u001b[1m(\u001b[0m\u001b[1m[\u001b[0m\u001b[1;36m2\u001b[0m, \u001b[1;36m20\u001b[0m, \u001b[1;36m10\u001b[0m, \u001b[1;36m96\u001b[0m\u001b[1m]\u001b[0m\u001b[1m)\u001b[0m\n"
      ]
     },
     "metadata": {},
     "output_type": "display_data"
    },
    {
     "data": {
      "text/html": [
       "<pre style=\"white-space:pre;overflow-x:auto;line-height:normal;font-family:Menlo,'DejaVu Sans Mono',consolas,'Courier New',monospace\"><span style=\"color: #800080; text-decoration-color: #800080; font-weight: bold\">torch.Size</span><span style=\"font-weight: bold\">([</span><span style=\"color: #008080; text-decoration-color: #008080; font-weight: bold\">2</span>, <span style=\"color: #008080; text-decoration-color: #008080; font-weight: bold\">20</span>, <span style=\"color: #008080; text-decoration-color: #008080; font-weight: bold\">10</span>, <span style=\"color: #008080; text-decoration-color: #008080; font-weight: bold\">96</span><span style=\"font-weight: bold\">])</span>\n",
       "</pre>\n"
      ],
      "text/plain": [
       "\u001b[1;35mtorch.Size\u001b[0m\u001b[1m(\u001b[0m\u001b[1m[\u001b[0m\u001b[1;36m2\u001b[0m, \u001b[1;36m20\u001b[0m, \u001b[1;36m10\u001b[0m, \u001b[1;36m96\u001b[0m\u001b[1m]\u001b[0m\u001b[1m)\u001b[0m\n"
      ]
     },
     "metadata": {},
     "output_type": "display_data"
    }
   ],
   "source": [
    "batch_size, seq_len, _ = x.shape\n",
    "\n",
    "cq = mla.compress_q_linear(x)\n",
    "ckv = mla.compress_kv_linear(x)\n",
    "\n",
    "\n",
    "cq = mla.q_norm(cq)\n",
    "ckv = mla.kv_norm(ckv)\n",
    "\n",
    "q_nope = mla.decompress_q_nope(cq)\n",
    "k_nope = mla.decompress_k_nope(ckv)\n",
    "\n",
    "q_nope = q_nope.view(batch_size, seq_len, mla.num_heads, mla.nope_head_dim).transpose(1,2)\n",
    "k_nope = k_nope.view(batch_size, seq_len, mla.num_heads, mla.nope_head_dim).transpose(1,2)\n",
    "\n",
    "print(q_nope.shape)\n",
    "print(k_nope.shape)"
   ]
  },
  {
   "cell_type": "code",
   "execution_count": 429,
   "metadata": {},
   "outputs": [],
   "source": [
    "mask = torch.tril(torch.ones(mla.num_heads, seq_len, seq_len, dtype=torch.bool))\n",
    "\n",
    "attn_nope = q_nope@k_nope.transpose(-1,-2)\n",
    "\n",
    "\n",
    "\n",
    "attn_nope = attn_nope.masked_fill(mask == 0, -torch.inf)\n",
    "\n",
    "attn_nope = attn_nope.softmax(dim=-1)\n"
   ]
  },
  {
   "cell_type": "code",
   "execution_count": 430,
   "metadata": {},
   "outputs": [],
   "source": [
    "\n",
    "Wd_Qnope = mla.decompress_q_nope.weight.detach().clone()\n",
    "Wd_Knope = mla.decompress_k_nope.weight.detach().clone()"
   ]
  },
  {
   "cell_type": "code",
   "execution_count": 431,
   "metadata": {},
   "outputs": [
    {
     "data": {
      "text/html": [
       "<pre style=\"white-space:pre;overflow-x:auto;line-height:normal;font-family:Menlo,'DejaVu Sans Mono',consolas,'Courier New',monospace\"><span style=\"color: #008080; text-decoration-color: #008080; font-weight: bold\">192</span> <span style=\"color: #008080; text-decoration-color: #008080; font-weight: bold\">1920</span>\n",
       "</pre>\n"
      ],
      "text/plain": [
       "\u001b[1;36m192\u001b[0m \u001b[1;36m1920\u001b[0m\n"
      ]
     },
     "metadata": {},
     "output_type": "display_data"
    }
   ],
   "source": [
    "out_shape, in_shape = Wd_Qnope.shape\n",
    "print(in_shape,out_shape)\n",
    "\n"
   ]
  },
  {
   "cell_type": "code",
   "execution_count": 432,
   "metadata": {},
   "outputs": [
    {
     "data": {
      "text/html": [
       "<pre style=\"white-space:pre;overflow-x:auto;line-height:normal;font-family:Menlo,'DejaVu Sans Mono',consolas,'Courier New',monospace\"><span style=\"color: #800080; text-decoration-color: #800080; font-weight: bold\">torch.Size</span><span style=\"font-weight: bold\">([</span><span style=\"color: #008080; text-decoration-color: #008080; font-weight: bold\">192</span>, <span style=\"color: #008080; text-decoration-color: #008080; font-weight: bold\">1920</span><span style=\"font-weight: bold\">])</span>\n",
       "</pre>\n"
      ],
      "text/plain": [
       "\u001b[1;35mtorch.Size\u001b[0m\u001b[1m(\u001b[0m\u001b[1m[\u001b[0m\u001b[1;36m192\u001b[0m, \u001b[1;36m1920\u001b[0m\u001b[1m]\u001b[0m\u001b[1m)\u001b[0m\n"
      ]
     },
     "metadata": {},
     "output_type": "display_data"
    },
    {
     "data": {
      "text/plain": [
       "False"
      ]
     },
     "execution_count": 432,
     "metadata": {},
     "output_type": "execute_result"
    }
   ],
   "source": [
    "print(Wd_Qnope.T.shape)\n",
    "xx = torch.rand_like(cq)\n",
    "q_nope_x = mla.decompress_q_nope(xx)\n",
    "q_nope = q_nope_x#.view(batch_size, seq_len, mla.num_heads, mla.nope_head_dim)\n",
    "\n",
    "Wd_Qnope = mla.decompress_q_nope.weight.detach().clone()\n",
    "\n",
    "inp = cq[0][0].reshape(1,-1)\n",
    "o1 = (inp @Wd_Qnope.T)#.reshape( mla.num_heads, mla.nope_head_dim)          \n",
    "o1.shape,q_nope[0][0].reshape(1,-1).shape\n",
    "torch.allclose(o1,q_nope[0][0].reshape(1,-1))"
   ]
  },
  {
   "cell_type": "code",
   "execution_count": 433,
   "metadata": {},
   "outputs": [],
   "source": [
    "WqT = mla.decompress_q_nope.weight.T\n",
    "assert torch.allclose( mla.decompress_q_nope(xx),  xx @ WqT)\n",
    "\n",
    "olx = mla.decompress_q_nope(xx).reshape(batch_size,seq_len,mla.num_heads,mla.nope_head_dim)\n",
    "ocx = (xx @ WqT).reshape(batch_size,seq_len,mla.num_heads,mla.nope_head_dim)\n",
    "assert torch.allclose(olx,ocx)\n"
   ]
  },
  {
   "cell_type": "code",
   "execution_count": 434,
   "metadata": {},
   "outputs": [],
   "source": [
    "si,so = WqT.shape\n",
    "idx = 4\n",
    "hl1 = olx[:,:,idx,:]\n",
    "hc1 = (xx @ WqT.reshape(si,num_heads,-1)[:,idx,:])\n",
    "eo  = torch.einsum(\"bld,dj->blj\",xx,WqT.reshape(si,num_heads,-1)[:,idx,:])\n",
    "\n",
    "assert torch.allclose(hl1,eo)\n"
   ]
  },
  {
   "cell_type": "code",
   "execution_count": 435,
   "metadata": {},
   "outputs": [
    {
     "data": {
      "text/plain": [
       "torch.Size([20, 192, 96])"
      ]
     },
     "execution_count": 435,
     "metadata": {},
     "output_type": "execute_result"
    }
   ],
   "source": [
    "WqT.reshape(si,num_heads,-1).transpose(0,1).shape"
   ]
  },
  {
   "cell_type": "code",
   "execution_count": 436,
   "metadata": {},
   "outputs": [
    {
     "data": {
      "text/html": [
       "<pre style=\"white-space:pre;overflow-x:auto;line-height:normal;font-family:Menlo,'DejaVu Sans Mono',consolas,'Courier New',monospace\"><span style=\"color: #800080; text-decoration-color: #800080; font-weight: bold\">torch.Size</span><span style=\"font-weight: bold\">([</span><span style=\"color: #008080; text-decoration-color: #008080; font-weight: bold\">2</span>, <span style=\"color: #008080; text-decoration-color: #008080; font-weight: bold\">10</span>, <span style=\"color: #008080; text-decoration-color: #008080; font-weight: bold\">20</span>, <span style=\"color: #008080; text-decoration-color: #008080; font-weight: bold\">96</span><span style=\"font-weight: bold\">])</span>\n",
       "<span style=\"color: #800080; text-decoration-color: #800080; font-weight: bold\">torch.Size</span><span style=\"font-weight: bold\">([</span><span style=\"color: #008080; text-decoration-color: #008080; font-weight: bold\">2</span>, <span style=\"color: #008080; text-decoration-color: #008080; font-weight: bold\">10</span>, <span style=\"color: #008080; text-decoration-color: #008080; font-weight: bold\">20</span>, <span style=\"color: #008080; text-decoration-color: #008080; font-weight: bold\">96</span><span style=\"font-weight: bold\">])</span>\n",
       "</pre>\n"
      ],
      "text/plain": [
       "\u001b[1;35mtorch.Size\u001b[0m\u001b[1m(\u001b[0m\u001b[1m[\u001b[0m\u001b[1;36m2\u001b[0m, \u001b[1;36m10\u001b[0m, \u001b[1;36m20\u001b[0m, \u001b[1;36m96\u001b[0m\u001b[1m]\u001b[0m\u001b[1m)\u001b[0m\n",
       "\u001b[1;35mtorch.Size\u001b[0m\u001b[1m(\u001b[0m\u001b[1m[\u001b[0m\u001b[1;36m2\u001b[0m, \u001b[1;36m10\u001b[0m, \u001b[1;36m20\u001b[0m, \u001b[1;36m96\u001b[0m\u001b[1m]\u001b[0m\u001b[1m)\u001b[0m\n"
      ]
     },
     "metadata": {},
     "output_type": "display_data"
    }
   ],
   "source": [
    "H_dQ = mla.decompress_q_nope.weight.T.reshape(si,num_heads,-1).transpose(0,1)\n",
    "eo  = torch.einsum(\"bld,hdj->blhj\",xx,H_dQ)\n",
    "olx = mla.decompress_q_nope(xx).reshape(batch_size,seq_len,mla.num_heads,mla.nope_head_dim)\n",
    "print(olx.shape,eo.shape)\n",
    "assert torch.allclose(olx,eo)"
   ]
  },
  {
   "cell_type": "code",
   "execution_count": 437,
   "metadata": {},
   "outputs": [
    {
     "data": {
      "text/html": [
       "<pre style=\"white-space:pre;overflow-x:auto;line-height:normal;font-family:Menlo,'DejaVu Sans Mono',consolas,'Courier New',monospace\"><span style=\"color: #800080; text-decoration-color: #800080; font-weight: bold\">torch.Size</span><span style=\"font-weight: bold\">([</span><span style=\"color: #008080; text-decoration-color: #008080; font-weight: bold\">64</span>, <span style=\"color: #008080; text-decoration-color: #008080; font-weight: bold\">1920</span><span style=\"font-weight: bold\">])</span>\n",
       "</pre>\n"
      ],
      "text/plain": [
       "\u001b[1;35mtorch.Size\u001b[0m\u001b[1m(\u001b[0m\u001b[1m[\u001b[0m\u001b[1;36m64\u001b[0m, \u001b[1;36m1920\u001b[0m\u001b[1m]\u001b[0m\u001b[1m)\u001b[0m\n"
      ]
     },
     "metadata": {},
     "output_type": "display_data"
    },
    {
     "data": {
      "text/html": [
       "<pre style=\"white-space:pre;overflow-x:auto;line-height:normal;font-family:Menlo,'DejaVu Sans Mono',consolas,'Courier New',monospace\"><span style=\"color: #800080; text-decoration-color: #800080; font-weight: bold\">torch.Size</span><span style=\"font-weight: bold\">([</span><span style=\"color: #008080; text-decoration-color: #008080; font-weight: bold\">20</span>, <span style=\"color: #008080; text-decoration-color: #008080; font-weight: bold\">64</span>, <span style=\"color: #008080; text-decoration-color: #008080; font-weight: bold\">96</span><span style=\"font-weight: bold\">])</span>\n",
       "</pre>\n"
      ],
      "text/plain": [
       "\u001b[1;35mtorch.Size\u001b[0m\u001b[1m(\u001b[0m\u001b[1m[\u001b[0m\u001b[1;36m20\u001b[0m, \u001b[1;36m64\u001b[0m, \u001b[1;36m96\u001b[0m\u001b[1m]\u001b[0m\u001b[1m)\u001b[0m\n"
      ]
     },
     "metadata": {},
     "output_type": "display_data"
    }
   ],
   "source": [
    "print(mla.decompress_k_nope.weight.T.shape)\n",
    "xi,xo = mla.decompress_k_nope.weight.T.shape\n",
    "H_dKV = mla.decompress_k_nope.weight.T.reshape(xi,num_heads,-1).transpose(0,1)\n",
    "print(H_dKV.shape)"
   ]
  },
  {
   "cell_type": "code",
   "execution_count": 438,
   "metadata": {},
   "outputs": [
    {
     "data": {
      "text/plain": [
       "(torch.Size([20, 192, 96]), torch.Size([20, 96, 64]))"
      ]
     },
     "execution_count": 438,
     "metadata": {},
     "output_type": "execute_result"
    }
   ],
   "source": [
    "H_dQ.shape,H_dKV.transpose(-1,-2).shape\n"
   ]
  },
  {
   "cell_type": "code",
   "execution_count": 439,
   "metadata": {},
   "outputs": [
    {
     "data": {
      "text/plain": [
       "torch.Size([20, 192, 64])"
      ]
     },
     "execution_count": 439,
     "metadata": {},
     "output_type": "execute_result"
    }
   ],
   "source": [
    "H_dQK = H_dQ@H_dKV.transpose(-1,-2)\n",
    "\n",
    "H_dQK.shape"
   ]
  },
  {
   "cell_type": "code",
   "execution_count": 440,
   "metadata": {},
   "outputs": [
    {
     "data": {
      "text/plain": [
       "torch.Size([2, 10, 192])"
      ]
     },
     "execution_count": 440,
     "metadata": {},
     "output_type": "execute_result"
    }
   ],
   "source": [
    "cq.shape"
   ]
  },
  {
   "cell_type": "markdown",
   "metadata": {},
   "source": [
    "## Merge Wv and Wo"
   ]
  },
  {
   "cell_type": "code",
   "execution_count": 441,
   "metadata": {},
   "outputs": [
    {
     "data": {
      "text/plain": [
       "torch.Size([2, 20, 10, 10])"
      ]
     },
     "execution_count": 441,
     "metadata": {},
     "output_type": "execute_result"
    }
   ],
   "source": [
    "x = torch.randn(batch_size,seq_len,d_model)\n",
    "batch_size, seq_len, _ = x.shape\n",
    "\n",
    "cq = mla.compress_q_linear(x)\n",
    "ckv = mla.compress_kv_linear(x)\n",
    "\n",
    "\n",
    "cq = mla.q_norm(cq)\n",
    "ckv = mla.kv_norm(ckv)\n",
    "\n",
    "q_nope = mla.decompress_q_nope(cq)\n",
    "k_nope = mla.decompress_k_nope(ckv)\n",
    "\n",
    "q_nope = q_nope.view(batch_size, seq_len, mla.num_heads, mla.nope_head_dim).transpose(1,2)\n",
    "k_nope = k_nope.view(batch_size, seq_len, mla.num_heads, mla.nope_head_dim).transpose(1,2)\n",
    "\n",
    "\n",
    "\n",
    "q = q_nope.clone().detach()\n",
    "k = k_nope.clone().detach()\n",
    "\n",
    "q.shape,k.shape\n",
    "\n",
    "attn = q@k.transpose(-1,-2)\n",
    "\n",
    "attn.shape"
   ]
  },
  {
   "cell_type": "code",
   "execution_count": 514,
   "metadata": {},
   "outputs": [
    {
     "data": {
      "text/html": [
       "<pre style=\"white-space:pre;overflow-x:auto;line-height:normal;font-family:Menlo,'DejaVu Sans Mono',consolas,'Courier New',monospace\">ckv.shape: <span style=\"color: #800080; text-decoration-color: #800080; font-weight: bold\">torch.Size</span><span style=\"font-weight: bold\">([</span><span style=\"color: #008080; text-decoration-color: #008080; font-weight: bold\">2</span>, <span style=\"color: #008080; text-decoration-color: #008080; font-weight: bold\">10</span>, <span style=\"color: #008080; text-decoration-color: #008080; font-weight: bold\">64</span><span style=\"font-weight: bold\">])</span>, h_Wv.shape: <span style=\"color: #800080; text-decoration-color: #800080; font-weight: bold\">torch.Size</span><span style=\"font-weight: bold\">([</span><span style=\"color: #008080; text-decoration-color: #008080; font-weight: bold\">20</span>, <span style=\"color: #008080; text-decoration-color: #008080; font-weight: bold\">64</span>, <span style=\"color: #008080; text-decoration-color: #008080; font-weight: bold\">128</span><span style=\"font-weight: bold\">])</span>\n",
       "</pre>\n"
      ],
      "text/plain": [
       "ckv.shape: \u001b[1;35mtorch.Size\u001b[0m\u001b[1m(\u001b[0m\u001b[1m[\u001b[0m\u001b[1;36m2\u001b[0m, \u001b[1;36m10\u001b[0m, \u001b[1;36m64\u001b[0m\u001b[1m]\u001b[0m\u001b[1m)\u001b[0m, h_Wv.shape: \u001b[1;35mtorch.Size\u001b[0m\u001b[1m(\u001b[0m\u001b[1m[\u001b[0m\u001b[1;36m20\u001b[0m, \u001b[1;36m64\u001b[0m, \u001b[1;36m128\u001b[0m\u001b[1m]\u001b[0m\u001b[1m)\u001b[0m\n"
      ]
     },
     "metadata": {},
     "output_type": "display_data"
    },
    {
     "data": {
      "text/html": [
       "<pre style=\"white-space:pre;overflow-x:auto;line-height:normal;font-family:Menlo,'DejaVu Sans Mono',consolas,'Courier New',monospace\"><span style=\"color: #800080; text-decoration-color: #800080; font-weight: bold\">torch.Size</span><span style=\"font-weight: bold\">([</span><span style=\"color: #008080; text-decoration-color: #008080; font-weight: bold\">2</span>, <span style=\"color: #008080; text-decoration-color: #008080; font-weight: bold\">20</span>, <span style=\"color: #008080; text-decoration-color: #008080; font-weight: bold\">10</span>, <span style=\"color: #008080; text-decoration-color: #008080; font-weight: bold\">128</span><span style=\"font-weight: bold\">])</span>\n",
       "</pre>\n"
      ],
      "text/plain": [
       "\u001b[1;35mtorch.Size\u001b[0m\u001b[1m(\u001b[0m\u001b[1m[\u001b[0m\u001b[1;36m2\u001b[0m, \u001b[1;36m20\u001b[0m, \u001b[1;36m10\u001b[0m, \u001b[1;36m128\u001b[0m\u001b[1m]\u001b[0m\u001b[1m)\u001b[0m\n"
      ]
     },
     "metadata": {},
     "output_type": "display_data"
    },
    {
     "data": {
      "text/html": [
       "<pre style=\"white-space:pre;overflow-x:auto;line-height:normal;font-family:Menlo,'DejaVu Sans Mono',consolas,'Courier New',monospace\">attn_out.shape: <span style=\"color: #800080; text-decoration-color: #800080; font-weight: bold\">torch.Size</span><span style=\"font-weight: bold\">([</span><span style=\"color: #008080; text-decoration-color: #008080; font-weight: bold\">2</span>, <span style=\"color: #008080; text-decoration-color: #008080; font-weight: bold\">20</span>, <span style=\"color: #008080; text-decoration-color: #008080; font-weight: bold\">10</span>, <span style=\"color: #008080; text-decoration-color: #008080; font-weight: bold\">128</span><span style=\"font-weight: bold\">])</span>\n",
       "</pre>\n"
      ],
      "text/plain": [
       "attn_out.shape: \u001b[1;35mtorch.Size\u001b[0m\u001b[1m(\u001b[0m\u001b[1m[\u001b[0m\u001b[1;36m2\u001b[0m, \u001b[1;36m20\u001b[0m, \u001b[1;36m10\u001b[0m, \u001b[1;36m128\u001b[0m\u001b[1m]\u001b[0m\u001b[1m)\u001b[0m\n"
      ]
     },
     "metadata": {},
     "output_type": "display_data"
    }
   ],
   "source": [
    "\n",
    "Wv = mla.decompress_v_linear.weight\n",
    "wv_in, wv_out = Wv.shape\n",
    "\n",
    "h_Wv = Wv.T.reshape(wv_out,mla.num_heads,-1).transpose(0,1)\n",
    "\n",
    "value = (ckv@Wv.T).view(batch_size, seq_len, mla.num_heads, mla.head_dim).transpose(1,2)\n",
    "\n",
    "print(f\"ckv.shape: {ckv.shape}, h_Wv.shape: {h_Wv.shape}\")\n",
    "v_shaped = torch.einsum(\"bld,hdj->bhlj\",ckv,h_Wv)\n",
    "print(v_shaped.shape)\n",
    "\n",
    "\n",
    "attn_out = (attn@value) \n",
    "assert torch.allclose(attn_out,attn@v_shaped)\n",
    "print(f\"attn_out.shape: {attn_out.shape}\")"
   ]
  },
  {
   "cell_type": "code",
   "execution_count": 491,
   "metadata": {},
   "outputs": [
    {
     "data": {
      "text/html": [
       "<pre style=\"white-space:pre;overflow-x:auto;line-height:normal;font-family:Menlo,'DejaVu Sans Mono',consolas,'Courier New',monospace\"><span style=\"color: #008080; text-decoration-color: #008080; font-weight: bold\">1024</span> <span style=\"color: #008080; text-decoration-color: #008080; font-weight: bold\">2560</span>\n",
       "</pre>\n"
      ],
      "text/plain": [
       "\u001b[1;36m1024\u001b[0m \u001b[1;36m2560\u001b[0m\n"
      ]
     },
     "metadata": {},
     "output_type": "display_data"
    },
    {
     "data": {
      "text/html": [
       "<pre style=\"white-space:pre;overflow-x:auto;line-height:normal;font-family:Menlo,'DejaVu Sans Mono',consolas,'Courier New',monospace\">h_Wo.shape: <span style=\"color: #800080; text-decoration-color: #800080; font-weight: bold\">torch.Size</span><span style=\"font-weight: bold\">([</span><span style=\"color: #008080; text-decoration-color: #008080; font-weight: bold\">20</span>, <span style=\"color: #008080; text-decoration-color: #008080; font-weight: bold\">128</span>, <span style=\"color: #008080; text-decoration-color: #008080; font-weight: bold\">1024</span><span style=\"font-weight: bold\">])</span>\n",
       "</pre>\n"
      ],
      "text/plain": [
       "h_Wo.shape: \u001b[1;35mtorch.Size\u001b[0m\u001b[1m(\u001b[0m\u001b[1m[\u001b[0m\u001b[1;36m20\u001b[0m, \u001b[1;36m128\u001b[0m, \u001b[1;36m1024\u001b[0m\u001b[1m]\u001b[0m\u001b[1m)\u001b[0m\n"
      ]
     },
     "metadata": {},
     "output_type": "display_data"
    },
    {
     "data": {
      "text/html": [
       "<pre style=\"white-space:pre;overflow-x:auto;line-height:normal;font-family:Menlo,'DejaVu Sans Mono',consolas,'Courier New',monospace\">output.shape: <span style=\"color: #800080; text-decoration-color: #800080; font-weight: bold\">torch.Size</span><span style=\"font-weight: bold\">([</span><span style=\"color: #008080; text-decoration-color: #008080; font-weight: bold\">2</span>, <span style=\"color: #008080; text-decoration-color: #008080; font-weight: bold\">10</span>, <span style=\"color: #008080; text-decoration-color: #008080; font-weight: bold\">1024</span><span style=\"font-weight: bold\">])</span>\n",
       "</pre>\n"
      ],
      "text/plain": [
       "output.shape: \u001b[1;35mtorch.Size\u001b[0m\u001b[1m(\u001b[0m\u001b[1m[\u001b[0m\u001b[1;36m2\u001b[0m, \u001b[1;36m10\u001b[0m, \u001b[1;36m1024\u001b[0m\u001b[1m]\u001b[0m\u001b[1m)\u001b[0m\n"
      ]
     },
     "metadata": {},
     "output_type": "display_data"
    },
    {
     "data": {
      "text/html": [
       "<pre style=\"white-space:pre;overflow-x:auto;line-height:normal;font-family:Menlo,'DejaVu Sans Mono',consolas,'Courier New',monospace\"><span style=\"color: #800000; text-decoration-color: #800000\">╭─────────────────────────────── </span><span style=\"color: #800000; text-decoration-color: #800000; font-weight: bold\">Traceback </span><span style=\"color: #bf7f7f; text-decoration-color: #bf7f7f; font-weight: bold\">(most recent call last)</span><span style=\"color: #800000; text-decoration-color: #800000\"> ────────────────────────────────╮</span>\n",
       "<span style=\"color: #800000; text-decoration-color: #800000\">│</span> in <span style=\"color: #00ff00; text-decoration-color: #00ff00\">&lt;module&gt;</span>:<span style=\"color: #0000ff; text-decoration-color: #0000ff\">9</span>                                                                                    <span style=\"color: #800000; text-decoration-color: #800000\">│</span>\n",
       "<span style=\"color: #800000; text-decoration-color: #800000\">│</span>                                                                                                  <span style=\"color: #800000; text-decoration-color: #800000\">│</span>\n",
       "<span style=\"color: #800000; text-decoration-color: #800000\">│</span>   <span style=\"color: #7f7f7f; text-decoration-color: #7f7f7f\"> 6 </span>output = (attn_out.transpose(<span style=\"color: #0000ff; text-decoration-color: #0000ff\">1</span>,<span style=\"color: #0000ff; text-decoration-color: #0000ff\">2</span>).reshape(batch_size,seq_len,num_heads*head_dim) @ Wo.T)    <span style=\"color: #800000; text-decoration-color: #800000\">│</span>\n",
       "<span style=\"color: #800000; text-decoration-color: #800000\">│</span>   <span style=\"color: #7f7f7f; text-decoration-color: #7f7f7f\"> 7 </span><span style=\"color: #00ffff; text-decoration-color: #00ffff\">print</span>(<span style=\"color: #808000; text-decoration-color: #808000\">f\"output.shape: {</span>output.shape<span style=\"color: #808000; text-decoration-color: #808000\">}\"</span>)                                                      <span style=\"color: #800000; text-decoration-color: #800000\">│</span>\n",
       "<span style=\"color: #800000; text-decoration-color: #800000\">│</span>   <span style=\"color: #7f7f7f; text-decoration-color: #7f7f7f\"> 8 </span>                                                                                            <span style=\"color: #800000; text-decoration-color: #800000\">│</span>\n",
       "<span style=\"color: #800000; text-decoration-color: #800000\">│</span> <span style=\"color: #800000; text-decoration-color: #800000\">❱ </span> 9 flat_output = <span style=\"font-weight: bold; text-decoration: underline\">torch.einsum(</span><span style=\"color: #808000; text-decoration-color: #808000; font-weight: bold; text-decoration: underline\">\"bl(hn),(hn)j-&gt;blj\"</span><span style=\"font-weight: bold; text-decoration: underline\">,attn_out.transpose(</span><span style=\"color: #0000ff; text-decoration-color: #0000ff; font-weight: bold; text-decoration: underline\">1</span><span style=\"font-weight: bold; text-decoration: underline\">,</span><span style=\"color: #0000ff; text-decoration-color: #0000ff; font-weight: bold; text-decoration: underline\">2</span><span style=\"font-weight: bold; text-decoration: underline\">),Wo.T)</span>                <span style=\"color: #800000; text-decoration-color: #800000\">│</span>\n",
       "<span style=\"color: #800000; text-decoration-color: #800000\">│</span>   <span style=\"color: #7f7f7f; text-decoration-color: #7f7f7f\">10 </span><span style=\"color: #00ffff; text-decoration-color: #00ffff\">print</span>(<span style=\"color: #808000; text-decoration-color: #808000\">\"x\"</span>,flat_output.shape)                                                                <span style=\"color: #800000; text-decoration-color: #800000\">│</span>\n",
       "<span style=\"color: #800000; text-decoration-color: #800000\">│</span>   <span style=\"color: #7f7f7f; text-decoration-color: #7f7f7f\">11 </span><span style=\"color: #0000ff; text-decoration-color: #0000ff\">assert</span> torch.allclose(output,flat_output)                                                   <span style=\"color: #800000; text-decoration-color: #800000\">│</span>\n",
       "<span style=\"color: #800000; text-decoration-color: #800000\">│</span>   <span style=\"color: #7f7f7f; text-decoration-color: #7f7f7f\">12 </span>                                                                                            <span style=\"color: #800000; text-decoration-color: #800000\">│</span>\n",
       "<span style=\"color: #800000; text-decoration-color: #800000\">│</span>                                                                                                  <span style=\"color: #800000; text-decoration-color: #800000\">│</span>\n",
       "<span style=\"color: #800000; text-decoration-color: #800000\">│</span> <span style=\"color: #bfbf7f; text-decoration-color: #bfbf7f\">/home/joey/.venv/lib/python3.12/site-packages/torch/</span><span style=\"color: #808000; text-decoration-color: #808000; font-weight: bold\">functional.py</span>:<span style=\"color: #0000ff; text-decoration-color: #0000ff\">386</span> in <span style=\"color: #00ff00; text-decoration-color: #00ff00\">einsum</span>                  <span style=\"color: #800000; text-decoration-color: #800000\">│</span>\n",
       "<span style=\"color: #800000; text-decoration-color: #800000\">│</span>                                                                                                  <span style=\"color: #800000; text-decoration-color: #800000\">│</span>\n",
       "<span style=\"color: #800000; text-decoration-color: #800000\">│</span>   <span style=\"color: #7f7f7f; text-decoration-color: #7f7f7f\"> 383 </span><span style=\"color: #7f7f7f; text-decoration-color: #7f7f7f\">│   </span><span style=\"color: #0000ff; text-decoration-color: #0000ff\">if</span> <span style=\"color: #00ffff; text-decoration-color: #00ffff\">len</span>(operands) &lt;= <span style=\"color: #0000ff; text-decoration-color: #0000ff\">2</span> <span style=\"color: #ff00ff; text-decoration-color: #ff00ff\">or</span> <span style=\"color: #ff00ff; text-decoration-color: #ff00ff\">not</span> opt_einsum.enabled:                                      <span style=\"color: #800000; text-decoration-color: #800000\">│</span>\n",
       "<span style=\"color: #800000; text-decoration-color: #800000\">│</span>   <span style=\"color: #7f7f7f; text-decoration-color: #7f7f7f\"> 384 </span><span style=\"color: #7f7f7f; text-decoration-color: #7f7f7f\">│   │   </span><span style=\"color: #7f7f7f; text-decoration-color: #7f7f7f\"># the path for contracting 0 or 1 time(s) is already optimized</span>                    <span style=\"color: #800000; text-decoration-color: #800000\">│</span>\n",
       "<span style=\"color: #800000; text-decoration-color: #800000\">│</span>   <span style=\"color: #7f7f7f; text-decoration-color: #7f7f7f\"> 385 </span><span style=\"color: #7f7f7f; text-decoration-color: #7f7f7f\">│   │   </span><span style=\"color: #7f7f7f; text-decoration-color: #7f7f7f\"># or the user has disabled using opt_einsum</span>                                       <span style=\"color: #800000; text-decoration-color: #800000\">│</span>\n",
       "<span style=\"color: #800000; text-decoration-color: #800000\">│</span> <span style=\"color: #800000; text-decoration-color: #800000\">❱ </span> 386 <span style=\"color: #7f7f7f; text-decoration-color: #7f7f7f\">│   │   </span><span style=\"color: #0000ff; text-decoration-color: #0000ff\">return</span> <span style=\"font-weight: bold; text-decoration: underline\">_VF.einsum(equation, operands)</span>  <span style=\"color: #7f7f7f; text-decoration-color: #7f7f7f\"># type: ignore[attr-defined]</span>               <span style=\"color: #800000; text-decoration-color: #800000\">│</span>\n",
       "<span style=\"color: #800000; text-decoration-color: #800000\">│</span>   <span style=\"color: #7f7f7f; text-decoration-color: #7f7f7f\"> 387 </span><span style=\"color: #7f7f7f; text-decoration-color: #7f7f7f\">│   </span>                                                                                      <span style=\"color: #800000; text-decoration-color: #800000\">│</span>\n",
       "<span style=\"color: #800000; text-decoration-color: #800000\">│</span>   <span style=\"color: #7f7f7f; text-decoration-color: #7f7f7f\"> 388 </span><span style=\"color: #7f7f7f; text-decoration-color: #7f7f7f\">│   </span>path = <span style=\"color: #0000ff; text-decoration-color: #0000ff\">None</span>                                                                           <span style=\"color: #800000; text-decoration-color: #800000\">│</span>\n",
       "<span style=\"color: #800000; text-decoration-color: #800000\">│</span>   <span style=\"color: #7f7f7f; text-decoration-color: #7f7f7f\"> 389 </span><span style=\"color: #7f7f7f; text-decoration-color: #7f7f7f\">│   </span><span style=\"color: #0000ff; text-decoration-color: #0000ff\">if</span> opt_einsum.is_available():                                                         <span style=\"color: #800000; text-decoration-color: #800000\">│</span>\n",
       "<span style=\"color: #800000; text-decoration-color: #800000\">╰──────────────────────────────────────────────────────────────────────────────────────────────────╯</span>\n",
       "<span style=\"color: #ff0000; text-decoration-color: #ff0000; font-weight: bold\">RuntimeError: </span><span style=\"color: #800080; text-decoration-color: #800080; font-weight: bold\">einsum</span><span style=\"font-weight: bold\">()</span>: invalid subscript given at index <span style=\"color: #008080; text-decoration-color: #008080; font-weight: bold\">2</span> in the equation string, subscripts must be in <span style=\"font-weight: bold\">[</span>a-zA-Z<span style=\"font-weight: bold\">]</span>\n",
       "</pre>\n"
      ],
      "text/plain": [
       "\u001b[31m╭─\u001b[0m\u001b[31m──────────────────────────────\u001b[0m\u001b[31m \u001b[0m\u001b[1;31mTraceback \u001b[0m\u001b[1;2;31m(most recent call last)\u001b[0m\u001b[31m \u001b[0m\u001b[31m───────────────────────────────\u001b[0m\u001b[31m─╮\u001b[0m\n",
       "\u001b[31m│\u001b[0m in \u001b[92m<module>\u001b[0m:\u001b[94m9\u001b[0m                                                                                    \u001b[31m│\u001b[0m\n",
       "\u001b[31m│\u001b[0m                                                                                                  \u001b[31m│\u001b[0m\n",
       "\u001b[31m│\u001b[0m   \u001b[2m 6 \u001b[0moutput = (attn_out.transpose(\u001b[94m1\u001b[0m,\u001b[94m2\u001b[0m).reshape(batch_size,seq_len,num_heads*head_dim) @ Wo.T)    \u001b[31m│\u001b[0m\n",
       "\u001b[31m│\u001b[0m   \u001b[2m 7 \u001b[0m\u001b[96mprint\u001b[0m(\u001b[33mf\u001b[0m\u001b[33m\"\u001b[0m\u001b[33moutput.shape: \u001b[0m\u001b[33m{\u001b[0moutput.shape\u001b[33m}\u001b[0m\u001b[33m\"\u001b[0m)                                                      \u001b[31m│\u001b[0m\n",
       "\u001b[31m│\u001b[0m   \u001b[2m 8 \u001b[0m                                                                                            \u001b[31m│\u001b[0m\n",
       "\u001b[31m│\u001b[0m \u001b[31m❱ \u001b[0m 9 flat_output = \u001b[1;4mtorch.einsum(\u001b[0m\u001b[1;4;33m\"\u001b[0m\u001b[1;4;33mbl(hn),(hn)j->blj\u001b[0m\u001b[1;4;33m\"\u001b[0m\u001b[1;4m,attn_out.transpose(\u001b[0m\u001b[1;4;94m1\u001b[0m\u001b[1;4m,\u001b[0m\u001b[1;4;94m2\u001b[0m\u001b[1;4m),Wo.T)\u001b[0m                \u001b[31m│\u001b[0m\n",
       "\u001b[31m│\u001b[0m   \u001b[2m10 \u001b[0m\u001b[96mprint\u001b[0m(\u001b[33m\"\u001b[0m\u001b[33mx\u001b[0m\u001b[33m\"\u001b[0m,flat_output.shape)                                                                \u001b[31m│\u001b[0m\n",
       "\u001b[31m│\u001b[0m   \u001b[2m11 \u001b[0m\u001b[94massert\u001b[0m torch.allclose(output,flat_output)                                                   \u001b[31m│\u001b[0m\n",
       "\u001b[31m│\u001b[0m   \u001b[2m12 \u001b[0m                                                                                            \u001b[31m│\u001b[0m\n",
       "\u001b[31m│\u001b[0m                                                                                                  \u001b[31m│\u001b[0m\n",
       "\u001b[31m│\u001b[0m \u001b[2;33m/home/joey/.venv/lib/python3.12/site-packages/torch/\u001b[0m\u001b[1;33mfunctional.py\u001b[0m:\u001b[94m386\u001b[0m in \u001b[92meinsum\u001b[0m                  \u001b[31m│\u001b[0m\n",
       "\u001b[31m│\u001b[0m                                                                                                  \u001b[31m│\u001b[0m\n",
       "\u001b[31m│\u001b[0m   \u001b[2m 383 \u001b[0m\u001b[2m│   \u001b[0m\u001b[94mif\u001b[0m \u001b[96mlen\u001b[0m(operands) <= \u001b[94m2\u001b[0m \u001b[95mor\u001b[0m \u001b[95mnot\u001b[0m opt_einsum.enabled:                                      \u001b[31m│\u001b[0m\n",
       "\u001b[31m│\u001b[0m   \u001b[2m 384 \u001b[0m\u001b[2m│   │   \u001b[0m\u001b[2m# the path for contracting 0 or 1 time(s) is already optimized\u001b[0m                    \u001b[31m│\u001b[0m\n",
       "\u001b[31m│\u001b[0m   \u001b[2m 385 \u001b[0m\u001b[2m│   │   \u001b[0m\u001b[2m# or the user has disabled using opt_einsum\u001b[0m                                       \u001b[31m│\u001b[0m\n",
       "\u001b[31m│\u001b[0m \u001b[31m❱ \u001b[0m 386 \u001b[2m│   │   \u001b[0m\u001b[94mreturn\u001b[0m \u001b[1;4m_VF.einsum(equation, operands)\u001b[0m  \u001b[2m# type: ignore[attr-defined]\u001b[0m               \u001b[31m│\u001b[0m\n",
       "\u001b[31m│\u001b[0m   \u001b[2m 387 \u001b[0m\u001b[2m│   \u001b[0m                                                                                      \u001b[31m│\u001b[0m\n",
       "\u001b[31m│\u001b[0m   \u001b[2m 388 \u001b[0m\u001b[2m│   \u001b[0mpath = \u001b[94mNone\u001b[0m                                                                           \u001b[31m│\u001b[0m\n",
       "\u001b[31m│\u001b[0m   \u001b[2m 389 \u001b[0m\u001b[2m│   \u001b[0m\u001b[94mif\u001b[0m opt_einsum.is_available():                                                         \u001b[31m│\u001b[0m\n",
       "\u001b[31m╰──────────────────────────────────────────────────────────────────────────────────────────────────╯\u001b[0m\n",
       "\u001b[1;91mRuntimeError: \u001b[0m\u001b[1;35meinsum\u001b[0m\u001b[1m(\u001b[0m\u001b[1m)\u001b[0m: invalid subscript given at index \u001b[1;36m2\u001b[0m in the equation string, subscripts must be in \u001b[1m[\u001b[0ma-zA-Z\u001b[1m]\u001b[0m\n"
      ]
     },
     "metadata": {},
     "output_type": "display_data"
    }
   ],
   "source": [
    "Wo = mla.proj.weight\n",
    "o_in, o_out = Wo.shape\n",
    "print(o_in,o_out)\n",
    "h_Wo = Wo.T.reshape(-1,mla.num_heads,o_in).transpose(0,1)\n",
    "print(f\"h_Wo.shape: {h_Wo.shape}\")\n",
    "output = (attn_out.transpose(1,2).reshape(batch_size,seq_len,num_heads*head_dim) @ Wo.T)\n",
    "print(f\"output.shape: {output.shape}\")\n",
    "\n",
    "flat_output = torch.einsum(\"blhi,ij->blj\",attn_out.transpose(1,2).reshape(batch_size,seq_len,num_heads*head_dim) ,Wo.T)\n",
    "print(\"x\",flat_output.shape)\n",
    "assert torch.allclose(output,flat_output)"
   ]
  },
  {
   "cell_type": "code",
   "execution_count": 474,
   "metadata": {},
   "outputs": [
    {
     "data": {
      "text/plain": [
       "torch.Size([2, 10, 20, 128])"
      ]
     },
     "execution_count": 474,
     "metadata": {},
     "output_type": "execute_result"
    }
   ],
   "source": [
    "attn_out.transpose(1,2).shape"
   ]
  },
  {
   "cell_type": "code",
   "execution_count": 478,
   "metadata": {},
   "outputs": [
    {
     "data": {
      "text/plain": [
       "tensor([[[ 0,  1],\n",
       "         [ 2,  3],\n",
       "         [ 4,  5],\n",
       "         [ 6,  7],\n",
       "         [ 8,  9]],\n",
       "\n",
       "        [[10, 11],\n",
       "         [12, 13],\n",
       "         [14, 15],\n",
       "         [16, 17],\n",
       "         [18, 19]]])"
      ]
     },
     "execution_count": 478,
     "metadata": {},
     "output_type": "execute_result"
    }
   ],
   "source": [
    "torch.arange(20).reshape(2,5,2)"
   ]
  },
  {
   "cell_type": "code",
   "execution_count": 508,
   "metadata": {},
   "outputs": [],
   "source": [
    "x = torch.rand(2, 3,4, 5)\n",
    "w = torch.rand(4*5, 10)\n",
    "\n",
    "out = x.reshape(2,3, -1) @ w\n",
    "\n",
    "# einsum\n",
    "w2 = w.reshape(4, 5, 10)\n",
    "\n",
    "w2 = w.reshape(4, 5, 10)\n",
    "out2 = torch.einsum(\"blcv,cvj->blj\", x, w2)\n",
    "\n",
    "assert torch.allclose(out, out2)"
   ]
  },
  {
   "cell_type": "code",
   "execution_count": 515,
   "metadata": {},
   "outputs": [],
   "source": []
  },
  {
   "cell_type": "code",
   "execution_count": 535,
   "metadata": {},
   "outputs": [
    {
     "data": {
      "text/html": [
       "<pre style=\"white-space:pre;overflow-x:auto;line-height:normal;font-family:Menlo,'DejaVu Sans Mono',consolas,'Courier New',monospace\">attn_out.shape: <span style=\"color: #800080; text-decoration-color: #800080; font-weight: bold\">torch.Size</span><span style=\"font-weight: bold\">([</span><span style=\"color: #008080; text-decoration-color: #008080; font-weight: bold\">2</span>, <span style=\"color: #008080; text-decoration-color: #008080; font-weight: bold\">10</span>, <span style=\"color: #008080; text-decoration-color: #008080; font-weight: bold\">20</span>, <span style=\"color: #008080; text-decoration-color: #008080; font-weight: bold\">128</span><span style=\"font-weight: bold\">])</span>, mla.proj.weight.T.shape: <span style=\"color: #800080; text-decoration-color: #800080; font-weight: bold\">torch.Size</span><span style=\"font-weight: bold\">([</span><span style=\"color: #008080; text-decoration-color: #008080; font-weight: bold\">2560</span>, <span style=\"color: #008080; text-decoration-color: #008080; font-weight: bold\">1024</span><span style=\"font-weight: bold\">])</span>\n",
       "</pre>\n"
      ],
      "text/plain": [
       "attn_out.shape: \u001b[1;35mtorch.Size\u001b[0m\u001b[1m(\u001b[0m\u001b[1m[\u001b[0m\u001b[1;36m2\u001b[0m, \u001b[1;36m10\u001b[0m, \u001b[1;36m20\u001b[0m, \u001b[1;36m128\u001b[0m\u001b[1m]\u001b[0m\u001b[1m)\u001b[0m, mla.proj.weight.T.shape: \u001b[1;35mtorch.Size\u001b[0m\u001b[1m(\u001b[0m\u001b[1m[\u001b[0m\u001b[1;36m2560\u001b[0m, \u001b[1;36m1024\u001b[0m\u001b[1m]\u001b[0m\u001b[1m)\u001b[0m\n"
      ]
     },
     "metadata": {},
     "output_type": "display_data"
    },
    {
     "data": {
      "text/html": [
       "<pre style=\"white-space:pre;overflow-x:auto;line-height:normal;font-family:Menlo,'DejaVu Sans Mono',consolas,'Courier New',monospace\"><span style=\"color: #800080; text-decoration-color: #800080; font-weight: bold\">torch.Size</span><span style=\"font-weight: bold\">([</span><span style=\"color: #008080; text-decoration-color: #008080; font-weight: bold\">2</span>, <span style=\"color: #008080; text-decoration-color: #008080; font-weight: bold\">10</span>, <span style=\"color: #008080; text-decoration-color: #008080; font-weight: bold\">1024</span><span style=\"font-weight: bold\">])</span>\n",
       "</pre>\n"
      ],
      "text/plain": [
       "\u001b[1;35mtorch.Size\u001b[0m\u001b[1m(\u001b[0m\u001b[1m[\u001b[0m\u001b[1;36m2\u001b[0m, \u001b[1;36m10\u001b[0m, \u001b[1;36m1024\u001b[0m\u001b[1m]\u001b[0m\u001b[1m)\u001b[0m\n"
      ]
     },
     "metadata": {},
     "output_type": "display_data"
    },
    {
     "data": {
      "text/html": [
       "<pre style=\"white-space:pre;overflow-x:auto;line-height:normal;font-family:Menlo,'DejaVu Sans Mono',consolas,'Courier New',monospace\">vv.shape: <span style=\"color: #800080; text-decoration-color: #800080; font-weight: bold\">torch.Size</span><span style=\"font-weight: bold\">([</span><span style=\"color: #008080; text-decoration-color: #008080; font-weight: bold\">2</span>, <span style=\"color: #008080; text-decoration-color: #008080; font-weight: bold\">10</span>, <span style=\"color: #008080; text-decoration-color: #008080; font-weight: bold\">20</span>, <span style=\"color: #008080; text-decoration-color: #008080; font-weight: bold\">128</span><span style=\"font-weight: bold\">])</span>, w2.shape: <span style=\"color: #800080; text-decoration-color: #800080; font-weight: bold\">torch.Size</span><span style=\"font-weight: bold\">([</span><span style=\"color: #008080; text-decoration-color: #008080; font-weight: bold\">20</span>, <span style=\"color: #008080; text-decoration-color: #008080; font-weight: bold\">128</span>, <span style=\"color: #008080; text-decoration-color: #008080; font-weight: bold\">1024</span><span style=\"font-weight: bold\">])</span>\n",
       "</pre>\n"
      ],
      "text/plain": [
       "vv.shape: \u001b[1;35mtorch.Size\u001b[0m\u001b[1m(\u001b[0m\u001b[1m[\u001b[0m\u001b[1;36m2\u001b[0m, \u001b[1;36m10\u001b[0m, \u001b[1;36m20\u001b[0m, \u001b[1;36m128\u001b[0m\u001b[1m]\u001b[0m\u001b[1m)\u001b[0m, w2.shape: \u001b[1;35mtorch.Size\u001b[0m\u001b[1m(\u001b[0m\u001b[1m[\u001b[0m\u001b[1;36m20\u001b[0m, \u001b[1;36m128\u001b[0m, \u001b[1;36m1024\u001b[0m\u001b[1m]\u001b[0m\u001b[1m)\u001b[0m\n"
      ]
     },
     "metadata": {},
     "output_type": "display_data"
    },
    {
     "data": {
      "text/html": [
       "<pre style=\"white-space:pre;overflow-x:auto;line-height:normal;font-family:Menlo,'DejaVu Sans Mono',consolas,'Courier New',monospace\"><span style=\"color: #800080; text-decoration-color: #800080; font-weight: bold\">torch.Size</span><span style=\"font-weight: bold\">([</span><span style=\"color: #008080; text-decoration-color: #008080; font-weight: bold\">2</span>, <span style=\"color: #008080; text-decoration-color: #008080; font-weight: bold\">10</span>, <span style=\"color: #008080; text-decoration-color: #008080; font-weight: bold\">1024</span><span style=\"font-weight: bold\">])</span>\n",
       "</pre>\n"
      ],
      "text/plain": [
       "\u001b[1;35mtorch.Size\u001b[0m\u001b[1m(\u001b[0m\u001b[1m[\u001b[0m\u001b[1;36m2\u001b[0m, \u001b[1;36m10\u001b[0m, \u001b[1;36m1024\u001b[0m\u001b[1m]\u001b[0m\u001b[1m)\u001b[0m\n"
      ]
     },
     "metadata": {},
     "output_type": "display_data"
    }
   ],
   "source": [
    "vv = attn_out.transpose(1,2)\n",
    "print(f\"attn_out.shape: {vv.shape}, mla.proj.weight.T.shape: {mla.proj.weight.T.shape}\")\n",
    "w = mla.proj.weight.T\n",
    "out = vv.reshape(2,10,-1) @ w\n",
    "print(out.shape)\n",
    "\n",
    "w2 = w.reshape(num_heads,head_dim,-1)\n",
    "print(f\"vv.shape: {vv.shape}, w2.shape: {w2.shape}\")\n",
    "out2 =torch.einsum(\"bclv,cvj->blj\", attn_out, w2)\n",
    "print(out2.shape)\n",
    "assert torch.allclose(out, out2)"
   ]
  },
  {
   "cell_type": "code",
   "execution_count": null,
   "metadata": {},
   "outputs": [],
   "source": []
  },
  {
   "cell_type": "markdown",
   "metadata": {},
   "source": [
    "# Final"
   ]
  },
  {
   "cell_type": "code",
   "execution_count": 536,
   "metadata": {},
   "outputs": [
    {
     "data": {
      "text/plain": [
       "<All keys matched successfully>"
      ]
     },
     "execution_count": 536,
     "metadata": {},
     "output_type": "execute_result"
    }
   ],
   "source": [
    "d_model = 1024\n",
    "num_heads = 20\n",
    "head_dim = 128\n",
    "kv_lora_rank = 64\n",
    "q_lora_rank = 3 * kv_lora_rank\n",
    "rope_head_dim = 32\n",
    "\n",
    "config = Config(\n",
    "    vocab_size=30522,\n",
    "    d_model=d_model,\n",
    "    seq_len=2048,\n",
    "    num_heads=num_heads,\n",
    "    head_dim=head_dim,\n",
    "    q_lora_rank=q_lora_rank,\n",
    "    kv_lora_rank=kv_lora_rank,\n",
    "    rope_head_dim=rope_head_dim,\n",
    ")\n",
    "\n",
    "\n",
    "x = torch.randn(2, 10, d_model)\n",
    "freqs_cis = precompute_freqs_cis(config.rope_head_dim, config.seq_len)\n",
    "mla = MultiHeadLatentAttention(config)\n",
    "mla_inference = MLA_Inference(config)\n",
    "\n",
    "mla_inference.load_state_dict(mla.state_dict())"
   ]
  },
  {
   "cell_type": "code",
   "execution_count": 550,
   "metadata": {},
   "outputs": [
    {
     "data": {
      "text/html": [
       "<pre style=\"white-space:pre;overflow-x:auto;line-height:normal;font-family:Menlo,'DejaVu Sans Mono',consolas,'Courier New',monospace\">q_rope.shape: <span style=\"color: #800080; text-decoration-color: #800080; font-weight: bold\">torch.Size</span><span style=\"font-weight: bold\">([</span><span style=\"color: #008080; text-decoration-color: #008080; font-weight: bold\">2</span>, <span style=\"color: #008080; text-decoration-color: #008080; font-weight: bold\">20</span>, <span style=\"color: #008080; text-decoration-color: #008080; font-weight: bold\">10</span>, <span style=\"color: #008080; text-decoration-color: #008080; font-weight: bold\">32</span><span style=\"font-weight: bold\">])</span>, k_rope.shape: <span style=\"color: #800080; text-decoration-color: #800080; font-weight: bold\">torch.Size</span><span style=\"font-weight: bold\">([</span><span style=\"color: #008080; text-decoration-color: #008080; font-weight: bold\">2</span>, <span style=\"color: #008080; text-decoration-color: #008080; font-weight: bold\">1</span>, <span style=\"color: #008080; text-decoration-color: #008080; font-weight: bold\">10</span>, <span style=\"color: #008080; text-decoration-color: #008080; font-weight: bold\">32</span><span style=\"font-weight: bold\">])</span>\n",
       "</pre>\n"
      ],
      "text/plain": [
       "q_rope.shape: \u001b[1;35mtorch.Size\u001b[0m\u001b[1m(\u001b[0m\u001b[1m[\u001b[0m\u001b[1;36m2\u001b[0m, \u001b[1;36m20\u001b[0m, \u001b[1;36m10\u001b[0m, \u001b[1;36m32\u001b[0m\u001b[1m]\u001b[0m\u001b[1m)\u001b[0m, k_rope.shape: \u001b[1;35mtorch.Size\u001b[0m\u001b[1m(\u001b[0m\u001b[1m[\u001b[0m\u001b[1;36m2\u001b[0m, \u001b[1;36m1\u001b[0m, \u001b[1;36m10\u001b[0m, \u001b[1;36m32\u001b[0m\u001b[1m]\u001b[0m\u001b[1m)\u001b[0m\n"
      ]
     },
     "metadata": {},
     "output_type": "display_data"
    },
    {
     "data": {
      "text/html": [
       "<pre style=\"white-space:pre;overflow-x:auto;line-height:normal;font-family:Menlo,'DejaVu Sans Mono',consolas,'Courier New',monospace\">attn_rope.shape: <span style=\"color: #800080; text-decoration-color: #800080; font-weight: bold\">tensor</span><span style=\"font-weight: bold\">([[[[</span> <span style=\"color: #008080; text-decoration-color: #008080; font-weight: bold\">1.9850e+00</span>, <span style=\"color: #008080; text-decoration-color: #008080; font-weight: bold\">-3.9690e-01</span>,  <span style=\"color: #008080; text-decoration-color: #008080; font-weight: bold\">1.3548e+00</span>,  <span style=\"color: #808000; text-decoration-color: #808000\">...</span>,  <span style=\"color: #008080; text-decoration-color: #008080; font-weight: bold\">7.4376e-01</span>,\n",
       "            <span style=\"color: #008080; text-decoration-color: #008080; font-weight: bold\">3.0385e+00</span>, <span style=\"color: #008080; text-decoration-color: #008080; font-weight: bold\">-5.6545e-01</span><span style=\"font-weight: bold\">]</span>,\n",
       "          <span style=\"font-weight: bold\">[</span><span style=\"color: #008080; text-decoration-color: #008080; font-weight: bold\">-5.3687e-01</span>, <span style=\"color: #008080; text-decoration-color: #008080; font-weight: bold\">-1.9065e+00</span>, <span style=\"color: #008080; text-decoration-color: #008080; font-weight: bold\">-1.6776e-01</span>,  <span style=\"color: #808000; text-decoration-color: #808000\">...</span>,  <span style=\"color: #008080; text-decoration-color: #008080; font-weight: bold\">4.6653e-01</span>,\n",
       "            <span style=\"color: #008080; text-decoration-color: #008080; font-weight: bold\">2.4045e-01</span>,  <span style=\"color: #008080; text-decoration-color: #008080; font-weight: bold\">1.3401e+00</span><span style=\"font-weight: bold\">]</span>,\n",
       "          <span style=\"font-weight: bold\">[</span> <span style=\"color: #008080; text-decoration-color: #008080; font-weight: bold\">1.0036e+00</span>, <span style=\"color: #008080; text-decoration-color: #008080; font-weight: bold\">-7.3326e-02</span>,  <span style=\"color: #008080; text-decoration-color: #008080; font-weight: bold\">2.9853e+00</span>,  <span style=\"color: #808000; text-decoration-color: #808000\">...</span>,  <span style=\"color: #008080; text-decoration-color: #008080; font-weight: bold\">3.2081e-01</span>,\n",
       "            <span style=\"color: #008080; text-decoration-color: #008080; font-weight: bold\">2.1955e+00</span>, <span style=\"color: #008080; text-decoration-color: #008080; font-weight: bold\">-2.8201e+00</span><span style=\"font-weight: bold\">]</span>,\n",
       "          <span style=\"color: #808000; text-decoration-color: #808000\">...</span>,\n",
       "          <span style=\"font-weight: bold\">[</span><span style=\"color: #008080; text-decoration-color: #008080; font-weight: bold\">-1.0465e+00</span>, <span style=\"color: #008080; text-decoration-color: #008080; font-weight: bold\">-6.8435e-01</span>,  <span style=\"color: #008080; text-decoration-color: #008080; font-weight: bold\">9.2449e-02</span>,  <span style=\"color: #808000; text-decoration-color: #808000\">...</span>,  <span style=\"color: #008080; text-decoration-color: #008080; font-weight: bold\">2.7603e+00</span>,\n",
       "            <span style=\"color: #008080; text-decoration-color: #008080; font-weight: bold\">2.1605e+00</span>, <span style=\"color: #008080; text-decoration-color: #008080; font-weight: bold\">-3.0489e-01</span><span style=\"font-weight: bold\">]</span>,\n",
       "          <span style=\"font-weight: bold\">[</span><span style=\"color: #008080; text-decoration-color: #008080; font-weight: bold\">-4.4891e-01</span>, <span style=\"color: #008080; text-decoration-color: #008080; font-weight: bold\">-6.9682e-01</span>,  <span style=\"color: #008080; text-decoration-color: #008080; font-weight: bold\">2.0532e+00</span>,  <span style=\"color: #808000; text-decoration-color: #808000\">...</span>, <span style=\"color: #008080; text-decoration-color: #008080; font-weight: bold\">-1.8839e+00</span>,\n",
       "           <span style=\"color: #008080; text-decoration-color: #008080; font-weight: bold\">-1.4998e+00</span>, <span style=\"color: #008080; text-decoration-color: #008080; font-weight: bold\">-9.1195e-02</span><span style=\"font-weight: bold\">]</span>,\n",
       "          <span style=\"font-weight: bold\">[</span><span style=\"color: #008080; text-decoration-color: #008080; font-weight: bold\">-1.6117e+00</span>, <span style=\"color: #008080; text-decoration-color: #008080; font-weight: bold\">-8.5955e-02</span>, <span style=\"color: #008080; text-decoration-color: #008080; font-weight: bold\">-1.6991e+00</span>,  <span style=\"color: #808000; text-decoration-color: #808000\">...</span>,  <span style=\"color: #008080; text-decoration-color: #008080; font-weight: bold\">1.2099e-01</span>,\n",
       "            <span style=\"color: #008080; text-decoration-color: #008080; font-weight: bold\">9.3890e-01</span>,  <span style=\"color: #008080; text-decoration-color: #008080; font-weight: bold\">1.8337e+00</span><span style=\"font-weight: bold\">]]</span>,\n",
       "\n",
       "         <span style=\"font-weight: bold\">[[</span><span style=\"color: #008080; text-decoration-color: #008080; font-weight: bold\">-2.5858e-01</span>, <span style=\"color: #008080; text-decoration-color: #008080; font-weight: bold\">-1.1264e+00</span>,  <span style=\"color: #008080; text-decoration-color: #008080; font-weight: bold\">1.5929e+00</span>,  <span style=\"color: #808000; text-decoration-color: #808000\">...</span>, <span style=\"color: #008080; text-decoration-color: #008080; font-weight: bold\">-7.9883e-01</span>,\n",
       "           <span style=\"color: #008080; text-decoration-color: #008080; font-weight: bold\">-3.1584e-01</span>,  <span style=\"color: #008080; text-decoration-color: #008080; font-weight: bold\">2.3517e+00</span><span style=\"font-weight: bold\">]</span>,\n",
       "          <span style=\"font-weight: bold\">[</span><span style=\"color: #008080; text-decoration-color: #008080; font-weight: bold\">-2.4903e+00</span>, <span style=\"color: #008080; text-decoration-color: #008080; font-weight: bold\">-2.5890e+00</span>, <span style=\"color: #008080; text-decoration-color: #008080; font-weight: bold\">-2.6358e+00</span>,  <span style=\"color: #808000; text-decoration-color: #808000\">...</span>, <span style=\"color: #008080; text-decoration-color: #008080; font-weight: bold\">-3.5851e-01</span>,\n",
       "           <span style=\"color: #008080; text-decoration-color: #008080; font-weight: bold\">-8.6263e-01</span>, <span style=\"color: #008080; text-decoration-color: #008080; font-weight: bold\">-2.3043e+00</span><span style=\"font-weight: bold\">]</span>,\n",
       "          <span style=\"font-weight: bold\">[</span> <span style=\"color: #008080; text-decoration-color: #008080; font-weight: bold\">1.7827e+00</span>,  <span style=\"color: #008080; text-decoration-color: #008080; font-weight: bold\">4.9190e-01</span>,  <span style=\"color: #008080; text-decoration-color: #008080; font-weight: bold\">1.1469e+00</span>,  <span style=\"color: #808000; text-decoration-color: #808000\">...</span>,  <span style=\"color: #008080; text-decoration-color: #008080; font-weight: bold\">2.0978e-01</span>,\n",
       "            <span style=\"color: #008080; text-decoration-color: #008080; font-weight: bold\">9.4838e-01</span>, <span style=\"color: #008080; text-decoration-color: #008080; font-weight: bold\">-5.6837e-01</span><span style=\"font-weight: bold\">]</span>,\n",
       "          <span style=\"color: #808000; text-decoration-color: #808000\">...</span>,\n",
       "          <span style=\"font-weight: bold\">[</span><span style=\"color: #008080; text-decoration-color: #008080; font-weight: bold\">-1.1243e+00</span>, <span style=\"color: #008080; text-decoration-color: #008080; font-weight: bold\">-3.4298e-01</span>,  <span style=\"color: #008080; text-decoration-color: #008080; font-weight: bold\">4.0499e-01</span>,  <span style=\"color: #808000; text-decoration-color: #808000\">...</span>, <span style=\"color: #008080; text-decoration-color: #008080; font-weight: bold\">-3.1909e+00</span>,\n",
       "            <span style=\"color: #008080; text-decoration-color: #008080; font-weight: bold\">1.3322e+00</span>,  <span style=\"color: #008080; text-decoration-color: #008080; font-weight: bold\">1.6870e+00</span><span style=\"font-weight: bold\">]</span>,\n",
       "          <span style=\"font-weight: bold\">[</span> <span style=\"color: #008080; text-decoration-color: #008080; font-weight: bold\">6.1117e-01</span>,  <span style=\"color: #008080; text-decoration-color: #008080; font-weight: bold\">1.7573e+00</span>,  <span style=\"color: #008080; text-decoration-color: #008080; font-weight: bold\">1.6068e+00</span>,  <span style=\"color: #808000; text-decoration-color: #808000\">...</span>,  <span style=\"color: #008080; text-decoration-color: #008080; font-weight: bold\">9.2221e-01</span>,\n",
       "           <span style=\"color: #008080; text-decoration-color: #008080; font-weight: bold\">-3.5442e-01</span>,  <span style=\"color: #008080; text-decoration-color: #008080; font-weight: bold\">1.9292e+00</span><span style=\"font-weight: bold\">]</span>,\n",
       "          <span style=\"font-weight: bold\">[</span><span style=\"color: #008080; text-decoration-color: #008080; font-weight: bold\">-2.3074e+00</span>,  <span style=\"color: #008080; text-decoration-color: #008080; font-weight: bold\">9.9797e-02</span>, <span style=\"color: #008080; text-decoration-color: #008080; font-weight: bold\">-3.0700e-01</span>,  <span style=\"color: #808000; text-decoration-color: #808000\">...</span>, <span style=\"color: #008080; text-decoration-color: #008080; font-weight: bold\">-1.4847e+00</span>,\n",
       "            <span style=\"color: #008080; text-decoration-color: #008080; font-weight: bold\">9.4274e-01</span>,  <span style=\"color: #008080; text-decoration-color: #008080; font-weight: bold\">1.5843e+00</span><span style=\"font-weight: bold\">]]</span>,\n",
       "\n",
       "         <span style=\"font-weight: bold\">[[</span> <span style=\"color: #008080; text-decoration-color: #008080; font-weight: bold\">3.0423e-01</span>,  <span style=\"color: #008080; text-decoration-color: #008080; font-weight: bold\">1.7341e+00</span>,  <span style=\"color: #008080; text-decoration-color: #008080; font-weight: bold\">1.1072e+00</span>,  <span style=\"color: #808000; text-decoration-color: #808000\">...</span>, <span style=\"color: #008080; text-decoration-color: #008080; font-weight: bold\">-2.7607e+00</span>,\n",
       "            <span style=\"color: #008080; text-decoration-color: #008080; font-weight: bold\">1.0463e+00</span>, <span style=\"color: #008080; text-decoration-color: #008080; font-weight: bold\">-7.4072e-01</span><span style=\"font-weight: bold\">]</span>,\n",
       "          <span style=\"font-weight: bold\">[</span> <span style=\"color: #008080; text-decoration-color: #008080; font-weight: bold\">1.8237e+00</span>,  <span style=\"color: #008080; text-decoration-color: #008080; font-weight: bold\">2.5169e+00</span>,  <span style=\"color: #008080; text-decoration-color: #008080; font-weight: bold\">2.0665e+00</span>,  <span style=\"color: #808000; text-decoration-color: #808000\">...</span>,  <span style=\"color: #008080; text-decoration-color: #008080; font-weight: bold\">3.9393e+00</span>,\n",
       "            <span style=\"color: #008080; text-decoration-color: #008080; font-weight: bold\">1.5061e+00</span>, <span style=\"color: #008080; text-decoration-color: #008080; font-weight: bold\">-1.4062e+00</span><span style=\"font-weight: bold\">]</span>,\n",
       "          <span style=\"font-weight: bold\">[</span> <span style=\"color: #008080; text-decoration-color: #008080; font-weight: bold\">6.7381e-01</span>,  <span style=\"color: #008080; text-decoration-color: #008080; font-weight: bold\">1.8379e-01</span>,  <span style=\"color: #008080; text-decoration-color: #008080; font-weight: bold\">8.0859e-01</span>,  <span style=\"color: #808000; text-decoration-color: #808000\">...</span>,  <span style=\"color: #008080; text-decoration-color: #008080; font-weight: bold\">6.0631e-01</span>,\n",
       "            <span style=\"color: #008080; text-decoration-color: #008080; font-weight: bold\">4.2994e+00</span>,  <span style=\"color: #008080; text-decoration-color: #008080; font-weight: bold\">2.1868e+00</span><span style=\"font-weight: bold\">]</span>,\n",
       "          <span style=\"color: #808000; text-decoration-color: #808000\">...</span>,\n",
       "          <span style=\"font-weight: bold\">[</span><span style=\"color: #008080; text-decoration-color: #008080; font-weight: bold\">-1.3463e+00</span>, <span style=\"color: #008080; text-decoration-color: #008080; font-weight: bold\">-3.6087e-02</span>,  <span style=\"color: #008080; text-decoration-color: #008080; font-weight: bold\">1.1966e+00</span>,  <span style=\"color: #808000; text-decoration-color: #808000\">...</span>, <span style=\"color: #008080; text-decoration-color: #008080; font-weight: bold\">-2.4348e+00</span>,\n",
       "           <span style=\"color: #008080; text-decoration-color: #008080; font-weight: bold\">-2.7264e+00</span>,  <span style=\"color: #008080; text-decoration-color: #008080; font-weight: bold\">2.0101e+00</span><span style=\"font-weight: bold\">]</span>,\n",
       "          <span style=\"font-weight: bold\">[</span> <span style=\"color: #008080; text-decoration-color: #008080; font-weight: bold\">1.6154e+00</span>,  <span style=\"color: #008080; text-decoration-color: #008080; font-weight: bold\">1.4695e+00</span>,  <span style=\"color: #008080; text-decoration-color: #008080; font-weight: bold\">1.8914e+00</span>,  <span style=\"color: #808000; text-decoration-color: #808000\">...</span>,  <span style=\"color: #008080; text-decoration-color: #008080; font-weight: bold\">2.2079e+00</span>,\n",
       "            <span style=\"color: #008080; text-decoration-color: #008080; font-weight: bold\">1.3482e+00</span>, <span style=\"color: #008080; text-decoration-color: #008080; font-weight: bold\">-4.0241e-01</span><span style=\"font-weight: bold\">]</span>,\n",
       "          <span style=\"font-weight: bold\">[</span> <span style=\"color: #008080; text-decoration-color: #008080; font-weight: bold\">6.2418e-01</span>, <span style=\"color: #008080; text-decoration-color: #008080; font-weight: bold\">-1.5696e+00</span>,  <span style=\"color: #008080; text-decoration-color: #008080; font-weight: bold\">3.3149e+00</span>,  <span style=\"color: #808000; text-decoration-color: #808000\">...</span>, <span style=\"color: #008080; text-decoration-color: #008080; font-weight: bold\">-3.7836e+00</span>,\n",
       "            <span style=\"color: #008080; text-decoration-color: #008080; font-weight: bold\">8.1226e-01</span>,  <span style=\"color: #008080; text-decoration-color: #008080; font-weight: bold\">1.1691e+00</span><span style=\"font-weight: bold\">]]</span>,\n",
       "\n",
       "         <span style=\"color: #808000; text-decoration-color: #808000\">...</span>,\n",
       "\n",
       "         <span style=\"font-weight: bold\">[[</span> <span style=\"color: #008080; text-decoration-color: #008080; font-weight: bold\">2.3609e+00</span>,  <span style=\"color: #008080; text-decoration-color: #008080; font-weight: bold\">2.5668e+00</span>,  <span style=\"color: #008080; text-decoration-color: #008080; font-weight: bold\">2.0339e+00</span>,  <span style=\"color: #808000; text-decoration-color: #808000\">...</span>, <span style=\"color: #008080; text-decoration-color: #008080; font-weight: bold\">-4.5365e-02</span>,\n",
       "            <span style=\"color: #008080; text-decoration-color: #008080; font-weight: bold\">1.5937e+00</span>,  <span style=\"color: #008080; text-decoration-color: #008080; font-weight: bold\">8.6342e-01</span><span style=\"font-weight: bold\">]</span>,\n",
       "          <span style=\"font-weight: bold\">[</span> <span style=\"color: #008080; text-decoration-color: #008080; font-weight: bold\">1.6715e+00</span>, <span style=\"color: #008080; text-decoration-color: #008080; font-weight: bold\">-3.7053e-01</span>,  <span style=\"color: #008080; text-decoration-color: #008080; font-weight: bold\">3.1930e+00</span>,  <span style=\"color: #808000; text-decoration-color: #808000\">...</span>,  <span style=\"color: #008080; text-decoration-color: #008080; font-weight: bold\">1.7775e+00</span>,\n",
       "           <span style=\"color: #008080; text-decoration-color: #008080; font-weight: bold\">-6.3770e-01</span>, <span style=\"color: #008080; text-decoration-color: #008080; font-weight: bold\">-9.3939e-01</span><span style=\"font-weight: bold\">]</span>,\n",
       "          <span style=\"font-weight: bold\">[</span> <span style=\"color: #008080; text-decoration-color: #008080; font-weight: bold\">5.4493e-01</span>, <span style=\"color: #008080; text-decoration-color: #008080; font-weight: bold\">-1.7727e+00</span>,  <span style=\"color: #008080; text-decoration-color: #008080; font-weight: bold\">1.2575e+00</span>,  <span style=\"color: #808000; text-decoration-color: #808000\">...</span>,  <span style=\"color: #008080; text-decoration-color: #008080; font-weight: bold\">3.9406e+00</span>,\n",
       "            <span style=\"color: #008080; text-decoration-color: #008080; font-weight: bold\">2.3544e-01</span>, <span style=\"color: #008080; text-decoration-color: #008080; font-weight: bold\">-1.5344e+00</span><span style=\"font-weight: bold\">]</span>,\n",
       "          <span style=\"color: #808000; text-decoration-color: #808000\">...</span>,\n",
       "          <span style=\"font-weight: bold\">[</span> <span style=\"color: #008080; text-decoration-color: #008080; font-weight: bold\">3.2802e-01</span>, <span style=\"color: #008080; text-decoration-color: #008080; font-weight: bold\">-1.6012e+00</span>, <span style=\"color: #008080; text-decoration-color: #008080; font-weight: bold\">-5.9674e-01</span>,  <span style=\"color: #808000; text-decoration-color: #808000\">...</span>,  <span style=\"color: #008080; text-decoration-color: #008080; font-weight: bold\">1.1781e+00</span>,\n",
       "            <span style=\"color: #008080; text-decoration-color: #008080; font-weight: bold\">7.4961e-01</span>, <span style=\"color: #008080; text-decoration-color: #008080; font-weight: bold\">-4.2516e-01</span><span style=\"font-weight: bold\">]</span>,\n",
       "          <span style=\"font-weight: bold\">[</span><span style=\"color: #008080; text-decoration-color: #008080; font-weight: bold\">-6.6069e-01</span>,  <span style=\"color: #008080; text-decoration-color: #008080; font-weight: bold\">8.6322e-01</span>, <span style=\"color: #008080; text-decoration-color: #008080; font-weight: bold\">-2.1847e-01</span>,  <span style=\"color: #808000; text-decoration-color: #808000\">...</span>, <span style=\"color: #008080; text-decoration-color: #008080; font-weight: bold\">-3.0084e+00</span>,\n",
       "           <span style=\"color: #008080; text-decoration-color: #008080; font-weight: bold\">-3.6697e+00</span>,  <span style=\"color: #008080; text-decoration-color: #008080; font-weight: bold\">1.0965e+00</span><span style=\"font-weight: bold\">]</span>,\n",
       "          <span style=\"font-weight: bold\">[</span><span style=\"color: #008080; text-decoration-color: #008080; font-weight: bold\">-1.4089e+00</span>, <span style=\"color: #008080; text-decoration-color: #008080; font-weight: bold\">-1.3745e+00</span>,  <span style=\"color: #008080; text-decoration-color: #008080; font-weight: bold\">4.9718e+00</span>,  <span style=\"color: #808000; text-decoration-color: #808000\">...</span>, <span style=\"color: #008080; text-decoration-color: #008080; font-weight: bold\">-7.4121e-01</span>,\n",
       "           <span style=\"color: #008080; text-decoration-color: #008080; font-weight: bold\">-1.2067e+00</span>,  <span style=\"color: #008080; text-decoration-color: #008080; font-weight: bold\">3.4391e-03</span><span style=\"font-weight: bold\">]]</span>,\n",
       "\n",
       "         <span style=\"font-weight: bold\">[[</span> <span style=\"color: #008080; text-decoration-color: #008080; font-weight: bold\">1.2679e+00</span>,  <span style=\"color: #008080; text-decoration-color: #008080; font-weight: bold\">1.3472e+00</span>,  <span style=\"color: #008080; text-decoration-color: #008080; font-weight: bold\">1.5555e+00</span>,  <span style=\"color: #808000; text-decoration-color: #808000\">...</span>,  <span style=\"color: #008080; text-decoration-color: #008080; font-weight: bold\">8.1869e-01</span>,\n",
       "            <span style=\"color: #008080; text-decoration-color: #008080; font-weight: bold\">1.3334e+00</span>,  <span style=\"color: #008080; text-decoration-color: #008080; font-weight: bold\">1.1187e-01</span><span style=\"font-weight: bold\">]</span>,\n",
       "          <span style=\"font-weight: bold\">[</span><span style=\"color: #008080; text-decoration-color: #008080; font-weight: bold\">-2.4395e+00</span>, <span style=\"color: #008080; text-decoration-color: #008080; font-weight: bold\">-8.9531e-01</span>,  <span style=\"color: #008080; text-decoration-color: #008080; font-weight: bold\">1.3809e-01</span>,  <span style=\"color: #808000; text-decoration-color: #808000\">...</span>,  <span style=\"color: #008080; text-decoration-color: #008080; font-weight: bold\">4.5173e-01</span>,\n",
       "           <span style=\"color: #008080; text-decoration-color: #008080; font-weight: bold\">-7.5673e-01</span>,  <span style=\"color: #008080; text-decoration-color: #008080; font-weight: bold\">4.5998e+00</span><span style=\"font-weight: bold\">]</span>,\n",
       "          <span style=\"font-weight: bold\">[</span> <span style=\"color: #008080; text-decoration-color: #008080; font-weight: bold\">1.5295e+00</span>,  <span style=\"color: #008080; text-decoration-color: #008080; font-weight: bold\">1.8858e-01</span>,  <span style=\"color: #008080; text-decoration-color: #008080; font-weight: bold\">1.0334e+00</span>,  <span style=\"color: #808000; text-decoration-color: #808000\">...</span>, <span style=\"color: #008080; text-decoration-color: #008080; font-weight: bold\">-2.6424e+00</span>,\n",
       "            <span style=\"color: #008080; text-decoration-color: #008080; font-weight: bold\">1.6160e+00</span>, <span style=\"color: #008080; text-decoration-color: #008080; font-weight: bold\">-1.9275e-01</span><span style=\"font-weight: bold\">]</span>,\n",
       "          <span style=\"color: #808000; text-decoration-color: #808000\">...</span>,\n",
       "          <span style=\"font-weight: bold\">[</span><span style=\"color: #008080; text-decoration-color: #008080; font-weight: bold\">-8.2917e-02</span>,  <span style=\"color: #008080; text-decoration-color: #008080; font-weight: bold\">2.4875e+00</span>,  <span style=\"color: #008080; text-decoration-color: #008080; font-weight: bold\">3.2480e-01</span>,  <span style=\"color: #808000; text-decoration-color: #808000\">...</span>,  <span style=\"color: #008080; text-decoration-color: #008080; font-weight: bold\">4.1944e-01</span>,\n",
       "           <span style=\"color: #008080; text-decoration-color: #008080; font-weight: bold\">-1.0741e+00</span>,  <span style=\"color: #008080; text-decoration-color: #008080; font-weight: bold\">2.1442e+00</span><span style=\"font-weight: bold\">]</span>,\n",
       "          <span style=\"font-weight: bold\">[</span> <span style=\"color: #008080; text-decoration-color: #008080; font-weight: bold\">5.4489e-01</span>, <span style=\"color: #008080; text-decoration-color: #008080; font-weight: bold\">-9.9878e-01</span>, <span style=\"color: #008080; text-decoration-color: #008080; font-weight: bold\">-5.5557e-01</span>,  <span style=\"color: #808000; text-decoration-color: #808000\">...</span>,  <span style=\"color: #008080; text-decoration-color: #008080; font-weight: bold\">2.7729e+00</span>,\n",
       "            <span style=\"color: #008080; text-decoration-color: #008080; font-weight: bold\">8.8771e-01</span>,  <span style=\"color: #008080; text-decoration-color: #008080; font-weight: bold\">5.6244e-01</span><span style=\"font-weight: bold\">]</span>,\n",
       "          <span style=\"font-weight: bold\">[</span><span style=\"color: #008080; text-decoration-color: #008080; font-weight: bold\">-7.7124e-02</span>,  <span style=\"color: #008080; text-decoration-color: #008080; font-weight: bold\">7.2780e-01</span>, <span style=\"color: #008080; text-decoration-color: #008080; font-weight: bold\">-1.6659e+00</span>,  <span style=\"color: #808000; text-decoration-color: #808000\">...</span>,  <span style=\"color: #008080; text-decoration-color: #008080; font-weight: bold\">2.4613e+00</span>,\n",
       "           <span style=\"color: #008080; text-decoration-color: #008080; font-weight: bold\">-6.1249e-01</span>, <span style=\"color: #008080; text-decoration-color: #008080; font-weight: bold\">-1.5382e-01</span><span style=\"font-weight: bold\">]]</span>,\n",
       "\n",
       "         <span style=\"font-weight: bold\">[[</span> <span style=\"color: #008080; text-decoration-color: #008080; font-weight: bold\">4.2838e-01</span>, <span style=\"color: #008080; text-decoration-color: #008080; font-weight: bold\">-2.3381e+00</span>, <span style=\"color: #008080; text-decoration-color: #008080; font-weight: bold\">-3.6057e-01</span>,  <span style=\"color: #808000; text-decoration-color: #808000\">...</span>, <span style=\"color: #008080; text-decoration-color: #008080; font-weight: bold\">-9.4714e-01</span>,\n",
       "            <span style=\"color: #008080; text-decoration-color: #008080; font-weight: bold\">4.8644e+00</span>, <span style=\"color: #008080; text-decoration-color: #008080; font-weight: bold\">-4.2315e-01</span><span style=\"font-weight: bold\">]</span>,\n",
       "          <span style=\"font-weight: bold\">[</span><span style=\"color: #008080; text-decoration-color: #008080; font-weight: bold\">-1.0135e-01</span>,  <span style=\"color: #008080; text-decoration-color: #008080; font-weight: bold\">2.6640e-01</span>,  <span style=\"color: #008080; text-decoration-color: #008080; font-weight: bold\">6.9827e-01</span>,  <span style=\"color: #808000; text-decoration-color: #808000\">...</span>,  <span style=\"color: #008080; text-decoration-color: #008080; font-weight: bold\">1.7185e+00</span>,\n",
       "            <span style=\"color: #008080; text-decoration-color: #008080; font-weight: bold\">2.7727e-01</span>, <span style=\"color: #008080; text-decoration-color: #008080; font-weight: bold\">-4.9628e-01</span><span style=\"font-weight: bold\">]</span>,\n",
       "          <span style=\"font-weight: bold\">[</span><span style=\"color: #008080; text-decoration-color: #008080; font-weight: bold\">-1.0879e+00</span>,  <span style=\"color: #008080; text-decoration-color: #008080; font-weight: bold\">8.7520e-02</span>,  <span style=\"color: #008080; text-decoration-color: #008080; font-weight: bold\">1.4687e+00</span>,  <span style=\"color: #808000; text-decoration-color: #808000\">...</span>, <span style=\"color: #008080; text-decoration-color: #008080; font-weight: bold\">-1.2697e+00</span>,\n",
       "           <span style=\"color: #008080; text-decoration-color: #008080; font-weight: bold\">-4.4847e-01</span>,  <span style=\"color: #008080; text-decoration-color: #008080; font-weight: bold\">1.6359e+00</span><span style=\"font-weight: bold\">]</span>,\n",
       "          <span style=\"color: #808000; text-decoration-color: #808000\">...</span>,\n",
       "          <span style=\"font-weight: bold\">[</span> <span style=\"color: #008080; text-decoration-color: #008080; font-weight: bold\">2.2349e+00</span>,  <span style=\"color: #008080; text-decoration-color: #008080; font-weight: bold\">1.2159e+00</span>,  <span style=\"color: #008080; text-decoration-color: #008080; font-weight: bold\">3.4596e+00</span>,  <span style=\"color: #808000; text-decoration-color: #808000\">...</span>,  <span style=\"color: #008080; text-decoration-color: #008080; font-weight: bold\">1.5525e+00</span>,\n",
       "           <span style=\"color: #008080; text-decoration-color: #008080; font-weight: bold\">-1.2320e+00</span>,  <span style=\"color: #008080; text-decoration-color: #008080; font-weight: bold\">1.1737e+00</span><span style=\"font-weight: bold\">]</span>,\n",
       "          <span style=\"font-weight: bold\">[</span><span style=\"color: #008080; text-decoration-color: #008080; font-weight: bold\">-5.9189e-01</span>, <span style=\"color: #008080; text-decoration-color: #008080; font-weight: bold\">-7.6918e-01</span>,  <span style=\"color: #008080; text-decoration-color: #008080; font-weight: bold\">1.5643e+00</span>,  <span style=\"color: #808000; text-decoration-color: #808000\">...</span>, <span style=\"color: #008080; text-decoration-color: #008080; font-weight: bold\">-2.0427e+00</span>,\n",
       "           <span style=\"color: #008080; text-decoration-color: #008080; font-weight: bold\">-6.6709e-01</span>,  <span style=\"color: #008080; text-decoration-color: #008080; font-weight: bold\">2.8473e+00</span><span style=\"font-weight: bold\">]</span>,\n",
       "          <span style=\"font-weight: bold\">[</span> <span style=\"color: #008080; text-decoration-color: #008080; font-weight: bold\">2.5451e+00</span>, <span style=\"color: #008080; text-decoration-color: #008080; font-weight: bold\">-3.4559e-01</span>,  <span style=\"color: #008080; text-decoration-color: #008080; font-weight: bold\">2.0216e+00</span>,  <span style=\"color: #808000; text-decoration-color: #808000\">...</span>,  <span style=\"color: #008080; text-decoration-color: #008080; font-weight: bold\">1.0615e+00</span>,\n",
       "            <span style=\"color: #008080; text-decoration-color: #008080; font-weight: bold\">3.5776e+00</span>, <span style=\"color: #008080; text-decoration-color: #008080; font-weight: bold\">-2.7788e+00</span><span style=\"font-weight: bold\">]]]</span>,\n",
       "\n",
       "\n",
       "        <span style=\"font-weight: bold\">[[[</span><span style=\"color: #008080; text-decoration-color: #008080; font-weight: bold\">-1.6298e+00</span>, <span style=\"color: #008080; text-decoration-color: #008080; font-weight: bold\">-1.5379e+00</span>,  <span style=\"color: #008080; text-decoration-color: #008080; font-weight: bold\">2.2748e+00</span>,  <span style=\"color: #808000; text-decoration-color: #808000\">...</span>, <span style=\"color: #008080; text-decoration-color: #008080; font-weight: bold\">-3.6606e+00</span>,\n",
       "           <span style=\"color: #008080; text-decoration-color: #008080; font-weight: bold\">-2.2468e+00</span>, <span style=\"color: #008080; text-decoration-color: #008080; font-weight: bold\">-1.2689e+00</span><span style=\"font-weight: bold\">]</span>,\n",
       "          <span style=\"font-weight: bold\">[</span> <span style=\"color: #008080; text-decoration-color: #008080; font-weight: bold\">1.9221e+00</span>,  <span style=\"color: #008080; text-decoration-color: #008080; font-weight: bold\">8.0224e-01</span>, <span style=\"color: #008080; text-decoration-color: #008080; font-weight: bold\">-2.1690e+00</span>,  <span style=\"color: #808000; text-decoration-color: #808000\">...</span>,  <span style=\"color: #008080; text-decoration-color: #008080; font-weight: bold\">1.4254e+00</span>,\n",
       "           <span style=\"color: #008080; text-decoration-color: #008080; font-weight: bold\">-3.1459e+00</span>, <span style=\"color: #008080; text-decoration-color: #008080; font-weight: bold\">-6.3310e-01</span><span style=\"font-weight: bold\">]</span>,\n",
       "          <span style=\"font-weight: bold\">[</span> <span style=\"color: #008080; text-decoration-color: #008080; font-weight: bold\">1.0618e+00</span>, <span style=\"color: #008080; text-decoration-color: #008080; font-weight: bold\">-1.3123e+00</span>,  <span style=\"color: #008080; text-decoration-color: #008080; font-weight: bold\">6.2292e-01</span>,  <span style=\"color: #808000; text-decoration-color: #808000\">...</span>, <span style=\"color: #008080; text-decoration-color: #008080; font-weight: bold\">-4.7902e-02</span>,\n",
       "           <span style=\"color: #008080; text-decoration-color: #008080; font-weight: bold\">-2.0661e+00</span>, <span style=\"color: #008080; text-decoration-color: #008080; font-weight: bold\">-1.0674e+00</span><span style=\"font-weight: bold\">]</span>,\n",
       "          <span style=\"color: #808000; text-decoration-color: #808000\">...</span>,\n",
       "          <span style=\"font-weight: bold\">[</span> <span style=\"color: #008080; text-decoration-color: #008080; font-weight: bold\">1.1297e+00</span>, <span style=\"color: #008080; text-decoration-color: #008080; font-weight: bold\">-2.0126e-01</span>, <span style=\"color: #008080; text-decoration-color: #008080; font-weight: bold\">-1.9634e+00</span>,  <span style=\"color: #808000; text-decoration-color: #808000\">...</span>, <span style=\"color: #008080; text-decoration-color: #008080; font-weight: bold\">-1.4552e+00</span>,\n",
       "           <span style=\"color: #008080; text-decoration-color: #008080; font-weight: bold\">-1.5914e+00</span>,  <span style=\"color: #008080; text-decoration-color: #008080; font-weight: bold\">2.7253e+00</span><span style=\"font-weight: bold\">]</span>,\n",
       "          <span style=\"font-weight: bold\">[</span><span style=\"color: #008080; text-decoration-color: #008080; font-weight: bold\">-6.9267e-01</span>, <span style=\"color: #008080; text-decoration-color: #008080; font-weight: bold\">-6.5706e-01</span>, <span style=\"color: #008080; text-decoration-color: #008080; font-weight: bold\">-5.3299e-01</span>,  <span style=\"color: #808000; text-decoration-color: #808000\">...</span>, <span style=\"color: #008080; text-decoration-color: #008080; font-weight: bold\">-4.0032e-01</span>,\n",
       "            <span style=\"color: #008080; text-decoration-color: #008080; font-weight: bold\">1.6359e+00</span>,  <span style=\"color: #008080; text-decoration-color: #008080; font-weight: bold\">7.7452e-01</span><span style=\"font-weight: bold\">]</span>,\n",
       "          <span style=\"font-weight: bold\">[</span> <span style=\"color: #008080; text-decoration-color: #008080; font-weight: bold\">5.8654e+00</span>, <span style=\"color: #008080; text-decoration-color: #008080; font-weight: bold\">-2.1880e+00</span>, <span style=\"color: #008080; text-decoration-color: #008080; font-weight: bold\">-7.1780e-02</span>,  <span style=\"color: #808000; text-decoration-color: #808000\">...</span>, <span style=\"color: #008080; text-decoration-color: #008080; font-weight: bold\">-5.7572e+00</span>,\n",
       "           <span style=\"color: #008080; text-decoration-color: #008080; font-weight: bold\">-8.9446e-01</span>, <span style=\"color: #008080; text-decoration-color: #008080; font-weight: bold\">-2.8155e+00</span><span style=\"font-weight: bold\">]]</span>,\n",
       "\n",
       "         <span style=\"font-weight: bold\">[[</span> <span style=\"color: #008080; text-decoration-color: #008080; font-weight: bold\">1.0548e+00</span>,  <span style=\"color: #008080; text-decoration-color: #008080; font-weight: bold\">2.5197e+00</span>, <span style=\"color: #008080; text-decoration-color: #008080; font-weight: bold\">-2.6981e+00</span>,  <span style=\"color: #808000; text-decoration-color: #808000\">...</span>,  <span style=\"color: #008080; text-decoration-color: #008080; font-weight: bold\">2.5782e-01</span>,\n",
       "            <span style=\"color: #008080; text-decoration-color: #008080; font-weight: bold\">2.2737e-01</span>, <span style=\"color: #008080; text-decoration-color: #008080; font-weight: bold\">-2.8807e-01</span><span style=\"font-weight: bold\">]</span>,\n",
       "          <span style=\"font-weight: bold\">[</span><span style=\"color: #008080; text-decoration-color: #008080; font-weight: bold\">-5.2460e+00</span>, <span style=\"color: #008080; text-decoration-color: #008080; font-weight: bold\">-1.6525e+00</span>, <span style=\"color: #008080; text-decoration-color: #008080; font-weight: bold\">-1.7066e-01</span>,  <span style=\"color: #808000; text-decoration-color: #808000\">...</span>, <span style=\"color: #008080; text-decoration-color: #008080; font-weight: bold\">-4.3306e-02</span>,\n",
       "           <span style=\"color: #008080; text-decoration-color: #008080; font-weight: bold\">-1.0339e+00</span>, <span style=\"color: #008080; text-decoration-color: #008080; font-weight: bold\">-1.4281e-01</span><span style=\"font-weight: bold\">]</span>,\n",
       "          <span style=\"font-weight: bold\">[</span> <span style=\"color: #008080; text-decoration-color: #008080; font-weight: bold\">1.5901e+00</span>,  <span style=\"color: #008080; text-decoration-color: #008080; font-weight: bold\">1.8567e+00</span>, <span style=\"color: #008080; text-decoration-color: #008080; font-weight: bold\">-7.1373e-01</span>,  <span style=\"color: #808000; text-decoration-color: #808000\">...</span>,  <span style=\"color: #008080; text-decoration-color: #008080; font-weight: bold\">3.9417e-01</span>,\n",
       "           <span style=\"color: #008080; text-decoration-color: #008080; font-weight: bold\">-3.1955e+00</span>,  <span style=\"color: #008080; text-decoration-color: #008080; font-weight: bold\">1.8668e-01</span><span style=\"font-weight: bold\">]</span>,\n",
       "          <span style=\"color: #808000; text-decoration-color: #808000\">...</span>,\n",
       "          <span style=\"font-weight: bold\">[</span><span style=\"color: #008080; text-decoration-color: #008080; font-weight: bold\">-1.6321e+00</span>, <span style=\"color: #008080; text-decoration-color: #008080; font-weight: bold\">-2.1926e-01</span>,  <span style=\"color: #008080; text-decoration-color: #008080; font-weight: bold\">6.8933e-02</span>,  <span style=\"color: #808000; text-decoration-color: #808000\">...</span>,  <span style=\"color: #008080; text-decoration-color: #008080; font-weight: bold\">1.3104e+00</span>,\n",
       "           <span style=\"color: #008080; text-decoration-color: #008080; font-weight: bold\">-1.6640e+00</span>,  <span style=\"color: #008080; text-decoration-color: #008080; font-weight: bold\">2.1302e+00</span><span style=\"font-weight: bold\">]</span>,\n",
       "          <span style=\"font-weight: bold\">[</span><span style=\"color: #008080; text-decoration-color: #008080; font-weight: bold\">-5.7680e-01</span>, <span style=\"color: #008080; text-decoration-color: #008080; font-weight: bold\">-1.5784e+00</span>, <span style=\"color: #008080; text-decoration-color: #008080; font-weight: bold\">-6.8753e-01</span>,  <span style=\"color: #808000; text-decoration-color: #808000\">...</span>, <span style=\"color: #008080; text-decoration-color: #008080; font-weight: bold\">-7.0757e-01</span>,\n",
       "           <span style=\"color: #008080; text-decoration-color: #008080; font-weight: bold\">-4.7855e-01</span>, <span style=\"color: #008080; text-decoration-color: #008080; font-weight: bold\">-5.5081e-01</span><span style=\"font-weight: bold\">]</span>,\n",
       "          <span style=\"font-weight: bold\">[</span><span style=\"color: #008080; text-decoration-color: #008080; font-weight: bold\">-1.4390e+00</span>, <span style=\"color: #008080; text-decoration-color: #008080; font-weight: bold\">-1.6390e+00</span>, <span style=\"color: #008080; text-decoration-color: #008080; font-weight: bold\">-7.0287e-01</span>,  <span style=\"color: #808000; text-decoration-color: #808000\">...</span>, <span style=\"color: #008080; text-decoration-color: #008080; font-weight: bold\">-2.6999e+00</span>,\n",
       "            <span style=\"color: #008080; text-decoration-color: #008080; font-weight: bold\">3.9162e+00</span>,  <span style=\"color: #008080; text-decoration-color: #008080; font-weight: bold\">1.6469e+00</span><span style=\"font-weight: bold\">]]</span>,\n",
       "\n",
       "         <span style=\"font-weight: bold\">[[</span><span style=\"color: #008080; text-decoration-color: #008080; font-weight: bold\">-1.8443e-01</span>, <span style=\"color: #008080; text-decoration-color: #008080; font-weight: bold\">-5.2826e-01</span>, <span style=\"color: #008080; text-decoration-color: #008080; font-weight: bold\">-2.5179e+00</span>,  <span style=\"color: #808000; text-decoration-color: #808000\">...</span>,  <span style=\"color: #008080; text-decoration-color: #008080; font-weight: bold\">1.0414e+00</span>,\n",
       "            <span style=\"color: #008080; text-decoration-color: #008080; font-weight: bold\">2.1989e+00</span>,  <span style=\"color: #008080; text-decoration-color: #008080; font-weight: bold\">2.3877e+00</span><span style=\"font-weight: bold\">]</span>,\n",
       "          <span style=\"font-weight: bold\">[</span> <span style=\"color: #008080; text-decoration-color: #008080; font-weight: bold\">1.6467e+00</span>,  <span style=\"color: #008080; text-decoration-color: #008080; font-weight: bold\">2.2793e-01</span>,  <span style=\"color: #008080; text-decoration-color: #008080; font-weight: bold\">5.9998e-01</span>,  <span style=\"color: #808000; text-decoration-color: #808000\">...</span>, <span style=\"color: #008080; text-decoration-color: #008080; font-weight: bold\">-1.4522e+00</span>,\n",
       "            <span style=\"color: #008080; text-decoration-color: #008080; font-weight: bold\">6.8300e-01</span>, <span style=\"color: #008080; text-decoration-color: #008080; font-weight: bold\">-2.4179e+00</span><span style=\"font-weight: bold\">]</span>,\n",
       "          <span style=\"font-weight: bold\">[</span> <span style=\"color: #008080; text-decoration-color: #008080; font-weight: bold\">2.7942e+00</span>,  <span style=\"color: #008080; text-decoration-color: #008080; font-weight: bold\">2.5301e+00</span>, <span style=\"color: #008080; text-decoration-color: #008080; font-weight: bold\">-2.6814e+00</span>,  <span style=\"color: #808000; text-decoration-color: #808000\">...</span>, <span style=\"color: #008080; text-decoration-color: #008080; font-weight: bold\">-9.0660e-01</span>,\n",
       "           <span style=\"color: #008080; text-decoration-color: #008080; font-weight: bold\">-2.5421e+00</span>,  <span style=\"color: #008080; text-decoration-color: #008080; font-weight: bold\">9.8620e-01</span><span style=\"font-weight: bold\">]</span>,\n",
       "          <span style=\"color: #808000; text-decoration-color: #808000\">...</span>,\n",
       "          <span style=\"font-weight: bold\">[</span> <span style=\"color: #008080; text-decoration-color: #008080; font-weight: bold\">1.3643e-01</span>, <span style=\"color: #008080; text-decoration-color: #008080; font-weight: bold\">-6.2557e-01</span>,  <span style=\"color: #008080; text-decoration-color: #008080; font-weight: bold\">2.9370e+00</span>,  <span style=\"color: #808000; text-decoration-color: #808000\">...</span>,  <span style=\"color: #008080; text-decoration-color: #008080; font-weight: bold\">2.7240e+00</span>,\n",
       "           <span style=\"color: #008080; text-decoration-color: #008080; font-weight: bold\">-3.7940e-01</span>, <span style=\"color: #008080; text-decoration-color: #008080; font-weight: bold\">-1.3370e+00</span><span style=\"font-weight: bold\">]</span>,\n",
       "          <span style=\"font-weight: bold\">[</span><span style=\"color: #008080; text-decoration-color: #008080; font-weight: bold\">-2.9810e+00</span>, <span style=\"color: #008080; text-decoration-color: #008080; font-weight: bold\">-1.0674e+00</span>, <span style=\"color: #008080; text-decoration-color: #008080; font-weight: bold\">-1.3535e+00</span>,  <span style=\"color: #808000; text-decoration-color: #808000\">...</span>, <span style=\"color: #008080; text-decoration-color: #008080; font-weight: bold\">-6.9071e-01</span>,\n",
       "           <span style=\"color: #008080; text-decoration-color: #008080; font-weight: bold\">-1.8507e+00</span>, <span style=\"color: #008080; text-decoration-color: #008080; font-weight: bold\">-1.0149e+00</span><span style=\"font-weight: bold\">]</span>,\n",
       "          <span style=\"font-weight: bold\">[</span> <span style=\"color: #008080; text-decoration-color: #008080; font-weight: bold\">1.3833e+00</span>, <span style=\"color: #008080; text-decoration-color: #008080; font-weight: bold\">-1.1432e+00</span>,  <span style=\"color: #008080; text-decoration-color: #008080; font-weight: bold\">4.2021e+00</span>,  <span style=\"color: #808000; text-decoration-color: #808000\">...</span>, <span style=\"color: #008080; text-decoration-color: #008080; font-weight: bold\">-9.0850e-01</span>,\n",
       "           <span style=\"color: #008080; text-decoration-color: #008080; font-weight: bold\">-4.8381e-01</span>, <span style=\"color: #008080; text-decoration-color: #008080; font-weight: bold\">-3.1077e+00</span><span style=\"font-weight: bold\">]]</span>,\n",
       "\n",
       "         <span style=\"color: #808000; text-decoration-color: #808000\">...</span>,\n",
       "\n",
       "         <span style=\"font-weight: bold\">[[</span><span style=\"color: #008080; text-decoration-color: #008080; font-weight: bold\">-9.7932e-01</span>, <span style=\"color: #008080; text-decoration-color: #008080; font-weight: bold\">-1.5758e+00</span>,  <span style=\"color: #008080; text-decoration-color: #008080; font-weight: bold\">2.2682e+00</span>,  <span style=\"color: #808000; text-decoration-color: #808000\">...</span>,  <span style=\"color: #008080; text-decoration-color: #008080; font-weight: bold\">2.6657e-01</span>,\n",
       "           <span style=\"color: #008080; text-decoration-color: #008080; font-weight: bold\">-1.0154e+00</span>, <span style=\"color: #008080; text-decoration-color: #008080; font-weight: bold\">-8.5570e-01</span><span style=\"font-weight: bold\">]</span>,\n",
       "          <span style=\"font-weight: bold\">[</span><span style=\"color: #008080; text-decoration-color: #008080; font-weight: bold\">-3.0482e+00</span>, <span style=\"color: #008080; text-decoration-color: #008080; font-weight: bold\">-2.0504e+00</span>,  <span style=\"color: #008080; text-decoration-color: #008080; font-weight: bold\">4.9099e+00</span>,  <span style=\"color: #808000; text-decoration-color: #808000\">...</span>,  <span style=\"color: #008080; text-decoration-color: #008080; font-weight: bold\">4.2031e-01</span>,\n",
       "            <span style=\"color: #008080; text-decoration-color: #008080; font-weight: bold\">5.3310e+00</span>, <span style=\"color: #008080; text-decoration-color: #008080; font-weight: bold\">-1.8201e+00</span><span style=\"font-weight: bold\">]</span>,\n",
       "          <span style=\"font-weight: bold\">[</span><span style=\"color: #008080; text-decoration-color: #008080; font-weight: bold\">-1.3218e+00</span>,  <span style=\"color: #008080; text-decoration-color: #008080; font-weight: bold\">1.0876e+00</span>,  <span style=\"color: #008080; text-decoration-color: #008080; font-weight: bold\">2.3998e+00</span>,  <span style=\"color: #808000; text-decoration-color: #808000\">...</span>,  <span style=\"color: #008080; text-decoration-color: #008080; font-weight: bold\">2.9196e-01</span>,\n",
       "           <span style=\"color: #008080; text-decoration-color: #008080; font-weight: bold\">-3.0610e-01</span>, <span style=\"color: #008080; text-decoration-color: #008080; font-weight: bold\">-6.4623e-01</span><span style=\"font-weight: bold\">]</span>,\n",
       "          <span style=\"color: #808000; text-decoration-color: #808000\">...</span>,\n",
       "          <span style=\"font-weight: bold\">[</span><span style=\"color: #008080; text-decoration-color: #008080; font-weight: bold\">-1.5216e+00</span>, <span style=\"color: #008080; text-decoration-color: #008080; font-weight: bold\">-2.4646e+00</span>,  <span style=\"color: #008080; text-decoration-color: #008080; font-weight: bold\">4.9839e+00</span>,  <span style=\"color: #808000; text-decoration-color: #808000\">...</span>, <span style=\"color: #008080; text-decoration-color: #008080; font-weight: bold\">-2.0180e+00</span>,\n",
       "            <span style=\"color: #008080; text-decoration-color: #008080; font-weight: bold\">1.0949e+00</span>, <span style=\"color: #008080; text-decoration-color: #008080; font-weight: bold\">-1.4757e+00</span><span style=\"font-weight: bold\">]</span>,\n",
       "          <span style=\"font-weight: bold\">[</span><span style=\"color: #008080; text-decoration-color: #008080; font-weight: bold\">-5.0105e-01</span>,  <span style=\"color: #008080; text-decoration-color: #008080; font-weight: bold\">1.4816e+00</span>, <span style=\"color: #008080; text-decoration-color: #008080; font-weight: bold\">-2.6261e+00</span>,  <span style=\"color: #808000; text-decoration-color: #808000\">...</span>,  <span style=\"color: #008080; text-decoration-color: #008080; font-weight: bold\">1.6673e+00</span>,\n",
       "           <span style=\"color: #008080; text-decoration-color: #008080; font-weight: bold\">-7.7096e-01</span>,  <span style=\"color: #008080; text-decoration-color: #008080; font-weight: bold\">3.4624e+00</span><span style=\"font-weight: bold\">]</span>,\n",
       "          <span style=\"font-weight: bold\">[</span><span style=\"color: #008080; text-decoration-color: #008080; font-weight: bold\">-7.1037e-01</span>,  <span style=\"color: #008080; text-decoration-color: #008080; font-weight: bold\">2.1379e+00</span>, <span style=\"color: #008080; text-decoration-color: #008080; font-weight: bold\">-1.4934e+00</span>,  <span style=\"color: #808000; text-decoration-color: #808000\">...</span>,  <span style=\"color: #008080; text-decoration-color: #008080; font-weight: bold\">1.3959e+00</span>,\n",
       "           <span style=\"color: #008080; text-decoration-color: #008080; font-weight: bold\">-6.6470e-01</span>,  <span style=\"color: #008080; text-decoration-color: #008080; font-weight: bold\">3.3204e+00</span><span style=\"font-weight: bold\">]]</span>,\n",
       "\n",
       "         <span style=\"font-weight: bold\">[[</span> <span style=\"color: #008080; text-decoration-color: #008080; font-weight: bold\">3.0743e-02</span>, <span style=\"color: #008080; text-decoration-color: #008080; font-weight: bold\">-7.4376e-01</span>,  <span style=\"color: #008080; text-decoration-color: #008080; font-weight: bold\">2.8476e+00</span>,  <span style=\"color: #808000; text-decoration-color: #808000\">...</span>, <span style=\"color: #008080; text-decoration-color: #008080; font-weight: bold\">-3.9507e-01</span>,\n",
       "            <span style=\"color: #008080; text-decoration-color: #008080; font-weight: bold\">1.5208e+00</span>, <span style=\"color: #008080; text-decoration-color: #008080; font-weight: bold\">-3.6124e+00</span><span style=\"font-weight: bold\">]</span>,\n",
       "          <span style=\"font-weight: bold\">[</span><span style=\"color: #008080; text-decoration-color: #008080; font-weight: bold\">-1.0794e+00</span>, <span style=\"color: #008080; text-decoration-color: #008080; font-weight: bold\">-2.1506e+00</span>, <span style=\"color: #008080; text-decoration-color: #008080; font-weight: bold\">-1.2093e+00</span>,  <span style=\"color: #808000; text-decoration-color: #808000\">...</span>, <span style=\"color: #008080; text-decoration-color: #008080; font-weight: bold\">-1.4191e+00</span>,\n",
       "           <span style=\"color: #008080; text-decoration-color: #008080; font-weight: bold\">-1.7479e+00</span>,  <span style=\"color: #008080; text-decoration-color: #008080; font-weight: bold\">7.6380e-01</span><span style=\"font-weight: bold\">]</span>,\n",
       "          <span style=\"font-weight: bold\">[</span><span style=\"color: #008080; text-decoration-color: #008080; font-weight: bold\">-1.8889e+00</span>,  <span style=\"color: #008080; text-decoration-color: #008080; font-weight: bold\">2.5022e+00</span>,  <span style=\"color: #008080; text-decoration-color: #008080; font-weight: bold\">5.0875e-01</span>,  <span style=\"color: #808000; text-decoration-color: #808000\">...</span>,  <span style=\"color: #008080; text-decoration-color: #008080; font-weight: bold\">1.8208e-01</span>,\n",
       "           <span style=\"color: #008080; text-decoration-color: #008080; font-weight: bold\">-7.7391e-02</span>, <span style=\"color: #008080; text-decoration-color: #008080; font-weight: bold\">-2.4848e+00</span><span style=\"font-weight: bold\">]</span>,\n",
       "          <span style=\"color: #808000; text-decoration-color: #808000\">...</span>,\n",
       "          <span style=\"font-weight: bold\">[</span><span style=\"color: #008080; text-decoration-color: #008080; font-weight: bold\">-1.9648e+00</span>,  <span style=\"color: #008080; text-decoration-color: #008080; font-weight: bold\">7.7489e-01</span>, <span style=\"color: #008080; text-decoration-color: #008080; font-weight: bold\">-2.2703e+00</span>,  <span style=\"color: #808000; text-decoration-color: #808000\">...</span>, <span style=\"color: #008080; text-decoration-color: #008080; font-weight: bold\">-1.5983e+00</span>,\n",
       "           <span style=\"color: #008080; text-decoration-color: #008080; font-weight: bold\">-4.1627e-01</span>, <span style=\"color: #008080; text-decoration-color: #008080; font-weight: bold\">-3.2595e-01</span><span style=\"font-weight: bold\">]</span>,\n",
       "          <span style=\"font-weight: bold\">[</span> <span style=\"color: #008080; text-decoration-color: #008080; font-weight: bold\">3.3610e+00</span>,  <span style=\"color: #008080; text-decoration-color: #008080; font-weight: bold\">6.8815e-01</span>, <span style=\"color: #008080; text-decoration-color: #008080; font-weight: bold\">-1.0385e+00</span>,  <span style=\"color: #808000; text-decoration-color: #808000\">...</span>, <span style=\"color: #008080; text-decoration-color: #008080; font-weight: bold\">-7.8380e-04</span>,\n",
       "           <span style=\"color: #008080; text-decoration-color: #008080; font-weight: bold\">-3.0374e-01</span>, <span style=\"color: #008080; text-decoration-color: #008080; font-weight: bold\">-2.6985e-01</span><span style=\"font-weight: bold\">]</span>,\n",
       "          <span style=\"font-weight: bold\">[</span><span style=\"color: #008080; text-decoration-color: #008080; font-weight: bold\">-1.3371e+00</span>, <span style=\"color: #008080; text-decoration-color: #008080; font-weight: bold\">-3.7094e+00</span>,  <span style=\"color: #008080; text-decoration-color: #008080; font-weight: bold\">2.1831e+00</span>,  <span style=\"color: #808000; text-decoration-color: #808000\">...</span>, <span style=\"color: #008080; text-decoration-color: #008080; font-weight: bold\">-1.4367e+00</span>,\n",
       "           <span style=\"color: #008080; text-decoration-color: #008080; font-weight: bold\">-1.4769e+00</span>,  <span style=\"color: #008080; text-decoration-color: #008080; font-weight: bold\">2.6517e-01</span><span style=\"font-weight: bold\">]]</span>,\n",
       "\n",
       "         <span style=\"font-weight: bold\">[[</span><span style=\"color: #008080; text-decoration-color: #008080; font-weight: bold\">-1.1580e+00</span>, <span style=\"color: #008080; text-decoration-color: #008080; font-weight: bold\">-6.9342e-01</span>,  <span style=\"color: #008080; text-decoration-color: #008080; font-weight: bold\">7.5700e-01</span>,  <span style=\"color: #808000; text-decoration-color: #808000\">...</span>, <span style=\"color: #008080; text-decoration-color: #008080; font-weight: bold\">-3.1592e+00</span>,\n",
       "           <span style=\"color: #008080; text-decoration-color: #008080; font-weight: bold\">-5.7130e+00</span>,  <span style=\"color: #008080; text-decoration-color: #008080; font-weight: bold\">2.7406e+00</span><span style=\"font-weight: bold\">]</span>,\n",
       "          <span style=\"font-weight: bold\">[</span> <span style=\"color: #008080; text-decoration-color: #008080; font-weight: bold\">1.5025e-02</span>,  <span style=\"color: #008080; text-decoration-color: #008080; font-weight: bold\">1.4327e+00</span>, <span style=\"color: #008080; text-decoration-color: #008080; font-weight: bold\">-5.3559e-01</span>,  <span style=\"color: #808000; text-decoration-color: #808000\">...</span>,  <span style=\"color: #008080; text-decoration-color: #008080; font-weight: bold\">7.7577e-01</span>,\n",
       "           <span style=\"color: #008080; text-decoration-color: #008080; font-weight: bold\">-1.2823e-01</span>,  <span style=\"color: #008080; text-decoration-color: #008080; font-weight: bold\">3.1370e+00</span><span style=\"font-weight: bold\">]</span>,\n",
       "          <span style=\"font-weight: bold\">[</span> <span style=\"color: #008080; text-decoration-color: #008080; font-weight: bold\">9.6001e-01</span>, <span style=\"color: #008080; text-decoration-color: #008080; font-weight: bold\">-3.2613e+00</span>, <span style=\"color: #008080; text-decoration-color: #008080; font-weight: bold\">-9.2879e-01</span>,  <span style=\"color: #808000; text-decoration-color: #808000\">...</span>,  <span style=\"color: #008080; text-decoration-color: #008080; font-weight: bold\">1.9076e+00</span>,\n",
       "           <span style=\"color: #008080; text-decoration-color: #008080; font-weight: bold\">-3.6997e-01</span>, <span style=\"color: #008080; text-decoration-color: #008080; font-weight: bold\">-1.2786e+00</span><span style=\"font-weight: bold\">]</span>,\n",
       "          <span style=\"color: #808000; text-decoration-color: #808000\">...</span>,\n",
       "          <span style=\"font-weight: bold\">[</span><span style=\"color: #008080; text-decoration-color: #008080; font-weight: bold\">-1.0687e-01</span>, <span style=\"color: #008080; text-decoration-color: #008080; font-weight: bold\">-1.7149e+00</span>, <span style=\"color: #008080; text-decoration-color: #008080; font-weight: bold\">-1.9773e+00</span>,  <span style=\"color: #808000; text-decoration-color: #808000\">...</span>, <span style=\"color: #008080; text-decoration-color: #008080; font-weight: bold\">-3.9249e+00</span>,\n",
       "           <span style=\"color: #008080; text-decoration-color: #008080; font-weight: bold\">-6.8946e-01</span>, <span style=\"color: #008080; text-decoration-color: #008080; font-weight: bold\">-2.4138e+00</span><span style=\"font-weight: bold\">]</span>,\n",
       "          <span style=\"font-weight: bold\">[</span><span style=\"color: #008080; text-decoration-color: #008080; font-weight: bold\">-5.2378e-01</span>,  <span style=\"color: #008080; text-decoration-color: #008080; font-weight: bold\">2.8814e+00</span>, <span style=\"color: #008080; text-decoration-color: #008080; font-weight: bold\">-2.1543e+00</span>,  <span style=\"color: #808000; text-decoration-color: #808000\">...</span>,  <span style=\"color: #008080; text-decoration-color: #008080; font-weight: bold\">1.8043e+00</span>,\n",
       "            <span style=\"color: #008080; text-decoration-color: #008080; font-weight: bold\">1.2773e+00</span>,  <span style=\"color: #008080; text-decoration-color: #008080; font-weight: bold\">8.3918e-01</span><span style=\"font-weight: bold\">]</span>,\n",
       "          <span style=\"font-weight: bold\">[</span><span style=\"color: #008080; text-decoration-color: #008080; font-weight: bold\">-1.0092e+00</span>,  <span style=\"color: #008080; text-decoration-color: #008080; font-weight: bold\">5.1592e+00</span>, <span style=\"color: #008080; text-decoration-color: #008080; font-weight: bold\">-8.3392e-01</span>,  <span style=\"color: #808000; text-decoration-color: #808000\">...</span>, <span style=\"color: #008080; text-decoration-color: #008080; font-weight: bold\">-8.6357e-01</span>,\n",
       "            <span style=\"color: #008080; text-decoration-color: #008080; font-weight: bold\">2.3544e+00</span>,  <span style=\"color: #008080; text-decoration-color: #008080; font-weight: bold\">4.5162e-01</span><span style=\"font-weight: bold\">]]]]</span>, <span style=\"color: #808000; text-decoration-color: #808000\">grad_fn</span>=<span style=\"font-weight: bold\">&lt;</span><span style=\"color: #ff00ff; text-decoration-color: #ff00ff; font-weight: bold\">UnsafeViewBackward0</span><span style=\"font-weight: bold\">&gt;)</span>\n",
       "</pre>\n"
      ],
      "text/plain": [
       "attn_rope.shape: \u001b[1;35mtensor\u001b[0m\u001b[1m(\u001b[0m\u001b[1m[\u001b[0m\u001b[1m[\u001b[0m\u001b[1m[\u001b[0m\u001b[1m[\u001b[0m \u001b[1;36m1.9850e+00\u001b[0m, \u001b[1;36m-3.9690e-01\u001b[0m,  \u001b[1;36m1.3548e+00\u001b[0m,  \u001b[33m...\u001b[0m,  \u001b[1;36m7.4376e-01\u001b[0m,\n",
       "            \u001b[1;36m3.0385e+00\u001b[0m, \u001b[1;36m-5.6545e-01\u001b[0m\u001b[1m]\u001b[0m,\n",
       "          \u001b[1m[\u001b[0m\u001b[1;36m-5.3687e-01\u001b[0m, \u001b[1;36m-1.9065e+00\u001b[0m, \u001b[1;36m-1.6776e-01\u001b[0m,  \u001b[33m...\u001b[0m,  \u001b[1;36m4.6653e-01\u001b[0m,\n",
       "            \u001b[1;36m2.4045e-01\u001b[0m,  \u001b[1;36m1.3401e+00\u001b[0m\u001b[1m]\u001b[0m,\n",
       "          \u001b[1m[\u001b[0m \u001b[1;36m1.0036e+00\u001b[0m, \u001b[1;36m-7.3326e-02\u001b[0m,  \u001b[1;36m2.9853e+00\u001b[0m,  \u001b[33m...\u001b[0m,  \u001b[1;36m3.2081e-01\u001b[0m,\n",
       "            \u001b[1;36m2.1955e+00\u001b[0m, \u001b[1;36m-2.8201e+00\u001b[0m\u001b[1m]\u001b[0m,\n",
       "          \u001b[33m...\u001b[0m,\n",
       "          \u001b[1m[\u001b[0m\u001b[1;36m-1.0465e+00\u001b[0m, \u001b[1;36m-6.8435e-01\u001b[0m,  \u001b[1;36m9.2449e-02\u001b[0m,  \u001b[33m...\u001b[0m,  \u001b[1;36m2.7603e+00\u001b[0m,\n",
       "            \u001b[1;36m2.1605e+00\u001b[0m, \u001b[1;36m-3.0489e-01\u001b[0m\u001b[1m]\u001b[0m,\n",
       "          \u001b[1m[\u001b[0m\u001b[1;36m-4.4891e-01\u001b[0m, \u001b[1;36m-6.9682e-01\u001b[0m,  \u001b[1;36m2.0532e+00\u001b[0m,  \u001b[33m...\u001b[0m, \u001b[1;36m-1.8839e+00\u001b[0m,\n",
       "           \u001b[1;36m-1.4998e+00\u001b[0m, \u001b[1;36m-9.1195e-02\u001b[0m\u001b[1m]\u001b[0m,\n",
       "          \u001b[1m[\u001b[0m\u001b[1;36m-1.6117e+00\u001b[0m, \u001b[1;36m-8.5955e-02\u001b[0m, \u001b[1;36m-1.6991e+00\u001b[0m,  \u001b[33m...\u001b[0m,  \u001b[1;36m1.2099e-01\u001b[0m,\n",
       "            \u001b[1;36m9.3890e-01\u001b[0m,  \u001b[1;36m1.8337e+00\u001b[0m\u001b[1m]\u001b[0m\u001b[1m]\u001b[0m,\n",
       "\n",
       "         \u001b[1m[\u001b[0m\u001b[1m[\u001b[0m\u001b[1;36m-2.5858e-01\u001b[0m, \u001b[1;36m-1.1264e+00\u001b[0m,  \u001b[1;36m1.5929e+00\u001b[0m,  \u001b[33m...\u001b[0m, \u001b[1;36m-7.9883e-01\u001b[0m,\n",
       "           \u001b[1;36m-3.1584e-01\u001b[0m,  \u001b[1;36m2.3517e+00\u001b[0m\u001b[1m]\u001b[0m,\n",
       "          \u001b[1m[\u001b[0m\u001b[1;36m-2.4903e+00\u001b[0m, \u001b[1;36m-2.5890e+00\u001b[0m, \u001b[1;36m-2.6358e+00\u001b[0m,  \u001b[33m...\u001b[0m, \u001b[1;36m-3.5851e-01\u001b[0m,\n",
       "           \u001b[1;36m-8.6263e-01\u001b[0m, \u001b[1;36m-2.3043e+00\u001b[0m\u001b[1m]\u001b[0m,\n",
       "          \u001b[1m[\u001b[0m \u001b[1;36m1.7827e+00\u001b[0m,  \u001b[1;36m4.9190e-01\u001b[0m,  \u001b[1;36m1.1469e+00\u001b[0m,  \u001b[33m...\u001b[0m,  \u001b[1;36m2.0978e-01\u001b[0m,\n",
       "            \u001b[1;36m9.4838e-01\u001b[0m, \u001b[1;36m-5.6837e-01\u001b[0m\u001b[1m]\u001b[0m,\n",
       "          \u001b[33m...\u001b[0m,\n",
       "          \u001b[1m[\u001b[0m\u001b[1;36m-1.1243e+00\u001b[0m, \u001b[1;36m-3.4298e-01\u001b[0m,  \u001b[1;36m4.0499e-01\u001b[0m,  \u001b[33m...\u001b[0m, \u001b[1;36m-3.1909e+00\u001b[0m,\n",
       "            \u001b[1;36m1.3322e+00\u001b[0m,  \u001b[1;36m1.6870e+00\u001b[0m\u001b[1m]\u001b[0m,\n",
       "          \u001b[1m[\u001b[0m \u001b[1;36m6.1117e-01\u001b[0m,  \u001b[1;36m1.7573e+00\u001b[0m,  \u001b[1;36m1.6068e+00\u001b[0m,  \u001b[33m...\u001b[0m,  \u001b[1;36m9.2221e-01\u001b[0m,\n",
       "           \u001b[1;36m-3.5442e-01\u001b[0m,  \u001b[1;36m1.9292e+00\u001b[0m\u001b[1m]\u001b[0m,\n",
       "          \u001b[1m[\u001b[0m\u001b[1;36m-2.3074e+00\u001b[0m,  \u001b[1;36m9.9797e-02\u001b[0m, \u001b[1;36m-3.0700e-01\u001b[0m,  \u001b[33m...\u001b[0m, \u001b[1;36m-1.4847e+00\u001b[0m,\n",
       "            \u001b[1;36m9.4274e-01\u001b[0m,  \u001b[1;36m1.5843e+00\u001b[0m\u001b[1m]\u001b[0m\u001b[1m]\u001b[0m,\n",
       "\n",
       "         \u001b[1m[\u001b[0m\u001b[1m[\u001b[0m \u001b[1;36m3.0423e-01\u001b[0m,  \u001b[1;36m1.7341e+00\u001b[0m,  \u001b[1;36m1.1072e+00\u001b[0m,  \u001b[33m...\u001b[0m, \u001b[1;36m-2.7607e+00\u001b[0m,\n",
       "            \u001b[1;36m1.0463e+00\u001b[0m, \u001b[1;36m-7.4072e-01\u001b[0m\u001b[1m]\u001b[0m,\n",
       "          \u001b[1m[\u001b[0m \u001b[1;36m1.8237e+00\u001b[0m,  \u001b[1;36m2.5169e+00\u001b[0m,  \u001b[1;36m2.0665e+00\u001b[0m,  \u001b[33m...\u001b[0m,  \u001b[1;36m3.9393e+00\u001b[0m,\n",
       "            \u001b[1;36m1.5061e+00\u001b[0m, \u001b[1;36m-1.4062e+00\u001b[0m\u001b[1m]\u001b[0m,\n",
       "          \u001b[1m[\u001b[0m \u001b[1;36m6.7381e-01\u001b[0m,  \u001b[1;36m1.8379e-01\u001b[0m,  \u001b[1;36m8.0859e-01\u001b[0m,  \u001b[33m...\u001b[0m,  \u001b[1;36m6.0631e-01\u001b[0m,\n",
       "            \u001b[1;36m4.2994e+00\u001b[0m,  \u001b[1;36m2.1868e+00\u001b[0m\u001b[1m]\u001b[0m,\n",
       "          \u001b[33m...\u001b[0m,\n",
       "          \u001b[1m[\u001b[0m\u001b[1;36m-1.3463e+00\u001b[0m, \u001b[1;36m-3.6087e-02\u001b[0m,  \u001b[1;36m1.1966e+00\u001b[0m,  \u001b[33m...\u001b[0m, \u001b[1;36m-2.4348e+00\u001b[0m,\n",
       "           \u001b[1;36m-2.7264e+00\u001b[0m,  \u001b[1;36m2.0101e+00\u001b[0m\u001b[1m]\u001b[0m,\n",
       "          \u001b[1m[\u001b[0m \u001b[1;36m1.6154e+00\u001b[0m,  \u001b[1;36m1.4695e+00\u001b[0m,  \u001b[1;36m1.8914e+00\u001b[0m,  \u001b[33m...\u001b[0m,  \u001b[1;36m2.2079e+00\u001b[0m,\n",
       "            \u001b[1;36m1.3482e+00\u001b[0m, \u001b[1;36m-4.0241e-01\u001b[0m\u001b[1m]\u001b[0m,\n",
       "          \u001b[1m[\u001b[0m \u001b[1;36m6.2418e-01\u001b[0m, \u001b[1;36m-1.5696e+00\u001b[0m,  \u001b[1;36m3.3149e+00\u001b[0m,  \u001b[33m...\u001b[0m, \u001b[1;36m-3.7836e+00\u001b[0m,\n",
       "            \u001b[1;36m8.1226e-01\u001b[0m,  \u001b[1;36m1.1691e+00\u001b[0m\u001b[1m]\u001b[0m\u001b[1m]\u001b[0m,\n",
       "\n",
       "         \u001b[33m...\u001b[0m,\n",
       "\n",
       "         \u001b[1m[\u001b[0m\u001b[1m[\u001b[0m \u001b[1;36m2.3609e+00\u001b[0m,  \u001b[1;36m2.5668e+00\u001b[0m,  \u001b[1;36m2.0339e+00\u001b[0m,  \u001b[33m...\u001b[0m, \u001b[1;36m-4.5365e-02\u001b[0m,\n",
       "            \u001b[1;36m1.5937e+00\u001b[0m,  \u001b[1;36m8.6342e-01\u001b[0m\u001b[1m]\u001b[0m,\n",
       "          \u001b[1m[\u001b[0m \u001b[1;36m1.6715e+00\u001b[0m, \u001b[1;36m-3.7053e-01\u001b[0m,  \u001b[1;36m3.1930e+00\u001b[0m,  \u001b[33m...\u001b[0m,  \u001b[1;36m1.7775e+00\u001b[0m,\n",
       "           \u001b[1;36m-6.3770e-01\u001b[0m, \u001b[1;36m-9.3939e-01\u001b[0m\u001b[1m]\u001b[0m,\n",
       "          \u001b[1m[\u001b[0m \u001b[1;36m5.4493e-01\u001b[0m, \u001b[1;36m-1.7727e+00\u001b[0m,  \u001b[1;36m1.2575e+00\u001b[0m,  \u001b[33m...\u001b[0m,  \u001b[1;36m3.9406e+00\u001b[0m,\n",
       "            \u001b[1;36m2.3544e-01\u001b[0m, \u001b[1;36m-1.5344e+00\u001b[0m\u001b[1m]\u001b[0m,\n",
       "          \u001b[33m...\u001b[0m,\n",
       "          \u001b[1m[\u001b[0m \u001b[1;36m3.2802e-01\u001b[0m, \u001b[1;36m-1.6012e+00\u001b[0m, \u001b[1;36m-5.9674e-01\u001b[0m,  \u001b[33m...\u001b[0m,  \u001b[1;36m1.1781e+00\u001b[0m,\n",
       "            \u001b[1;36m7.4961e-01\u001b[0m, \u001b[1;36m-4.2516e-01\u001b[0m\u001b[1m]\u001b[0m,\n",
       "          \u001b[1m[\u001b[0m\u001b[1;36m-6.6069e-01\u001b[0m,  \u001b[1;36m8.6322e-01\u001b[0m, \u001b[1;36m-2.1847e-01\u001b[0m,  \u001b[33m...\u001b[0m, \u001b[1;36m-3.0084e+00\u001b[0m,\n",
       "           \u001b[1;36m-3.6697e+00\u001b[0m,  \u001b[1;36m1.0965e+00\u001b[0m\u001b[1m]\u001b[0m,\n",
       "          \u001b[1m[\u001b[0m\u001b[1;36m-1.4089e+00\u001b[0m, \u001b[1;36m-1.3745e+00\u001b[0m,  \u001b[1;36m4.9718e+00\u001b[0m,  \u001b[33m...\u001b[0m, \u001b[1;36m-7.4121e-01\u001b[0m,\n",
       "           \u001b[1;36m-1.2067e+00\u001b[0m,  \u001b[1;36m3.4391e-03\u001b[0m\u001b[1m]\u001b[0m\u001b[1m]\u001b[0m,\n",
       "\n",
       "         \u001b[1m[\u001b[0m\u001b[1m[\u001b[0m \u001b[1;36m1.2679e+00\u001b[0m,  \u001b[1;36m1.3472e+00\u001b[0m,  \u001b[1;36m1.5555e+00\u001b[0m,  \u001b[33m...\u001b[0m,  \u001b[1;36m8.1869e-01\u001b[0m,\n",
       "            \u001b[1;36m1.3334e+00\u001b[0m,  \u001b[1;36m1.1187e-01\u001b[0m\u001b[1m]\u001b[0m,\n",
       "          \u001b[1m[\u001b[0m\u001b[1;36m-2.4395e+00\u001b[0m, \u001b[1;36m-8.9531e-01\u001b[0m,  \u001b[1;36m1.3809e-01\u001b[0m,  \u001b[33m...\u001b[0m,  \u001b[1;36m4.5173e-01\u001b[0m,\n",
       "           \u001b[1;36m-7.5673e-01\u001b[0m,  \u001b[1;36m4.5998e+00\u001b[0m\u001b[1m]\u001b[0m,\n",
       "          \u001b[1m[\u001b[0m \u001b[1;36m1.5295e+00\u001b[0m,  \u001b[1;36m1.8858e-01\u001b[0m,  \u001b[1;36m1.0334e+00\u001b[0m,  \u001b[33m...\u001b[0m, \u001b[1;36m-2.6424e+00\u001b[0m,\n",
       "            \u001b[1;36m1.6160e+00\u001b[0m, \u001b[1;36m-1.9275e-01\u001b[0m\u001b[1m]\u001b[0m,\n",
       "          \u001b[33m...\u001b[0m,\n",
       "          \u001b[1m[\u001b[0m\u001b[1;36m-8.2917e-02\u001b[0m,  \u001b[1;36m2.4875e+00\u001b[0m,  \u001b[1;36m3.2480e-01\u001b[0m,  \u001b[33m...\u001b[0m,  \u001b[1;36m4.1944e-01\u001b[0m,\n",
       "           \u001b[1;36m-1.0741e+00\u001b[0m,  \u001b[1;36m2.1442e+00\u001b[0m\u001b[1m]\u001b[0m,\n",
       "          \u001b[1m[\u001b[0m \u001b[1;36m5.4489e-01\u001b[0m, \u001b[1;36m-9.9878e-01\u001b[0m, \u001b[1;36m-5.5557e-01\u001b[0m,  \u001b[33m...\u001b[0m,  \u001b[1;36m2.7729e+00\u001b[0m,\n",
       "            \u001b[1;36m8.8771e-01\u001b[0m,  \u001b[1;36m5.6244e-01\u001b[0m\u001b[1m]\u001b[0m,\n",
       "          \u001b[1m[\u001b[0m\u001b[1;36m-7.7124e-02\u001b[0m,  \u001b[1;36m7.2780e-01\u001b[0m, \u001b[1;36m-1.6659e+00\u001b[0m,  \u001b[33m...\u001b[0m,  \u001b[1;36m2.4613e+00\u001b[0m,\n",
       "           \u001b[1;36m-6.1249e-01\u001b[0m, \u001b[1;36m-1.5382e-01\u001b[0m\u001b[1m]\u001b[0m\u001b[1m]\u001b[0m,\n",
       "\n",
       "         \u001b[1m[\u001b[0m\u001b[1m[\u001b[0m \u001b[1;36m4.2838e-01\u001b[0m, \u001b[1;36m-2.3381e+00\u001b[0m, \u001b[1;36m-3.6057e-01\u001b[0m,  \u001b[33m...\u001b[0m, \u001b[1;36m-9.4714e-01\u001b[0m,\n",
       "            \u001b[1;36m4.8644e+00\u001b[0m, \u001b[1;36m-4.2315e-01\u001b[0m\u001b[1m]\u001b[0m,\n",
       "          \u001b[1m[\u001b[0m\u001b[1;36m-1.0135e-01\u001b[0m,  \u001b[1;36m2.6640e-01\u001b[0m,  \u001b[1;36m6.9827e-01\u001b[0m,  \u001b[33m...\u001b[0m,  \u001b[1;36m1.7185e+00\u001b[0m,\n",
       "            \u001b[1;36m2.7727e-01\u001b[0m, \u001b[1;36m-4.9628e-01\u001b[0m\u001b[1m]\u001b[0m,\n",
       "          \u001b[1m[\u001b[0m\u001b[1;36m-1.0879e+00\u001b[0m,  \u001b[1;36m8.7520e-02\u001b[0m,  \u001b[1;36m1.4687e+00\u001b[0m,  \u001b[33m...\u001b[0m, \u001b[1;36m-1.2697e+00\u001b[0m,\n",
       "           \u001b[1;36m-4.4847e-01\u001b[0m,  \u001b[1;36m1.6359e+00\u001b[0m\u001b[1m]\u001b[0m,\n",
       "          \u001b[33m...\u001b[0m,\n",
       "          \u001b[1m[\u001b[0m \u001b[1;36m2.2349e+00\u001b[0m,  \u001b[1;36m1.2159e+00\u001b[0m,  \u001b[1;36m3.4596e+00\u001b[0m,  \u001b[33m...\u001b[0m,  \u001b[1;36m1.5525e+00\u001b[0m,\n",
       "           \u001b[1;36m-1.2320e+00\u001b[0m,  \u001b[1;36m1.1737e+00\u001b[0m\u001b[1m]\u001b[0m,\n",
       "          \u001b[1m[\u001b[0m\u001b[1;36m-5.9189e-01\u001b[0m, \u001b[1;36m-7.6918e-01\u001b[0m,  \u001b[1;36m1.5643e+00\u001b[0m,  \u001b[33m...\u001b[0m, \u001b[1;36m-2.0427e+00\u001b[0m,\n",
       "           \u001b[1;36m-6.6709e-01\u001b[0m,  \u001b[1;36m2.8473e+00\u001b[0m\u001b[1m]\u001b[0m,\n",
       "          \u001b[1m[\u001b[0m \u001b[1;36m2.5451e+00\u001b[0m, \u001b[1;36m-3.4559e-01\u001b[0m,  \u001b[1;36m2.0216e+00\u001b[0m,  \u001b[33m...\u001b[0m,  \u001b[1;36m1.0615e+00\u001b[0m,\n",
       "            \u001b[1;36m3.5776e+00\u001b[0m, \u001b[1;36m-2.7788e+00\u001b[0m\u001b[1m]\u001b[0m\u001b[1m]\u001b[0m\u001b[1m]\u001b[0m,\n",
       "\n",
       "\n",
       "        \u001b[1m[\u001b[0m\u001b[1m[\u001b[0m\u001b[1m[\u001b[0m\u001b[1;36m-1.6298e+00\u001b[0m, \u001b[1;36m-1.5379e+00\u001b[0m,  \u001b[1;36m2.2748e+00\u001b[0m,  \u001b[33m...\u001b[0m, \u001b[1;36m-3.6606e+00\u001b[0m,\n",
       "           \u001b[1;36m-2.2468e+00\u001b[0m, \u001b[1;36m-1.2689e+00\u001b[0m\u001b[1m]\u001b[0m,\n",
       "          \u001b[1m[\u001b[0m \u001b[1;36m1.9221e+00\u001b[0m,  \u001b[1;36m8.0224e-01\u001b[0m, \u001b[1;36m-2.1690e+00\u001b[0m,  \u001b[33m...\u001b[0m,  \u001b[1;36m1.4254e+00\u001b[0m,\n",
       "           \u001b[1;36m-3.1459e+00\u001b[0m, \u001b[1;36m-6.3310e-01\u001b[0m\u001b[1m]\u001b[0m,\n",
       "          \u001b[1m[\u001b[0m \u001b[1;36m1.0618e+00\u001b[0m, \u001b[1;36m-1.3123e+00\u001b[0m,  \u001b[1;36m6.2292e-01\u001b[0m,  \u001b[33m...\u001b[0m, \u001b[1;36m-4.7902e-02\u001b[0m,\n",
       "           \u001b[1;36m-2.0661e+00\u001b[0m, \u001b[1;36m-1.0674e+00\u001b[0m\u001b[1m]\u001b[0m,\n",
       "          \u001b[33m...\u001b[0m,\n",
       "          \u001b[1m[\u001b[0m \u001b[1;36m1.1297e+00\u001b[0m, \u001b[1;36m-2.0126e-01\u001b[0m, \u001b[1;36m-1.9634e+00\u001b[0m,  \u001b[33m...\u001b[0m, \u001b[1;36m-1.4552e+00\u001b[0m,\n",
       "           \u001b[1;36m-1.5914e+00\u001b[0m,  \u001b[1;36m2.7253e+00\u001b[0m\u001b[1m]\u001b[0m,\n",
       "          \u001b[1m[\u001b[0m\u001b[1;36m-6.9267e-01\u001b[0m, \u001b[1;36m-6.5706e-01\u001b[0m, \u001b[1;36m-5.3299e-01\u001b[0m,  \u001b[33m...\u001b[0m, \u001b[1;36m-4.0032e-01\u001b[0m,\n",
       "            \u001b[1;36m1.6359e+00\u001b[0m,  \u001b[1;36m7.7452e-01\u001b[0m\u001b[1m]\u001b[0m,\n",
       "          \u001b[1m[\u001b[0m \u001b[1;36m5.8654e+00\u001b[0m, \u001b[1;36m-2.1880e+00\u001b[0m, \u001b[1;36m-7.1780e-02\u001b[0m,  \u001b[33m...\u001b[0m, \u001b[1;36m-5.7572e+00\u001b[0m,\n",
       "           \u001b[1;36m-8.9446e-01\u001b[0m, \u001b[1;36m-2.8155e+00\u001b[0m\u001b[1m]\u001b[0m\u001b[1m]\u001b[0m,\n",
       "\n",
       "         \u001b[1m[\u001b[0m\u001b[1m[\u001b[0m \u001b[1;36m1.0548e+00\u001b[0m,  \u001b[1;36m2.5197e+00\u001b[0m, \u001b[1;36m-2.6981e+00\u001b[0m,  \u001b[33m...\u001b[0m,  \u001b[1;36m2.5782e-01\u001b[0m,\n",
       "            \u001b[1;36m2.2737e-01\u001b[0m, \u001b[1;36m-2.8807e-01\u001b[0m\u001b[1m]\u001b[0m,\n",
       "          \u001b[1m[\u001b[0m\u001b[1;36m-5.2460e+00\u001b[0m, \u001b[1;36m-1.6525e+00\u001b[0m, \u001b[1;36m-1.7066e-01\u001b[0m,  \u001b[33m...\u001b[0m, \u001b[1;36m-4.3306e-02\u001b[0m,\n",
       "           \u001b[1;36m-1.0339e+00\u001b[0m, \u001b[1;36m-1.4281e-01\u001b[0m\u001b[1m]\u001b[0m,\n",
       "          \u001b[1m[\u001b[0m \u001b[1;36m1.5901e+00\u001b[0m,  \u001b[1;36m1.8567e+00\u001b[0m, \u001b[1;36m-7.1373e-01\u001b[0m,  \u001b[33m...\u001b[0m,  \u001b[1;36m3.9417e-01\u001b[0m,\n",
       "           \u001b[1;36m-3.1955e+00\u001b[0m,  \u001b[1;36m1.8668e-01\u001b[0m\u001b[1m]\u001b[0m,\n",
       "          \u001b[33m...\u001b[0m,\n",
       "          \u001b[1m[\u001b[0m\u001b[1;36m-1.6321e+00\u001b[0m, \u001b[1;36m-2.1926e-01\u001b[0m,  \u001b[1;36m6.8933e-02\u001b[0m,  \u001b[33m...\u001b[0m,  \u001b[1;36m1.3104e+00\u001b[0m,\n",
       "           \u001b[1;36m-1.6640e+00\u001b[0m,  \u001b[1;36m2.1302e+00\u001b[0m\u001b[1m]\u001b[0m,\n",
       "          \u001b[1m[\u001b[0m\u001b[1;36m-5.7680e-01\u001b[0m, \u001b[1;36m-1.5784e+00\u001b[0m, \u001b[1;36m-6.8753e-01\u001b[0m,  \u001b[33m...\u001b[0m, \u001b[1;36m-7.0757e-01\u001b[0m,\n",
       "           \u001b[1;36m-4.7855e-01\u001b[0m, \u001b[1;36m-5.5081e-01\u001b[0m\u001b[1m]\u001b[0m,\n",
       "          \u001b[1m[\u001b[0m\u001b[1;36m-1.4390e+00\u001b[0m, \u001b[1;36m-1.6390e+00\u001b[0m, \u001b[1;36m-7.0287e-01\u001b[0m,  \u001b[33m...\u001b[0m, \u001b[1;36m-2.6999e+00\u001b[0m,\n",
       "            \u001b[1;36m3.9162e+00\u001b[0m,  \u001b[1;36m1.6469e+00\u001b[0m\u001b[1m]\u001b[0m\u001b[1m]\u001b[0m,\n",
       "\n",
       "         \u001b[1m[\u001b[0m\u001b[1m[\u001b[0m\u001b[1;36m-1.8443e-01\u001b[0m, \u001b[1;36m-5.2826e-01\u001b[0m, \u001b[1;36m-2.5179e+00\u001b[0m,  \u001b[33m...\u001b[0m,  \u001b[1;36m1.0414e+00\u001b[0m,\n",
       "            \u001b[1;36m2.1989e+00\u001b[0m,  \u001b[1;36m2.3877e+00\u001b[0m\u001b[1m]\u001b[0m,\n",
       "          \u001b[1m[\u001b[0m \u001b[1;36m1.6467e+00\u001b[0m,  \u001b[1;36m2.2793e-01\u001b[0m,  \u001b[1;36m5.9998e-01\u001b[0m,  \u001b[33m...\u001b[0m, \u001b[1;36m-1.4522e+00\u001b[0m,\n",
       "            \u001b[1;36m6.8300e-01\u001b[0m, \u001b[1;36m-2.4179e+00\u001b[0m\u001b[1m]\u001b[0m,\n",
       "          \u001b[1m[\u001b[0m \u001b[1;36m2.7942e+00\u001b[0m,  \u001b[1;36m2.5301e+00\u001b[0m, \u001b[1;36m-2.6814e+00\u001b[0m,  \u001b[33m...\u001b[0m, \u001b[1;36m-9.0660e-01\u001b[0m,\n",
       "           \u001b[1;36m-2.5421e+00\u001b[0m,  \u001b[1;36m9.8620e-01\u001b[0m\u001b[1m]\u001b[0m,\n",
       "          \u001b[33m...\u001b[0m,\n",
       "          \u001b[1m[\u001b[0m \u001b[1;36m1.3643e-01\u001b[0m, \u001b[1;36m-6.2557e-01\u001b[0m,  \u001b[1;36m2.9370e+00\u001b[0m,  \u001b[33m...\u001b[0m,  \u001b[1;36m2.7240e+00\u001b[0m,\n",
       "           \u001b[1;36m-3.7940e-01\u001b[0m, \u001b[1;36m-1.3370e+00\u001b[0m\u001b[1m]\u001b[0m,\n",
       "          \u001b[1m[\u001b[0m\u001b[1;36m-2.9810e+00\u001b[0m, \u001b[1;36m-1.0674e+00\u001b[0m, \u001b[1;36m-1.3535e+00\u001b[0m,  \u001b[33m...\u001b[0m, \u001b[1;36m-6.9071e-01\u001b[0m,\n",
       "           \u001b[1;36m-1.8507e+00\u001b[0m, \u001b[1;36m-1.0149e+00\u001b[0m\u001b[1m]\u001b[0m,\n",
       "          \u001b[1m[\u001b[0m \u001b[1;36m1.3833e+00\u001b[0m, \u001b[1;36m-1.1432e+00\u001b[0m,  \u001b[1;36m4.2021e+00\u001b[0m,  \u001b[33m...\u001b[0m, \u001b[1;36m-9.0850e-01\u001b[0m,\n",
       "           \u001b[1;36m-4.8381e-01\u001b[0m, \u001b[1;36m-3.1077e+00\u001b[0m\u001b[1m]\u001b[0m\u001b[1m]\u001b[0m,\n",
       "\n",
       "         \u001b[33m...\u001b[0m,\n",
       "\n",
       "         \u001b[1m[\u001b[0m\u001b[1m[\u001b[0m\u001b[1;36m-9.7932e-01\u001b[0m, \u001b[1;36m-1.5758e+00\u001b[0m,  \u001b[1;36m2.2682e+00\u001b[0m,  \u001b[33m...\u001b[0m,  \u001b[1;36m2.6657e-01\u001b[0m,\n",
       "           \u001b[1;36m-1.0154e+00\u001b[0m, \u001b[1;36m-8.5570e-01\u001b[0m\u001b[1m]\u001b[0m,\n",
       "          \u001b[1m[\u001b[0m\u001b[1;36m-3.0482e+00\u001b[0m, \u001b[1;36m-2.0504e+00\u001b[0m,  \u001b[1;36m4.9099e+00\u001b[0m,  \u001b[33m...\u001b[0m,  \u001b[1;36m4.2031e-01\u001b[0m,\n",
       "            \u001b[1;36m5.3310e+00\u001b[0m, \u001b[1;36m-1.8201e+00\u001b[0m\u001b[1m]\u001b[0m,\n",
       "          \u001b[1m[\u001b[0m\u001b[1;36m-1.3218e+00\u001b[0m,  \u001b[1;36m1.0876e+00\u001b[0m,  \u001b[1;36m2.3998e+00\u001b[0m,  \u001b[33m...\u001b[0m,  \u001b[1;36m2.9196e-01\u001b[0m,\n",
       "           \u001b[1;36m-3.0610e-01\u001b[0m, \u001b[1;36m-6.4623e-01\u001b[0m\u001b[1m]\u001b[0m,\n",
       "          \u001b[33m...\u001b[0m,\n",
       "          \u001b[1m[\u001b[0m\u001b[1;36m-1.5216e+00\u001b[0m, \u001b[1;36m-2.4646e+00\u001b[0m,  \u001b[1;36m4.9839e+00\u001b[0m,  \u001b[33m...\u001b[0m, \u001b[1;36m-2.0180e+00\u001b[0m,\n",
       "            \u001b[1;36m1.0949e+00\u001b[0m, \u001b[1;36m-1.4757e+00\u001b[0m\u001b[1m]\u001b[0m,\n",
       "          \u001b[1m[\u001b[0m\u001b[1;36m-5.0105e-01\u001b[0m,  \u001b[1;36m1.4816e+00\u001b[0m, \u001b[1;36m-2.6261e+00\u001b[0m,  \u001b[33m...\u001b[0m,  \u001b[1;36m1.6673e+00\u001b[0m,\n",
       "           \u001b[1;36m-7.7096e-01\u001b[0m,  \u001b[1;36m3.4624e+00\u001b[0m\u001b[1m]\u001b[0m,\n",
       "          \u001b[1m[\u001b[0m\u001b[1;36m-7.1037e-01\u001b[0m,  \u001b[1;36m2.1379e+00\u001b[0m, \u001b[1;36m-1.4934e+00\u001b[0m,  \u001b[33m...\u001b[0m,  \u001b[1;36m1.3959e+00\u001b[0m,\n",
       "           \u001b[1;36m-6.6470e-01\u001b[0m,  \u001b[1;36m3.3204e+00\u001b[0m\u001b[1m]\u001b[0m\u001b[1m]\u001b[0m,\n",
       "\n",
       "         \u001b[1m[\u001b[0m\u001b[1m[\u001b[0m \u001b[1;36m3.0743e-02\u001b[0m, \u001b[1;36m-7.4376e-01\u001b[0m,  \u001b[1;36m2.8476e+00\u001b[0m,  \u001b[33m...\u001b[0m, \u001b[1;36m-3.9507e-01\u001b[0m,\n",
       "            \u001b[1;36m1.5208e+00\u001b[0m, \u001b[1;36m-3.6124e+00\u001b[0m\u001b[1m]\u001b[0m,\n",
       "          \u001b[1m[\u001b[0m\u001b[1;36m-1.0794e+00\u001b[0m, \u001b[1;36m-2.1506e+00\u001b[0m, \u001b[1;36m-1.2093e+00\u001b[0m,  \u001b[33m...\u001b[0m, \u001b[1;36m-1.4191e+00\u001b[0m,\n",
       "           \u001b[1;36m-1.7479e+00\u001b[0m,  \u001b[1;36m7.6380e-01\u001b[0m\u001b[1m]\u001b[0m,\n",
       "          \u001b[1m[\u001b[0m\u001b[1;36m-1.8889e+00\u001b[0m,  \u001b[1;36m2.5022e+00\u001b[0m,  \u001b[1;36m5.0875e-01\u001b[0m,  \u001b[33m...\u001b[0m,  \u001b[1;36m1.8208e-01\u001b[0m,\n",
       "           \u001b[1;36m-7.7391e-02\u001b[0m, \u001b[1;36m-2.4848e+00\u001b[0m\u001b[1m]\u001b[0m,\n",
       "          \u001b[33m...\u001b[0m,\n",
       "          \u001b[1m[\u001b[0m\u001b[1;36m-1.9648e+00\u001b[0m,  \u001b[1;36m7.7489e-01\u001b[0m, \u001b[1;36m-2.2703e+00\u001b[0m,  \u001b[33m...\u001b[0m, \u001b[1;36m-1.5983e+00\u001b[0m,\n",
       "           \u001b[1;36m-4.1627e-01\u001b[0m, \u001b[1;36m-3.2595e-01\u001b[0m\u001b[1m]\u001b[0m,\n",
       "          \u001b[1m[\u001b[0m \u001b[1;36m3.3610e+00\u001b[0m,  \u001b[1;36m6.8815e-01\u001b[0m, \u001b[1;36m-1.0385e+00\u001b[0m,  \u001b[33m...\u001b[0m, \u001b[1;36m-7.8380e-04\u001b[0m,\n",
       "           \u001b[1;36m-3.0374e-01\u001b[0m, \u001b[1;36m-2.6985e-01\u001b[0m\u001b[1m]\u001b[0m,\n",
       "          \u001b[1m[\u001b[0m\u001b[1;36m-1.3371e+00\u001b[0m, \u001b[1;36m-3.7094e+00\u001b[0m,  \u001b[1;36m2.1831e+00\u001b[0m,  \u001b[33m...\u001b[0m, \u001b[1;36m-1.4367e+00\u001b[0m,\n",
       "           \u001b[1;36m-1.4769e+00\u001b[0m,  \u001b[1;36m2.6517e-01\u001b[0m\u001b[1m]\u001b[0m\u001b[1m]\u001b[0m,\n",
       "\n",
       "         \u001b[1m[\u001b[0m\u001b[1m[\u001b[0m\u001b[1;36m-1.1580e+00\u001b[0m, \u001b[1;36m-6.9342e-01\u001b[0m,  \u001b[1;36m7.5700e-01\u001b[0m,  \u001b[33m...\u001b[0m, \u001b[1;36m-3.1592e+00\u001b[0m,\n",
       "           \u001b[1;36m-5.7130e+00\u001b[0m,  \u001b[1;36m2.7406e+00\u001b[0m\u001b[1m]\u001b[0m,\n",
       "          \u001b[1m[\u001b[0m \u001b[1;36m1.5025e-02\u001b[0m,  \u001b[1;36m1.4327e+00\u001b[0m, \u001b[1;36m-5.3559e-01\u001b[0m,  \u001b[33m...\u001b[0m,  \u001b[1;36m7.7577e-01\u001b[0m,\n",
       "           \u001b[1;36m-1.2823e-01\u001b[0m,  \u001b[1;36m3.1370e+00\u001b[0m\u001b[1m]\u001b[0m,\n",
       "          \u001b[1m[\u001b[0m \u001b[1;36m9.6001e-01\u001b[0m, \u001b[1;36m-3.2613e+00\u001b[0m, \u001b[1;36m-9.2879e-01\u001b[0m,  \u001b[33m...\u001b[0m,  \u001b[1;36m1.9076e+00\u001b[0m,\n",
       "           \u001b[1;36m-3.6997e-01\u001b[0m, \u001b[1;36m-1.2786e+00\u001b[0m\u001b[1m]\u001b[0m,\n",
       "          \u001b[33m...\u001b[0m,\n",
       "          \u001b[1m[\u001b[0m\u001b[1;36m-1.0687e-01\u001b[0m, \u001b[1;36m-1.7149e+00\u001b[0m, \u001b[1;36m-1.9773e+00\u001b[0m,  \u001b[33m...\u001b[0m, \u001b[1;36m-3.9249e+00\u001b[0m,\n",
       "           \u001b[1;36m-6.8946e-01\u001b[0m, \u001b[1;36m-2.4138e+00\u001b[0m\u001b[1m]\u001b[0m,\n",
       "          \u001b[1m[\u001b[0m\u001b[1;36m-5.2378e-01\u001b[0m,  \u001b[1;36m2.8814e+00\u001b[0m, \u001b[1;36m-2.1543e+00\u001b[0m,  \u001b[33m...\u001b[0m,  \u001b[1;36m1.8043e+00\u001b[0m,\n",
       "            \u001b[1;36m1.2773e+00\u001b[0m,  \u001b[1;36m8.3918e-01\u001b[0m\u001b[1m]\u001b[0m,\n",
       "          \u001b[1m[\u001b[0m\u001b[1;36m-1.0092e+00\u001b[0m,  \u001b[1;36m5.1592e+00\u001b[0m, \u001b[1;36m-8.3392e-01\u001b[0m,  \u001b[33m...\u001b[0m, \u001b[1;36m-8.6357e-01\u001b[0m,\n",
       "            \u001b[1;36m2.3544e+00\u001b[0m,  \u001b[1;36m4.5162e-01\u001b[0m\u001b[1m]\u001b[0m\u001b[1m]\u001b[0m\u001b[1m]\u001b[0m\u001b[1m]\u001b[0m, \u001b[33mgrad_fn\u001b[0m=\u001b[1m<\u001b[0m\u001b[1;95mUnsafeViewBackward0\u001b[0m\u001b[1m>\u001b[0m\u001b[1m)\u001b[0m\n"
      ]
     },
     "metadata": {},
     "output_type": "display_data"
    }
   ],
   "source": [
    "\n",
    "def test_mla_inference():\n",
    "    d_model = 1024\n",
    "    num_heads = 20\n",
    "    head_dim = 128\n",
    "    kv_lora_rank = 64\n",
    "    q_lora_rank = 3 * kv_lora_rank\n",
    "    rope_head_dim = 32\n",
    "\n",
    "    config = Config(\n",
    "        vocab_size=30522,\n",
    "        d_model=d_model,\n",
    "        seq_len=2048,\n",
    "        num_heads=num_heads,\n",
    "        head_dim=head_dim,\n",
    "        q_lora_rank=q_lora_rank,\n",
    "        kv_lora_rank=kv_lora_rank,\n",
    "        rope_head_dim=rope_head_dim,\n",
    "    )\n",
    "\n",
    "    mask = torch.full((1, 1, 2048, 2048), float(\"-inf\"))\n",
    "    mask = torch.triu(mask, diagonal=1)\n",
    "    \n",
    "    x = torch.randn(2, 10, d_model)\n",
    "    freqs_cis = precompute_freqs_cis(config.rope_head_dim, config.seq_len)\n",
    "    mla = MultiHeadLatentAttention(config)\n",
    "    mla_inference = MLA_Inference(config)\n",
    "\n",
    "    mla_inference.load_state_dict(mla.state_dict())\n",
    "\n",
    "    batch_size, seq_len, _ = x.shape\n",
    "\n",
    "    cq = mla.compress_q_linear(x)\n",
    "    ckv = mla.compress_kv_linear(x)\n",
    "\n",
    "\n",
    "    cq = mla.q_norm(cq)\n",
    "    ckv = mla.kv_norm(ckv)\n",
    "    \n",
    "\n",
    "    q_rope = mla.decompress_q_rope(cq)\n",
    "    k_rope = mla.k_rope_linear(x)\n",
    "\n",
    "    q_rope = q_rope.view(batch_size, seq_len, mla.num_heads, mla.rope_head_dim).transpose(1,2)\n",
    "    k_rope = k_rope.view(batch_size, seq_len, 1, mla.rope_head_dim).transpose(1,2)\n",
    "    \n",
    "    # k_rope = torch.repeat_interleave(k_rope, mla.num_heads, dim=1)\n",
    "    print(f\"q_rope.shape: {q_rope.shape}, k_rope.shape: {k_rope.shape}\")\n",
    "    attn_rope = q_rope @ k_rope.transpose(-2, -1)\n",
    "    \n",
    "\n",
    "test_mla_inference()\n"
   ]
  },
  {
   "cell_type": "code",
   "execution_count": null,
   "metadata": {},
   "outputs": [],
   "source": []
  }
 ],
 "metadata": {
  "kernelspec": {
   "display_name": ".venv",
   "language": "python",
   "name": "python3"
  },
  "language_info": {
   "codemirror_mode": {
    "name": "ipython",
    "version": 3
   },
   "file_extension": ".py",
   "mimetype": "text/x-python",
   "name": "python",
   "nbconvert_exporter": "python",
   "pygments_lexer": "ipython3",
   "version": "3.12.6"
  }
 },
 "nbformat": 4,
 "nbformat_minor": 2
}
